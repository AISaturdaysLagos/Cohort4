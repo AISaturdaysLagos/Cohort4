{
  "nbformat": 4,
  "nbformat_minor": 0,
  "metadata": {
    "colab": {
      "name": "Text preprocessing and analysis of reddit headlines.ipynb",
      "provenance": []
    },
    "kernelspec": {
      "name": "python3",
      "display_name": "Python 3"
    }
  },
  "cells": [
    {
      "cell_type": "markdown",
      "metadata": {
        "id": "BQwuJ8XhH83_",
        "colab_type": "text"
      },
      "source": [
        "#Imports"
      ]
    },
    {
      "cell_type": "code",
      "metadata": {
        "id": "nf3KOACRH7vW",
        "colab_type": "code",
        "outputId": "75fc60cd-3be9-46be-b6c7-aa45f3ded977",
        "colab": {
          "base_uri": "https://localhost:8080/",
          "height": 474
        }
      },
      "source": [
        "!pip install --upgrade https://github.com/praw-dev/praw/archive/master.zip\n",
        "import praw\n",
        "import math\n",
        "import pandas as pd\n",
        "import nltk\n",
        "from pprint import pprint\n",
        "import matplotlib.pyplot as plt\n",
        "import seaborn as sns"
      ],
      "execution_count": 0,
      "outputs": [
        {
          "output_type": "stream",
          "text": [
            "Collecting https://github.com/praw-dev/praw/archive/master.zip\n",
            "\u001b[?25l  Downloading https://github.com/praw-dev/praw/archive/master.zip\n",
            "\u001b[K     - 39.0MB 215kB/s\n",
            "\u001b[?25h  Installing build dependencies ... \u001b[?25l\u001b[?25hdone\n",
            "  Getting requirements to build wheel ... \u001b[?25l\u001b[?25hdone\n",
            "  Installing backend dependencies ... \u001b[?25l\u001b[?25hdone\n",
            "    Preparing wheel metadata ... \u001b[?25l\u001b[?25hdone\n",
            "Requirement already satisfied, skipping upgrade: websocket-client>=0.54.0 in /usr/local/lib/python3.6/dist-packages (from praw==6.4.1.dev0) (0.56.0)\n",
            "Requirement already satisfied, skipping upgrade: update-checker>=0.16 in /usr/local/lib/python3.6/dist-packages (from praw==6.4.1.dev0) (0.16)\n",
            "Requirement already satisfied, skipping upgrade: prawcore<2.0,>=1.0.1 in /usr/local/lib/python3.6/dist-packages (from praw==6.4.1.dev0) (1.0.1)\n",
            "Requirement already satisfied, skipping upgrade: six in /usr/local/lib/python3.6/dist-packages (from websocket-client>=0.54.0->praw==6.4.1.dev0) (1.12.0)\n",
            "Requirement already satisfied, skipping upgrade: requests>=2.3.0 in /usr/local/lib/python3.6/dist-packages (from update-checker>=0.16->praw==6.4.1.dev0) (2.21.0)\n",
            "Requirement already satisfied, skipping upgrade: chardet<3.1.0,>=3.0.2 in /usr/local/lib/python3.6/dist-packages (from requests>=2.3.0->update-checker>=0.16->praw==6.4.1.dev0) (3.0.4)\n",
            "Requirement already satisfied, skipping upgrade: urllib3<1.25,>=1.21.1 in /usr/local/lib/python3.6/dist-packages (from requests>=2.3.0->update-checker>=0.16->praw==6.4.1.dev0) (1.24.3)\n",
            "Requirement already satisfied, skipping upgrade: certifi>=2017.4.17 in /usr/local/lib/python3.6/dist-packages (from requests>=2.3.0->update-checker>=0.16->praw==6.4.1.dev0) (2019.6.16)\n",
            "Requirement already satisfied, skipping upgrade: idna<2.9,>=2.5 in /usr/local/lib/python3.6/dist-packages (from requests>=2.3.0->update-checker>=0.16->praw==6.4.1.dev0) (2.8)\n",
            "Building wheels for collected packages: praw\n",
            "  Building wheel for praw (PEP 517) ... \u001b[?25l\u001b[?25hdone\n",
            "  Created wheel for praw: filename=praw-6.4.1.dev0-cp36-none-any.whl size=124301 sha256=c22127445d9d2ac1291f90b9b02590bec1523e28b28b12f8075e00d663a179f5\n",
            "  Stored in directory: /tmp/pip-ephem-wheel-cache-hct0hv6c/wheels/5f/4a/b1/574031ec9fde90cdb1fbbeaa74043962e8452ebc763752ea79\n",
            "Successfully built praw\n",
            "Installing collected packages: praw\n",
            "  Found existing installation: praw 6.4.1.dev0\n",
            "    Uninstalling praw-6.4.1.dev0:\n",
            "      Successfully uninstalled praw-6.4.1.dev0\n",
            "Successfully installed praw-6.4.1.dev0\n"
          ],
          "name": "stdout"
        }
      ]
    },
    {
      "cell_type": "markdown",
      "metadata": {
        "id": "87yeH2Lg0wM3",
        "colab_type": "text"
      },
      "source": [
        "For this tutorial, we'll be using a Reddit API wrapper, called `praw`, to loop through the /r/politics subreddit headlines.\n",
        "\n",
        "To get started with `praw`, you will need to create a Reddit app and obtain your Client ID and Client Secret."
      ]
    },
    {
      "cell_type": "markdown",
      "metadata": {
        "id": "NQM0sBhS0ypf",
        "colab_type": "text"
      },
      "source": [
        "**Make a Reddit app**\n",
        "\n",
        "\n",
        "1. Log into your reddit account\n",
        "\n",
        "2. Navigate to https://www.reddit.com/prefs/apps/.\n",
        "3. Click on the button that says \"are you a developer? create an app...\"\n",
        "\n",
        "  *   Enter a name (username works)\n",
        "  *   Select \"script\"\n",
        "  *   Use http://localhost:8080 as a redirect URI\n",
        "\n",
        "\n",
        "\n",
        "4. Once you click **\"create app\"**, you'll see where your Client ID and Client Secret are.\n"
      ]
    },
    {
      "cell_type": "markdown",
      "metadata": {
        "id": "2Uo5g2xq1kW6",
        "colab_type": "text"
      },
      "source": [
        "To get started, lets create a Reddit Client.\n",
        "![Create a reddit client](https://drive.google.com/open?id=1fYog73J0poF-CusTuS1WoOGdaYpKfyyV)\n"
      ]
    },
    {
      "cell_type": "code",
      "metadata": {
        "id": "bp3x2Sx8tIEY",
        "colab_type": "code",
        "colab": {}
      },
      "source": [
        "reddit = praw.Reddit(client_id='ZeDYpbH-Uauw4Q',\n",
        "                     client_secret='mzi7iHAaZ73Smw3tlR3q8nSjFkU',\n",
        "                     user_agent='Fancy')"
      ],
      "execution_count": 0,
      "outputs": []
    },
    {
      "cell_type": "markdown",
      "metadata": {
        "id": "-170emwR6eTo",
        "colab_type": "text"
      },
      "source": [
        "Define a set of headlines so that we dont get duplicates if we run multiple times."
      ]
    },
    {
      "cell_type": "code",
      "metadata": {
        "id": "ig6heDZg0S_K",
        "colab_type": "code",
        "colab": {}
      },
      "source": [
        "headlines = set()"
      ],
      "execution_count": 0,
      "outputs": []
    },
    {
      "cell_type": "markdown",
      "metadata": {
        "id": "sy4Q9ZSbCUZk",
        "colab_type": "text"
      },
      "source": [
        "Iterate through the /r/machinelearning subreddit using the API client."
      ]
    },
    {
      "cell_type": "code",
      "metadata": {
        "id": "N3yqRK2t6ojx",
        "colab_type": "code",
        "colab": {}
      },
      "source": [
        "from IPython.display import clear_output\n",
        "clear_output(wait=True)\n",
        "\n",
        "for submission in reddit.subreddit('machinelearning').hot(limit=None):\n",
        "  headlines.add(submission.title)\n",
        "  #display.clear_output()\n",
        "  #print(headlines)"
      ],
      "execution_count": 0,
      "outputs": []
    },
    {
      "cell_type": "markdown",
      "metadata": {
        "id": "uhcSRQbKDj47",
        "colab_type": "text"
      },
      "source": [
        "We iterate over the hot posts in /r/machinelearning, setting the limit to None so we can get up to 1000 headlines."
      ]
    },
    {
      "cell_type": "markdown",
      "metadata": {
        "id": "od31x8adG9Jj",
        "colab_type": "text"
      },
      "source": [
        "# Labelling our data\n",
        "\n",
        "We will use NLTK's built-in Vader Sentiment Analyzer that ranks a piece of text as positive, negative or neutral using a lexicon of positive and negative words. \n",
        "\n",
        "We first create a **Sentiment Intensity Analyzer** to categorize our headlines, then we use **polarity_scores** method to get the sentiment.\n",
        "\n",
        "Then we append each sentiment dictionary to a results list, which we'll transform into a dataframe ."
      ]
    },
    {
      "cell_type": "code",
      "metadata": {
        "id": "zEIvT1d17fOC",
        "colab_type": "code",
        "outputId": "9c015c9f-c415-4911-f1cd-ac96ff8c70ec",
        "colab": {
          "base_uri": "https://localhost:8080/",
          "height": 390
        }
      },
      "source": [
        "nltk.download('vader_lexicon')\n",
        "from nltk.sentiment.vader import SentimentIntensityAnalyzer as SIA\n",
        "\n",
        "sia = SIA()\n",
        "results = []\n",
        "\n",
        "for line in headlines:\n",
        "  polarity_score = sia.polarity_scores(line)\n",
        "  polarity_score['headline'] = line\n",
        "  results.append(polarity_score)\n",
        "\n",
        "pprint(results[:3], width=100)"
      ],
      "execution_count": 0,
      "outputs": [
        {
          "output_type": "stream",
          "text": [
            "[nltk_data] Downloading package vader_lexicon to /root/nltk_data...\n",
            "[nltk_data]   Package vader_lexicon is already up-to-date!\n",
            "[{'compound': 0.6369,\n",
            "  'headline': '[D] How can I go about learning machine learning to help people with ALS, like '\n",
            "              'Jason Becker?',\n",
            "  'neg': 0.0,\n",
            "  'neu': 0.729,\n",
            "  'pos': 0.271},\n",
            " {'compound': -0.4019,\n",
            "  'headline': '[R] [1906.10015v1] A Review on Neural Network Models of Schizophrenia and Autism '\n",
            "              'Spectrum Disorder',\n",
            "  'neg': 0.184,\n",
            "  'neu': 0.816,\n",
            "  'pos': 0.0},\n",
            " {'compound': 0.0,\n",
            "  'headline': '[R] Research Guide for Neural Architecture Search',\n",
            "  'neg': 0.0,\n",
            "  'neu': 1.0,\n",
            "  'pos': 0.0}]\n"
          ],
          "name": "stdout"
        },
        {
          "output_type": "stream",
          "text": [
            "/usr/local/lib/python3.6/dist-packages/nltk/twitter/__init__.py:20: UserWarning: The twython library has not been installed. Some functionality from the twitter package will not be available.\n",
            "  warnings.warn(\"The twython library has not been installed. \"\n"
          ],
          "name": "stderr"
        }
      ]
    },
    {
      "cell_type": "code",
      "metadata": {
        "id": "5I55qkW1Fgnm",
        "colab_type": "code",
        "outputId": "07f1fac7-f5d7-45a6-c18b-764d2fe3852a",
        "colab": {
          "base_uri": "https://localhost:8080/",
          "height": 195
        }
      },
      "source": [
        "dataframe = pd.DataFrame.from_records(results)\n",
        "dataframe.head()"
      ],
      "execution_count": 0,
      "outputs": [
        {
          "output_type": "execute_result",
          "data": {
            "text/html": [
              "<div>\n",
              "<style scoped>\n",
              "    .dataframe tbody tr th:only-of-type {\n",
              "        vertical-align: middle;\n",
              "    }\n",
              "\n",
              "    .dataframe tbody tr th {\n",
              "        vertical-align: top;\n",
              "    }\n",
              "\n",
              "    .dataframe thead th {\n",
              "        text-align: right;\n",
              "    }\n",
              "</style>\n",
              "<table border=\"1\" class=\"dataframe\">\n",
              "  <thead>\n",
              "    <tr style=\"text-align: right;\">\n",
              "      <th></th>\n",
              "      <th>compound</th>\n",
              "      <th>headline</th>\n",
              "      <th>neg</th>\n",
              "      <th>neu</th>\n",
              "      <th>pos</th>\n",
              "    </tr>\n",
              "  </thead>\n",
              "  <tbody>\n",
              "    <tr>\n",
              "      <th>0</th>\n",
              "      <td>0.6369</td>\n",
              "      <td>[D] How can I go about learning machine learni...</td>\n",
              "      <td>0.000</td>\n",
              "      <td>0.729</td>\n",
              "      <td>0.271</td>\n",
              "    </tr>\n",
              "    <tr>\n",
              "      <th>1</th>\n",
              "      <td>-0.4019</td>\n",
              "      <td>[R] [1906.10015v1] A Review on Neural Network ...</td>\n",
              "      <td>0.184</td>\n",
              "      <td>0.816</td>\n",
              "      <td>0.000</td>\n",
              "    </tr>\n",
              "    <tr>\n",
              "      <th>2</th>\n",
              "      <td>0.0000</td>\n",
              "      <td>[R] Research Guide for Neural Architecture Search</td>\n",
              "      <td>0.000</td>\n",
              "      <td>1.000</td>\n",
              "      <td>0.000</td>\n",
              "    </tr>\n",
              "    <tr>\n",
              "      <th>3</th>\n",
              "      <td>-0.2960</td>\n",
              "      <td>[Research] Automated deep learning design for ...</td>\n",
              "      <td>0.115</td>\n",
              "      <td>0.885</td>\n",
              "      <td>0.000</td>\n",
              "    </tr>\n",
              "    <tr>\n",
              "      <th>4</th>\n",
              "      <td>-0.2732</td>\n",
              "      <td>[D] Do you guys use low level tensorflow or hi...</td>\n",
              "      <td>0.123</td>\n",
              "      <td>0.877</td>\n",
              "      <td>0.000</td>\n",
              "    </tr>\n",
              "  </tbody>\n",
              "</table>\n",
              "</div>"
            ],
            "text/plain": [
              "   compound                                           headline  ...    neu    pos\n",
              "0    0.6369  [D] How can I go about learning machine learni...  ...  0.729  0.271\n",
              "1   -0.4019  [R] [1906.10015v1] A Review on Neural Network ...  ...  0.816  0.000\n",
              "2    0.0000  [R] Research Guide for Neural Architecture Search  ...  1.000  0.000\n",
              "3   -0.2960  [Research] Automated deep learning design for ...  ...  0.885  0.000\n",
              "4   -0.2732  [D] Do you guys use low level tensorflow or hi...  ...  0.877  0.000\n",
              "\n",
              "[5 rows x 5 columns]"
            ]
          },
          "metadata": {
            "tags": []
          },
          "execution_count": 6
        }
      ]
    },
    {
      "cell_type": "markdown",
      "metadata": {
        "id": "KMBwIUw5ISsB",
        "colab_type": "text"
      },
      "source": [
        "\n",
        "\n",
        "\n",
        "---\n",
        "\n",
        "\n",
        "Our dataframe has 4 columns from the scored sentiments: **Neu**, **Neg**, **Pos** and **Compound**. \n",
        "\n",
        "The first 3 represent the sentiment score percentage of each sentiment category in our headline, and the **compound** single number scores the sentiment between a range of -1( Extremely Negative) and 1(Extremely Positive).\n",
        "\n",
        "Here we consider posts with a compound value greater than 0.2 as positive and less than 0.2 as negative. \n",
        "\n",
        "### Let us create a positive label of 1 if the **compound** is greater than 0.2, and a label of -1 if **compound** is less than 0.2. "
      ]
    },
    {
      "cell_type": "code",
      "metadata": {
        "id": "Pes3R35JH3rF",
        "colab_type": "code",
        "outputId": "9012468b-28c1-45cd-8ead-e314f23066f0",
        "colab": {
          "base_uri": "https://localhost:8080/",
          "height": 195
        }
      },
      "source": [
        "dataframe['label'] = 0\n",
        "dataframe.loc[dataframe['compound'] > 0.2, 'label'] = 1\n",
        "dataframe.loc[dataframe['compound'] < -0.2, 'label'] = -1\n",
        "dataframe.head()"
      ],
      "execution_count": 0,
      "outputs": [
        {
          "output_type": "execute_result",
          "data": {
            "text/html": [
              "<div>\n",
              "<style scoped>\n",
              "    .dataframe tbody tr th:only-of-type {\n",
              "        vertical-align: middle;\n",
              "    }\n",
              "\n",
              "    .dataframe tbody tr th {\n",
              "        vertical-align: top;\n",
              "    }\n",
              "\n",
              "    .dataframe thead th {\n",
              "        text-align: right;\n",
              "    }\n",
              "</style>\n",
              "<table border=\"1\" class=\"dataframe\">\n",
              "  <thead>\n",
              "    <tr style=\"text-align: right;\">\n",
              "      <th></th>\n",
              "      <th>compound</th>\n",
              "      <th>headline</th>\n",
              "      <th>neg</th>\n",
              "      <th>neu</th>\n",
              "      <th>pos</th>\n",
              "      <th>label</th>\n",
              "    </tr>\n",
              "  </thead>\n",
              "  <tbody>\n",
              "    <tr>\n",
              "      <th>0</th>\n",
              "      <td>0.6369</td>\n",
              "      <td>[D] How can I go about learning machine learni...</td>\n",
              "      <td>0.000</td>\n",
              "      <td>0.729</td>\n",
              "      <td>0.271</td>\n",
              "      <td>1</td>\n",
              "    </tr>\n",
              "    <tr>\n",
              "      <th>1</th>\n",
              "      <td>-0.4019</td>\n",
              "      <td>[R] [1906.10015v1] A Review on Neural Network ...</td>\n",
              "      <td>0.184</td>\n",
              "      <td>0.816</td>\n",
              "      <td>0.000</td>\n",
              "      <td>-1</td>\n",
              "    </tr>\n",
              "    <tr>\n",
              "      <th>2</th>\n",
              "      <td>0.0000</td>\n",
              "      <td>[R] Research Guide for Neural Architecture Search</td>\n",
              "      <td>0.000</td>\n",
              "      <td>1.000</td>\n",
              "      <td>0.000</td>\n",
              "      <td>0</td>\n",
              "    </tr>\n",
              "    <tr>\n",
              "      <th>3</th>\n",
              "      <td>-0.2960</td>\n",
              "      <td>[Research] Automated deep learning design for ...</td>\n",
              "      <td>0.115</td>\n",
              "      <td>0.885</td>\n",
              "      <td>0.000</td>\n",
              "      <td>-1</td>\n",
              "    </tr>\n",
              "    <tr>\n",
              "      <th>4</th>\n",
              "      <td>-0.2732</td>\n",
              "      <td>[D] Do you guys use low level tensorflow or hi...</td>\n",
              "      <td>0.123</td>\n",
              "      <td>0.877</td>\n",
              "      <td>0.000</td>\n",
              "      <td>-1</td>\n",
              "    </tr>\n",
              "  </tbody>\n",
              "</table>\n",
              "</div>"
            ],
            "text/plain": [
              "   compound                                           headline  ...    pos  label\n",
              "0    0.6369  [D] How can I go about learning machine learni...  ...  0.271      1\n",
              "1   -0.4019  [R] [1906.10015v1] A Review on Neural Network ...  ...  0.000     -1\n",
              "2    0.0000  [R] Research Guide for Neural Architecture Search  ...  0.000      0\n",
              "3   -0.2960  [Research] Automated deep learning design for ...  ...  0.000     -1\n",
              "4   -0.2732  [D] Do you guys use low level tensorflow or hi...  ...  0.000     -1\n",
              "\n",
              "[5 rows x 6 columns]"
            ]
          },
          "metadata": {
            "tags": []
          },
          "execution_count": 7
        }
      ]
    },
    {
      "cell_type": "markdown",
      "metadata": {
        "id": "z-q1dbIeKfet",
        "colab_type": "text"
      },
      "source": [
        "Now, lets save our data to a csv file."
      ]
    },
    {
      "cell_type": "code",
      "metadata": {
        "id": "5zhOtkCBKQUq",
        "colab_type": "code",
        "colab": {}
      },
      "source": [
        "new_dataframe = dataframe[['headline', 'label']]\n",
        "new_dataframe.to_csv('reddit_ML_headlines_with_labels.csv', mode = 'a', encoding='utf-8', index=False)"
      ],
      "execution_count": 0,
      "outputs": []
    },
    {
      "cell_type": "markdown",
      "metadata": {
        "id": "rEXZpA2qLHd3",
        "colab_type": "text"
      },
      "source": [
        "# Dataset Statistics\n",
        "\n",
        "Lets look at a few positive and negative headlines."
      ]
    },
    {
      "cell_type": "code",
      "metadata": {
        "id": "a3snH3LBK_zJ",
        "colab_type": "code",
        "outputId": "26911f87-1fab-4113-cfd2-c84a957af541",
        "colab": {
          "base_uri": "https://localhost:8080/",
          "height": 306
        }
      },
      "source": [
        "print(\"Positive headlines:\\n\")\n",
        "pprint(list(dataframe[dataframe['label'] ==1].headline)[:5], width=200)\n",
        "\n",
        "print(\"\\nNegative headlines:\\n\")\n",
        "pprint(list(dataframe[dataframe['label'] ==-1].headline)[:5], width=200)"
      ],
      "execution_count": 0,
      "outputs": [
        {
          "output_type": "stream",
          "text": [
            "Positive headlines:\n",
            "\n",
            "['[D] How can I go about learning machine learning to help people with ALS, like Jason Becker?',\n",
            " '[P] Using protein sequences to make better classifiers in bioinformatics',\n",
            " '[R] Work Related to Normalizing Unicode using Computer Vision',\n",
            " '[D] What are some promising research directions for model-based RL?',\n",
            " '[D] AAAI 2020: is it worth it?']\n",
            "\n",
            "Negative headlines:\n",
            "\n",
            "['[R] [1906.10015v1] A Review on Neural Network Models of Schizophrenia and Autism Spectrum Disorder',\n",
            " '[Research] Automated deep learning design for medical image classification by health-care professionals with no coding experience: a feasibility study',\n",
            " '[D] Do you guys use low level tensorflow or high level Keras to build neural nets?',\n",
            " '[Discussion] Wait for a unified company ML platform, and loose at least a year, if not more, before the project moves forward, or go with our own readily available tools, but incur a ton of '\n",
            " 'technical debt in the process?',\n",
            " '[P] Image Manipulation and Classification: Identifying traffic objects']\n"
          ],
          "name": "stdout"
        }
      ]
    },
    {
      "cell_type": "markdown",
      "metadata": {
        "id": "9xgwaqymMT6d",
        "colab_type": "text"
      },
      "source": [
        "### Now let us check how many total positives and negatives we have in our dataset."
      ]
    },
    {
      "cell_type": "code",
      "metadata": {
        "id": "w_OwuVWHL5Xe",
        "colab_type": "code",
        "outputId": "eb91b1fc-35e3-491a-fb3e-26435f8e8a22",
        "colab": {
          "base_uri": "https://localhost:8080/",
          "height": 151
        }
      },
      "source": [
        "print(dataframe.label.value_counts())\n",
        "\n",
        "print(dataframe.label.value_counts(normalize = True) * 100)"
      ],
      "execution_count": 0,
      "outputs": [
        {
          "output_type": "stream",
          "text": [
            " 0    212\n",
            " 1     74\n",
            "-1     27\n",
            "Name: label, dtype: int64\n",
            " 0    67.731629\n",
            " 1    23.642173\n",
            "-1     8.626198\n",
            "Name: label, dtype: float64\n"
          ],
          "name": "stdout"
        }
      ]
    },
    {
      "cell_type": "markdown",
      "metadata": {
        "id": "H-1MBW7jNJXT",
        "colab_type": "text"
      },
      "source": [
        "The first line displays the raw value counts of the labels, while the second line displays the percentage with the **normalize** keyword.\n",
        "\n",
        "**Let's plot a bar chart:**"
      ]
    },
    {
      "cell_type": "code",
      "metadata": {
        "id": "jgwDvjCkM2RS",
        "colab_type": "code",
        "outputId": "f2c421cc-33aa-40dd-ea2b-8f1e3a2be4d8",
        "colab": {
          "base_uri": "https://localhost:8080/",
          "height": 486
        }
      },
      "source": [
        "fig, ax = plt.subplots(figsize=(8, 8))\n",
        "\n",
        "counts = dataframe.label.value_counts(normalize=True) * 100\n",
        "\n",
        "sns.barplot(x=counts.index, y=counts, ax=ax)\n",
        "\n",
        "ax.set_xticklabels(['Negative', 'Neutral', 'Positive'])\n",
        "ax.set_ylabel(\"Percentage\")\n",
        "\n",
        "plt.show()"
      ],
      "execution_count": 0,
      "outputs": [
        {
          "output_type": "display_data",
          "data": {
            "image/png": "[encoded data removed]",
            "text/plain": [
              "<Figure size 576x576 with 1 Axes>"
            ]
          },
          "metadata": {
            "tags": []
          }
        }
      ]
    },
    {
      "cell_type": "markdown",
      "metadata": {
        "id": "skPIpaGFQphK",
        "colab_type": "text"
      },
      "source": [
        "The large number of neutral headlines to due to some reasons:\n",
        "\n",
        "\n",
        "\n",
        "1.   We assumed earlier that headlines with compound value between 0.2 and -0.2 are neutral. The higher the margin, the larger the number of neutral headlines. \n",
        "2.   We used a general lexicon to categorize machine learning news . The more correct way is to use a machine learning lexicon. The more correct way is to use a political-specific lexicon, but for that we would either need a human to manually label data, or we would need to find a custom lexicon already made.\n",
        "\n",
        "Another interesting observation is the number of positive headlines, which could be attributed to context of questions. Another possibility is that our analyzer produced a lot of false positives.\n",
        "\n",
        "\n"
      ]
    },
    {
      "cell_type": "markdown",
      "metadata": {
        "id": "z3SYFxpAcC1o",
        "colab_type": "text"
      },
      "source": [
        "#Tokenizers and Stopwords\n",
        "\n",
        "Now that we have gathered labelled data, lets explore some preprocessing techniques to help us get a cleare understanding of our dataset.\n",
        "\n",
        "**Tokenization** is the process of breaking a stream of text into smaller units called tokens. \n",
        "\n",
        "In our case, our headlines will be considered as sentences and so we will use a word tokenizer.\n",
        "\n",
        "We create a function that reads a list of headlines and performs lowercasing, tokenization and stop-word removal. \n"
      ]
    },
    {
      "cell_type": "code",
      "metadata": {
        "id": "lSn0OEwucBEp",
        "colab_type": "code",
        "outputId": "ebed74bb-2f0d-436f-f34a-30d18fc17603",
        "colab": {
          "base_uri": "https://localhost:8080/",
          "height": 50
        }
      },
      "source": [
        "from nltk.tokenize import word_tokenize, RegexpTokenizer\n",
        "from nltk.corpus import stopwords\n",
        "nltk.download('stopwords')\n",
        "tokenizer = RegexpTokenizer(r'\\w+')\n",
        "stop_words = stopwords.words('english')"
      ],
      "execution_count": 0,
      "outputs": [
        {
          "output_type": "stream",
          "text": [
            "[nltk_data] Downloading package stopwords to /root/nltk_data...\n",
            "[nltk_data]   Package stopwords is already up-to-date!\n"
          ],
          "name": "stdout"
        }
      ]
    },
    {
      "cell_type": "code",
      "metadata": {
        "id": "Gk2GoO_OQBHJ",
        "colab_type": "code",
        "colab": {}
      },
      "source": [
        "def preprocess_text(headlines):\n",
        "  tokens = []\n",
        "  for line in headlines:\n",
        "    token = tokenizer.tokenize(line)\n",
        "    token = [t.lower() for t in token if t.lower() not in stop_words]\n",
        "    tokens.extend(token)\n",
        "    \n",
        "  return tokens"
      ],
      "execution_count": 0,
      "outputs": []
    },
    {
      "cell_type": "markdown",
      "metadata": {
        "id": "jvUdXqvMeQRU",
        "colab_type": "text"
      },
      "source": [
        "# Positive words \n",
        "We can get all the positive label headlines from our dataframe, input into our function and use NLTK's `FreqDist` function to get the most common words in the positive headlines"
      ]
    },
    {
      "cell_type": "code",
      "metadata": {
        "id": "4ZuxMH7JeLRo",
        "colab_type": "code",
        "outputId": "7f27f4e0-1b63-4661-e1f3-bf3664826ec6",
        "colab": {
          "base_uri": "https://localhost:8080/",
          "height": 353
        }
      },
      "source": [
        "positive_lines = list(dataframe[dataframe.label == 1].headline)\n",
        "\n",
        "positive_tokens = preprocess_text(positive_lines)\n",
        "positive_frequency = nltk.FreqDist(positive_tokens)\n",
        "\n",
        "positive_frequency.most_common(20)"
      ],
      "execution_count": 0,
      "outputs": [
        {
          "output_type": "execute_result",
          "data": {
            "text/plain": [
              "[('learning', 19),\n",
              " ('r', 17),\n",
              " ('p', 13),\n",
              " ('research', 8),\n",
              " ('model', 8),\n",
              " ('based', 7),\n",
              " ('deep', 7),\n",
              " ('neural', 7),\n",
              " ('machine', 6),\n",
              " ('help', 6),\n",
              " ('project', 6),\n",
              " ('best', 6),\n",
              " ('like', 5),\n",
              " ('networks', 5),\n",
              " ('ml', 5),\n",
              " ('using', 4),\n",
              " ('vision', 4),\n",
              " ('training', 4),\n",
              " ('artificial', 4),\n",
              " ('intelligence', 4)]"
            ]
          },
          "metadata": {
            "tags": []
          },
          "execution_count": 14
        }
      ]
    },
    {
      "cell_type": "markdown",
      "metadata": {
        "id": "gGFk6Yw_gEic",
        "colab_type": "text"
      },
      "source": [
        "Let us see the frequency of some of the top words in our positive set .\n",
        "\n",
        "\n",
        "\n",
        "Interestingly, the most positive headline word is 'learning' ! Most likely from **Machine Learning and Deep Learning** .\n",
        "\n",
        "It is also interesting to see top positive words like ** model, deep, research** . We will also check the negative word section and the most common negative words. \n",
        "\n",
        "### Let’s look at more macroscopic side by plotting the frequency distribution and try to examine the pattern of words and not each word specifically."
      ]
    },
    {
      "cell_type": "code",
      "metadata": {
        "id": "arqmaxqYfH6o",
        "colab_type": "code",
        "outputId": "64c6e3d8-9c0f-431c-dace-83ce30f90fdf",
        "colab": {
          "base_uri": "https://localhost:8080/",
          "height": 350
        }
      },
      "source": [
        "y_val = [x[1] for x in positive_frequency.most_common()]\n",
        "\n",
        "fig = plt.figure(figsize=(10,5))\n",
        "plt.plot(y_val)\n",
        "\n",
        "plt.xlabel('Words')\n",
        "plt.ylabel('Frequency')\n",
        "plt.title(\"Word Frequency Distribution (Positive)\")\n",
        "plt.show()"
      ],
      "execution_count": 0,
      "outputs": [
        {
          "output_type": "display_data",
          "data": {
            "image/png": "[encoded data removed]",
            "text/plain": [
              "<Figure size 720x360 with 1 Axes>"
            ]
          },
          "metadata": {
            "tags": []
          }
        }
      ]
    },
    {
      "cell_type": "markdown",
      "metadata": {
        "id": "U2ksj8tokCJi",
        "colab_type": "text"
      },
      "source": [
        "The chart above shows the frequency patterns, the y-axis is the frquency of the words and x-axis is the words ranked by their frequency . So the most frequent word, in our case is \"learning\" and is plotted at **(1, 74)**"
      ]
    },
    {
      "cell_type": "code",
      "metadata": {
        "id": "ug9gVy3_j3qi",
        "colab_type": "code",
        "outputId": "2487e541-e1dd-4230-f7b3-2aea8ca44672",
        "colab": {
          "base_uri": "https://localhost:8080/",
          "height": 350
        }
      },
      "source": [
        "y_final = []\n",
        "for i, k, z, t in zip(y_val[0::4], y_val[1::4], y_val[2::4], y_val[3::4]):\n",
        "  y_final.append(math.log(i + k + z + t))\n",
        "  \n",
        "x_val = [math.log(i+1) for i in range(len(y_final))]\n",
        "\n",
        "fig = plt.figure(figsize=(10,5))\n",
        "\n",
        "plt.xlabel(\"Words (Log)\")\n",
        "plt.ylabel(\"Frequency (Log)\")\n",
        "plt.title(\"Word Frequency Distribution (Positive)\")\n",
        "plt.plot(x_val, y_final)\n",
        "plt.show()"
      ],
      "execution_count": 0,
      "outputs": [
        {
          "output_type": "display_data",
          "data": {
            "image/png": "[encoded data removed]",
            "text/plain": [
              "<Figure size 720x360 with 1 Axes>"
            ]
          },
          "metadata": {
            "tags": []
          }
        }
      ]
    },
    {
      "cell_type": "markdown",
      "metadata": {
        "id": "HVMa3P85mOYv",
        "colab_type": "text"
      },
      "source": [
        "We have an almost straight line with a heavy tail (noisy tail). This shows that our data fits under the Zipf’s Law. \n",
        "\n",
        "Zipf's law states that given a large sample of words used, the frequency of any word is inversely proportional to its rank in the frequency table. So word number n has a frequency proportional to 1/n.\n",
        "\n",
        "Thus the most frequent word will occur about twice as often as the second most frequent word, three times as often as the third most frequent word. \n",
        "\n",
        "The above log plot shows that in our word distribution a vast minority of the words appear the most, while the majority of words appear less."
      ]
    },
    {
      "cell_type": "markdown",
      "metadata": {
        "id": "d-kciiPlm9Cm",
        "colab_type": "text"
      },
      "source": [
        "# Negative Words\n",
        "\n",
        "After looking at the positive words, lets move over to the negative ones. \n",
        "\n",
        "We first get and the negative text data and preprocess it.\n"
      ]
    },
    {
      "cell_type": "code",
      "metadata": {
        "id": "UeoMqdIlk-uK",
        "colab_type": "code",
        "outputId": "d5867917-722f-4cc5-e258-d0ecf55eb9fe",
        "colab": {
          "base_uri": "https://localhost:8080/",
          "height": 353
        }
      },
      "source": [
        "negative_lines = list(dataframe[dataframe.label == -1].headline)\n",
        "\n",
        "negative_tokens = preprocess_text(negative_lines)\n",
        "negative_frequency = nltk.FreqDist(negative_tokens)\n",
        "\n",
        "negative_frequency.most_common(20)"
      ],
      "execution_count": 0,
      "outputs": [
        {
          "output_type": "execute_result",
          "data": {
            "text/plain": [
              "[('r', 5),\n",
              " ('adversarial', 4),\n",
              " ('neural', 3),\n",
              " ('image', 3),\n",
              " ('classification', 3),\n",
              " ('face', 3),\n",
              " ('news', 3),\n",
              " ('students', 3),\n",
              " ('network', 2),\n",
              " ('research', 2),\n",
              " ('study', 2),\n",
              " ('level', 2),\n",
              " ('ml', 2),\n",
              " ('project', 2),\n",
              " ('available', 2),\n",
              " ('objects', 2),\n",
              " ('attacking', 2),\n",
              " ('classifier', 2),\n",
              " ('math', 2),\n",
              " ('games', 2)]"
            ]
          },
          "metadata": {
            "tags": []
          },
          "execution_count": 21
        }
      ]
    },
    {
      "cell_type": "markdown",
      "metadata": {
        "id": "G37B1YBKoIZL",
        "colab_type": "text"
      },
      "source": [
        "Some more analysis is needed to pin down the differences to see if we can get more accurate negative words, but for now let's move on to some of the plots for negative word distributions:"
      ]
    },
    {
      "cell_type": "code",
      "metadata": {
        "id": "Dn0COlugnsAb",
        "colab_type": "code",
        "outputId": "1143a85d-cb89-4c84-955b-8352a50b8a9f",
        "colab": {
          "base_uri": "https://localhost:8080/",
          "height": 350
        }
      },
      "source": [
        "y__val = [x[1] for x in negative_frequency.most_common()]\n",
        "\n",
        "fig = plt.figure(figsize= (10,5))\n",
        "plt.plot(y_val)\n",
        "\n",
        "plt.xlabel(\"Words\")\n",
        "plt.ylabel(\"Frequency\")\n",
        "plt.title(\"Word Frequency Distribution (Negative)\")\n",
        "plt.show()"
      ],
      "execution_count": 0,
      "outputs": [
        {
          "output_type": "display_data",
          "data": {
            "image/png": "[encoded data removed]",
            "text/plain": [
              "<Figure size 720x360 with 1 Axes>"
            ]
          },
          "metadata": {
            "tags": []
          }
        }
      ]
    },
    {
      "cell_type": "code",
      "metadata": {
        "id": "1nJ-WdldpDdS",
        "colab_type": "code",
        "outputId": "a457defa-dffe-44c4-b176-625950ba5217",
        "colab": {
          "base_uri": "https://localhost:8080/",
          "height": 350
        }
      },
      "source": [
        "y_final = []\n",
        "for i, k, z in zip(y_val[0::3], y_val[1::3], y_val[2::3]):\n",
        "  if i + k + z == 0:\n",
        "    break\n",
        "  y_final.append(math.log(i + k + z))\n",
        "  \n",
        "x_val = [math.log(i+1) for i in range(len(y_final))]\n",
        "\n",
        "fig = plt.figure(figsize=(10,5))\n",
        "\n",
        "plt.xlabel(\"Words (Log)\")\n",
        "plt.ylabel(\"Frequency (Log)\")\n",
        "plt.title(\"Word Frequency Distribution (Negative)\")\n",
        "plt.plot(x_val, y_final)\n",
        "plt.show()"
      ],
      "execution_count": 0,
      "outputs": [
        {
          "output_type": "display_data",
          "data": {
            "image/png": "[encoded data removed]",
            "text/plain": [
              "<Figure size 720x360 with 1 Axes>"
            ]
          },
          "metadata": {
            "tags": []
          }
        }
      ]
    },
    {
      "cell_type": "markdown",
      "metadata": {
        "id": "gIxIWzyHq9S6",
        "colab_type": "text"
      },
      "source": [
        "### Conclusion"
      ]
    },
    {
      "cell_type": "markdown",
      "metadata": {
        "id": "dReUCLApq9a0",
        "colab_type": "text"
      },
      "source": [
        "# Assignment \n",
        "**Scrape yelp reviews on 5 restaurants in San Francisco and perform the following.**\n",
        "\n",
        "Write regular expressions for the following: \n",
        "1. The set of all alphabetic strings;\n",
        "2. The set of all lower case alphabetic strings ending in a b;\n",
        "\n",
        "Perform Sentiment analysis on the reviews. \n"
      ]
    },
    {
      "cell_type": "code",
      "metadata": {
        "id": "1Xivw8sVrIta",
        "colab_type": "code",
        "colab": {}
      },
      "source": [
        ""
      ],
      "execution_count": 0,
      "outputs": []
    }
  ]
}