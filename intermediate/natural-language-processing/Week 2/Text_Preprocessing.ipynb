{
  "nbformat": 4,
  "nbformat_minor": 0,
  "metadata": {
    "colab": {
      "name": "Text_Preprocessing.ipynb",
      "provenance": [],
      "collapsed_sections": [
        "fR4anQrBbdBf",
        "ZZ1xccCSdOjK",
        "BREnprbAconY",
        "HrOh77bUvm1t",
        "BAYRrVgAvyHJ",
        "ioLbMv01v5xf",
        "izt3qeR8DD1l"
      ]
    },
    "kernelspec": {
      "name": "python3",
      "display_name": "Python 3"
    }
  },
  "cells": [
    {
      "cell_type": "markdown",
      "metadata": {
        "id": "evoLKZRKPBP6",
        "colab_type": "text"
      },
      "source": [
        "# Imports"
      ]
    },
    {
      "cell_type": "markdown",
      "metadata": {
        "id": "dAMVapjnPFyT",
        "colab_type": "text"
      },
      "source": [
        "The Natural Language Toolkit (NLTK) is a Python library for handling natural language processing (NLP) tasks, ranging from segmenting words or sentences to performing advanced tasks, such as parsing grammar and classifying text. "
      ]
    },
    {
      "cell_type": "code",
      "metadata": {
        "id": "4GgMi79UO7PF",
        "colab_type": "code",
        "colab": {}
      },
      "source": [
        "#Loading NLTK\n",
        "import nltk"
      ],
      "execution_count": 0,
      "outputs": []
    },
    {
      "cell_type": "markdown",
      "metadata": {
        "id": "BywBtXqMPcGp",
        "colab_type": "text"
      },
      "source": [
        "# Tokenization\n",
        "Word tokens are the basic units of text involved in any NLP task. The first step, when processing text, is to split it into tokens. NLTK provides different types of tokenizers for doing this. We will look at how to tokenize Twitter comments from the Twitter samples corpora, available in NLTK."
      ]
    },
    {
      "cell_type": "markdown",
      "metadata": {
        "id": "mq-3bkcow7wC",
        "colab_type": "text"
      },
      "source": [
        "# Sentence Tokenization\n",
        "\n",
        "Breaks text paragraphs into sentences"
      ]
    },
    {
      "cell_type": "code",
      "metadata": {
        "id": "OJkVVyHVxEwy",
        "colab_type": "code",
        "outputId": "86a4a917-079c-4837-d277-bfb34e65b125",
        "colab": {
          "base_uri": "https://localhost:8080/",
          "height": 50
        }
      },
      "source": [
        "nltk.download('punkt')\n",
        "from nltk.tokenize import sent_tokenize\n",
        "Text = \"How did he know those men are guilty ? Now , what difference does it make , as long as they 're the men that did it ? But it does make a difference , does n't it , Mr . Kyle ? What were those men guilty of , murder or just acting on your instructions ? Oh , that 's ridiculous . What reason would he have to do a thing like this ? Well , maybe I can give you a clue . Which one did you want killed , Kyle , the man or the woman ?\""
      ],
      "execution_count": 0,
      "outputs": [
        {
          "output_type": "stream",
          "text": [
            "[nltk_data] Downloading package punkt to /root/nltk_data...\n",
            "[nltk_data]   Unzipping tokenizers/punkt.zip.\n"
          ],
          "name": "stdout"
        }
      ]
    },
    {
      "cell_type": "code",
      "metadata": {
        "id": "mHJzcOIZxEzW",
        "colab_type": "code",
        "outputId": "ccf19264-219f-4252-d691-c5d7cab78edc",
        "colab": {
          "base_uri": "https://localhost:8080/",
          "height": 54
        }
      },
      "source": [
        "tokenized_sentence = sent_tokenize(Text)\n",
        "print(tokenized_sentence)"
      ],
      "execution_count": 0,
      "outputs": [
        {
          "output_type": "stream",
          "text": [
            "['How did he know those men are guilty ?', \"Now , what difference does it make , as long as they 're the men that did it ?\", \"But it does make a difference , does n't it , Mr .\", 'Kyle ?', 'What were those men guilty of , murder or just acting on your instructions ?', \"Oh , that 's ridiculous .\", 'What reason would he have to do a thing like this ?', 'Well , maybe I can give you a clue .', 'Which one did you want killed , Kyle , the man or the woman ?']\n"
          ],
          "name": "stdout"
        }
      ]
    },
    {
      "cell_type": "markdown",
      "metadata": {
        "id": "x9xivocIZunw",
        "colab_type": "text"
      },
      "source": [
        "# Word Tokenization\n",
        "\n",
        "Word tokenizer breaks text paragraph into words."
      ]
    },
    {
      "cell_type": "code",
      "metadata": {
        "id": "bIwsJ23CZ6YS",
        "colab_type": "code",
        "outputId": "b0904307-7d3a-4cd7-d09d-87450273822f",
        "colab": {
          "base_uri": "https://localhost:8080/",
          "height": 54
        }
      },
      "source": [
        "from nltk.tokenize import word_tokenize\n",
        "tokenized_word = word_tokenize(Text)\n",
        "print(tokenized_word)"
      ],
      "execution_count": 0,
      "outputs": [
        {
          "output_type": "stream",
          "text": [
            "['How', 'did', 'he', 'know', 'those', 'men', 'are', 'guilty', '?', 'Now', ',', 'what', 'difference', 'does', 'it', 'make', ',', 'as', 'long', 'as', 'they', \"'re\", 'the', 'men', 'that', 'did', 'it', '?', 'But', 'it', 'does', 'make', 'a', 'difference', ',', 'does', \"n't\", 'it', ',', 'Mr', '.', 'Kyle', '?', 'What', 'were', 'those', 'men', 'guilty', 'of', ',', 'murder', 'or', 'just', 'acting', 'on', 'your', 'instructions', '?', 'Oh', ',', 'that', \"'s\", 'ridiculous', '.', 'What', 'reason', 'would', 'he', 'have', 'to', 'do', 'a', 'thing', 'like', 'this', '?', 'Well', ',', 'maybe', 'I', 'can', 'give', 'you', 'a', 'clue', '.', 'Which', 'one', 'did', 'you', 'want', 'killed', ',', 'Kyle', ',', 'the', 'man', 'or', 'the', 'woman', '?']\n"
          ],
          "name": "stdout"
        }
      ]
    },
    {
      "cell_type": "markdown",
      "metadata": {
        "id": "VK43iHtyahlB",
        "colab_type": "text"
      },
      "source": [
        "Let's try this with NLTK's inbuilt data.\n",
        "\n"
      ]
    },
    {
      "cell_type": "code",
      "metadata": {
        "id": "2IKf9OZnROM7",
        "colab_type": "code",
        "outputId": "2e5581fc-c20f-46af-9356-72ae7ec54108",
        "colab": {
          "base_uri": "https://localhost:8080/",
          "height": 50
        }
      },
      "source": [
        "# Use the NLTK Downloader to obtain the Twitter Corpus\n",
        "nltk.download('twitter_samples')\n",
        "from nltk.corpus import twitter_samples as ts"
      ],
      "execution_count": 0,
      "outputs": [
        {
          "output_type": "stream",
          "text": [
            "[nltk_data] Downloading package twitter_samples to /root/nltk_data...\n",
            "[nltk_data]   Unzipping corpora/twitter_samples.zip.\n"
          ],
          "name": "stdout"
        }
      ]
    },
    {
      "cell_type": "code",
      "metadata": {
        "id": "eg1F0oRxQ81E",
        "colab_type": "code",
        "outputId": "e86dd975-cfb5-4c42-f789-d50d9ab64554",
        "colab": {
          "base_uri": "https://localhost:8080/",
          "height": 34
        }
      },
      "source": [
        "ts.fileids()"
      ],
      "execution_count": 0,
      "outputs": [
        {
          "output_type": "execute_result",
          "data": {
            "text/plain": [
              "['negative_tweets.json', 'positive_tweets.json', 'tweets.20150430-223406.json']"
            ]
          },
          "metadata": {
            "tags": []
          },
          "execution_count": 6
        }
      ]
    },
    {
      "cell_type": "code",
      "metadata": {
        "id": "oFAT7WG8Q-s8",
        "colab_type": "code",
        "outputId": "889142d4-cc6c-4234-9a86-5cb1b7f6625d",
        "colab": {
          "base_uri": "https://localhost:8080/",
          "height": 34
        }
      },
      "source": [
        "# Obtain a subset of negative_tweets.json\n",
        "negative_tweets = ts.strings('negative_tweets.json')\n",
        "sample_tweets = negative_tweets[1]\n",
        "print(sample_tweets)"
      ],
      "execution_count": 0,
      "outputs": [
        {
          "output_type": "stream",
          "text": [
            "Everything in the kids section of IKEA is so cute. Shame I'm nearly 19 in 2 months :(\n"
          ],
          "name": "stdout"
        }
      ]
    },
    {
      "cell_type": "code",
      "metadata": {
        "id": "2zt3EUGESB2J",
        "colab_type": "code",
        "outputId": "e9b6e68d-82d0-4990-d78c-4695af01aee1",
        "colab": {
          "base_uri": "https://localhost:8080/",
          "height": 403
        }
      },
      "source": [
        "nltk.download('punkt')\n",
        "from nltk.tokenize import word_tokenize as wtoken\n",
        "wtoken(sample_tweets)"
      ],
      "execution_count": 0,
      "outputs": [
        {
          "output_type": "stream",
          "text": [
            "[nltk_data] Downloading package punkt to /root/nltk_data...\n",
            "[nltk_data]   Package punkt is already up-to-date!\n"
          ],
          "name": "stdout"
        },
        {
          "output_type": "execute_result",
          "data": {
            "text/plain": [
              "['Everything',\n",
              " 'in',\n",
              " 'the',\n",
              " 'kids',\n",
              " 'section',\n",
              " 'of',\n",
              " 'IKEA',\n",
              " 'is',\n",
              " 'so',\n",
              " 'cute',\n",
              " '.',\n",
              " 'Shame',\n",
              " 'I',\n",
              " \"'m\",\n",
              " 'nearly',\n",
              " '19',\n",
              " 'in',\n",
              " '2',\n",
              " 'months',\n",
              " ':',\n",
              " '(']"
            ]
          },
          "metadata": {
            "tags": []
          },
          "execution_count": 8
        }
      ]
    },
    {
      "cell_type": "markdown",
      "metadata": {
        "id": "OZAvak5hUBUe",
        "colab_type": "text"
      },
      "source": [
        "**To split text based on punctuation and white spaces, NLTK provides the wordpunct_tokenize tokenizer.**\n",
        "\n",
        "**This will also tokenize the punctuation characters. This step is illustrated in the following code.**"
      ]
    },
    {
      "cell_type": "code",
      "metadata": {
        "id": "CoD7u-gmTPyz",
        "colab_type": "code",
        "outputId": "f09ffaf0-2794-4d9b-b8be-9f343d2a5551",
        "colab": {
          "base_uri": "https://localhost:8080/",
          "height": 370
        }
      },
      "source": [
        "from nltk.tokenize import wordpunct_tokenize\n",
        "wordpunct_tokenize(sample_tweets)"
      ],
      "execution_count": 0,
      "outputs": [
        {
          "output_type": "execute_result",
          "data": {
            "text/plain": [
              "['Everything',\n",
              " 'in',\n",
              " 'the',\n",
              " 'kids',\n",
              " 'section',\n",
              " 'of',\n",
              " 'IKEA',\n",
              " 'is',\n",
              " 'so',\n",
              " 'cute',\n",
              " '.',\n",
              " 'Shame',\n",
              " 'I',\n",
              " \"'\",\n",
              " 'm',\n",
              " 'nearly',\n",
              " '19',\n",
              " 'in',\n",
              " '2',\n",
              " 'months',\n",
              " ':(']"
            ]
          },
          "metadata": {
            "tags": []
          },
          "execution_count": 9
        }
      ]
    },
    {
      "cell_type": "markdown",
      "metadata": {
        "id": "rJcNKRHsWaHy",
        "colab_type": "text"
      },
      "source": [
        "As you can see above, some of the words between hyphens are also tokenized as well as other punctuations mark, compared to the word_tokenize.\n",
        "\n",
        "We can build custom tokenizers using NLTK's regular expression tokenizer.\n",
        "\n",
        "Let us use a simple regular expression (regexp) to detect a word containing only alphanumeric characters"
      ]
    },
    {
      "cell_type": "code",
      "metadata": {
        "id": "1ougRy3JVtHG",
        "colab_type": "code",
        "outputId": "6371064d-93ce-4704-af17-e32dc7754f04",
        "colab": {
          "base_uri": "https://localhost:8080/",
          "height": 319
        }
      },
      "source": [
        "from nltk import regexp_tokenize\n",
        "patn = '\\w+'\n",
        "regexp_tokenize(sample_tweets, patn)"
      ],
      "execution_count": 0,
      "outputs": [
        {
          "output_type": "execute_result",
          "data": {
            "text/plain": [
              "['Everything',\n",
              " 'in',\n",
              " 'the',\n",
              " 'kids',\n",
              " 'section',\n",
              " 'of',\n",
              " 'IKEA',\n",
              " 'is',\n",
              " 'so',\n",
              " 'cute',\n",
              " 'Shame',\n",
              " 'I',\n",
              " 'm',\n",
              " 'nearly',\n",
              " '19',\n",
              " 'in',\n",
              " '2',\n",
              " 'months']"
            ]
          },
          "metadata": {
            "tags": []
          },
          "execution_count": 10
        }
      ]
    },
    {
      "cell_type": "markdown",
      "metadata": {
        "id": "vzqyKc3VYhiL",
        "colab_type": "text"
      },
      "source": [
        "As another example, we will use a regular expression that detects words along with a few punctuation characters ."
      ]
    },
    {
      "cell_type": "code",
      "metadata": {
        "id": "fCvskHBrYIsC",
        "colab_type": "code",
        "outputId": "a23a8c06-42bc-430b-9d34-aafb6be22b07",
        "colab": {
          "base_uri": "https://localhost:8080/",
          "height": 319
        }
      },
      "source": [
        "patn = '\\w+|[!,\\-,]'\n",
        "regexp_tokenize(sample_tweets, patn)"
      ],
      "execution_count": 0,
      "outputs": [
        {
          "output_type": "execute_result",
          "data": {
            "text/plain": [
              "['Everything',\n",
              " 'in',\n",
              " 'the',\n",
              " 'kids',\n",
              " 'section',\n",
              " 'of',\n",
              " 'IKEA',\n",
              " 'is',\n",
              " 'so',\n",
              " 'cute',\n",
              " 'Shame',\n",
              " 'I',\n",
              " 'm',\n",
              " 'nearly',\n",
              " '19',\n",
              " 'in',\n",
              " '2',\n",
              " 'months']"
            ]
          },
          "metadata": {
            "tags": []
          },
          "execution_count": 11
        }
      ]
    },
    {
      "cell_type": "markdown",
      "metadata": {
        "id": "fR4anQrBbdBf",
        "colab_type": "text"
      },
      "source": [
        "# Frequency Distribution"
      ]
    },
    {
      "cell_type": "code",
      "metadata": {
        "id": "TT-hsROUbdWj",
        "colab_type": "code",
        "outputId": "5e3adf7f-5ba7-4bcc-c66d-1b25800eef6d",
        "colab": {
          "base_uri": "https://localhost:8080/"
        }
      },
      "source": [
        "from nltk.probability import FreqDist\n",
        "freq_distribution = FreqDist(tokenized_word)\n",
        "print(freq_distribution)"
      ],
      "execution_count": 0,
      "outputs": [
        {
          "output_type": "stream",
          "text": [
            "<FreqDist with 62 samples and 101 outcomes>\n"
          ],
          "name": "stdout"
        }
      ]
    },
    {
      "cell_type": "markdown",
      "metadata": {
        "id": "PlgSilMscP2I",
        "colab_type": "text"
      },
      "source": [
        "Find the most common words in our text."
      ]
    },
    {
      "cell_type": "code",
      "metadata": {
        "id": "poVVehMEbddC",
        "colab_type": "code",
        "outputId": "e73b5d0a-6622-4147-a52f-c4a761e2c18d",
        "colab": {
          "base_uri": "https://localhost:8080/"
        }
      },
      "source": [
        "freq_distribution.most_common(3)"
      ],
      "execution_count": 0,
      "outputs": [
        {
          "output_type": "execute_result",
          "data": {
            "text/plain": [
              "[(',', 9), ('?', 6), ('it', 4)]"
            ]
          },
          "metadata": {
            "tags": []
          },
          "execution_count": 13
        }
      ]
    },
    {
      "cell_type": "markdown",
      "metadata": {
        "id": "mWe2ezPZcXWW",
        "colab_type": "text"
      },
      "source": [
        "Plot the frequency distribution of the words in the text."
      ]
    },
    {
      "cell_type": "code",
      "metadata": {
        "id": "jQeBGZzscfXN",
        "colab_type": "code",
        "outputId": "1679eb10-5c40-496f-ae25-c3cff8ac06c8",
        "colab": {
          "base_uri": "https://localhost:8080/"
        }
      },
      "source": [
        "import matplotlib.pyplot as plt\n",
        "freq_distribution.plot(30, cumulative=False)\n",
        "plt.show()"
      ],
      "execution_count": 0,
      "outputs": [
        {
          "output_type": "display_data",
          "data": {
            "image/png": "[encoded data removed]",
            "text/plain": [
              "<Figure size 432x288 with 1 Axes>"
            ]
          },
          "metadata": {
            "tags": []
          }
        }
      ]
    },
    {
      "cell_type": "markdown",
      "metadata": {
        "id": "ZZ1xccCSdOjK",
        "colab_type": "text"
      },
      "source": [
        "# Stopwords Removal\n",
        "\n",
        "Commonly used words in English such as the, is, he, and so on, are generally called stop words. Other languages have similar commonly used words that fall under the same category. Stopwords are considered as noise in the text as they do not signify any importance to the document.\n",
        "\n",
        "In NLTK for removing stopwords, you need to create a list of stopwords and filter out your list of tokens from these words.\n"
      ]
    },
    {
      "cell_type": "code",
      "metadata": {
        "id": "i46eHPBCcfZ6",
        "colab_type": "code",
        "outputId": "3f35b71d-6cf9-40b9-c023-d21e7ccc4c8f",
        "colab": {
          "base_uri": "https://localhost:8080/"
        }
      },
      "source": [
        "nltk.download('stopwords')\n",
        "from nltk.corpus import stopwords"
      ],
      "execution_count": 0,
      "outputs": [
        {
          "output_type": "stream",
          "text": [
            "[nltk_data] Downloading package stopwords to /root/nltk_data...\n",
            "[nltk_data]   Unzipping corpora/stopwords.zip.\n"
          ],
          "name": "stdout"
        }
      ]
    },
    {
      "cell_type": "code",
      "metadata": {
        "id": "wDxGHCUcfARU",
        "colab_type": "code",
        "outputId": "473b66ad-e6a3-4370-faf3-48c5e074d99a",
        "colab": {
          "base_uri": "https://localhost:8080/"
        }
      },
      "source": [
        "stop_words = set(stopwords.words(\"english\"))\n",
        "print(stop_words)"
      ],
      "execution_count": 0,
      "outputs": [
        {
          "output_type": "stream",
          "text": [
            "{'my', 'the', 'most', 'out', 'o', 'doesn', 's', 'or', 'each', 'his', 'few', 'ourselves', 'not', 've', \"you'll\", \"that'll\", 'should', 'very', \"haven't\", 'this', \"shan't\", 'didn', 'isn', \"needn't\", 'them', 'other', 'hasn', 'who', 'only', 'we', 'but', 'up', 'weren', 'so', \"shouldn't\", 'was', 'were', 'be', 'having', 'further', 'y', \"hadn't\", 'into', 'such', 'about', 'mustn', 't', \"weren't\", 'did', 'no', 'she', 'between', 'an', 'don', \"isn't\", 'd', \"you've\", 'of', 'yourself', 'same', \"couldn't\", 'hadn', 'over', \"aren't\", 'its', 'down', 'some', 'he', 'with', \"she's\", 'itself', \"don't\", 're', \"didn't\", 'from', \"mightn't\", 'these', 'is', 'under', 'i', 'our', 'after', 'a', \"you're\", 'to', 'll', 'and', 'ma', 'it', 'herself', 'ours', 'm', 'theirs', 'do', 'how', 'where', 'again', 'too', 'then', 'here', 'through', 'their', 'just', 'her', 'am', 'haven', 'before', 'own', 'been', 'shan', 'which', 'above', 'needn', 'myself', 'nor', 'you', 'does', 'are', 'during', 'me', 'when', 'shouldn', 'can', 'aren', \"wouldn't\", 'had', 'all', 'any', 'in', 'while', \"it's\", 'if', 'as', 'yourselves', 'wasn', 'on', \"won't\", 'wouldn', 'ain', \"wasn't\", 'those', 'has', 'what', 'doing', 'at', 'hers', 'that', 'once', \"you'd\", 'will', \"mustn't\", 'won', 'themselves', 'whom', 'couldn', \"doesn't\", 'your', \"hasn't\", \"should've\", 'now', 'yours', 'himself', 'against', 'have', 'off', 'because', 'there', 'mightn', 'than', 'they', 'more', 'being', 'why', 'by', 'him', 'below', 'both', 'until', 'for'}\n"
          ],
          "name": "stdout"
        }
      ]
    },
    {
      "cell_type": "markdown",
      "metadata": {
        "id": "h4ENDdnxfEil",
        "colab_type": "text"
      },
      "source": [
        "Removing Stopwords"
      ]
    },
    {
      "cell_type": "code",
      "metadata": {
        "id": "7gHCnOyhfRh5",
        "colab_type": "code",
        "outputId": "0c098010-0a5e-44aa-cd3f-82d2597f0098",
        "colab": {
          "base_uri": "https://localhost:8080/"
        }
      },
      "source": [
        "# Create an empty list to keep filtered sentence\n",
        "tokenized_sentence\n",
        "filtered_sentence = []\n",
        "for w in tokenized_sentence:\n",
        "  if w not in stop_words:\n",
        "    filtered_sentence.append(w)\n",
        "    \n",
        "print(\"Tokenized Sentence:\", tokenized_sentence)\n",
        "print(\"Filtered Sentence:\", filtered_sentence)\n"
      ],
      "execution_count": 0,
      "outputs": [
        {
          "output_type": "stream",
          "text": [
            "Tokenized Sentence: ['How did he know those men are guilty ?', \"Now , what difference does it make , as long as they 're the men that did it ?\", \"But it does make a difference , does n't it , Mr .\", 'Kyle ?', 'What were those men guilty of , murder or just acting on your instructions ?', \"Oh , that 's ridiculous .\", 'What reason would he have to do a thing like this ?', 'Well , maybe I can give you a clue .', 'Which one did you want killed , Kyle , the man or the woman ?']\n",
            "Filtered Sentence: ['How did he know those men are guilty ?', \"Now , what difference does it make , as long as they 're the men that did it ?\", \"But it does make a difference , does n't it , Mr .\", 'Kyle ?', 'What were those men guilty of , murder or just acting on your instructions ?', \"Oh , that 's ridiculous .\", 'What reason would he have to do a thing like this ?', 'Well , maybe I can give you a clue .', 'Which one did you want killed , Kyle , the man or the woman ?']\n"
          ],
          "name": "stdout"
        }
      ]
    },
    {
      "cell_type": "code",
      "metadata": {
        "id": "OBOF33FCfRWl",
        "colab_type": "code",
        "outputId": "b5d2b32b-a93a-4870-ef76-ec6789e27f3c",
        "colab": {
          "base_uri": "https://localhost:8080/"
        }
      },
      "source": [
        "Text_without_stopwords = [word for word in Text.split() if word not in stop_words]\n",
        "print(\"Text with stopwords:\", Text.split() )\n",
        "print(\"Text without stopwords:\",Text_without_stopwords)"
      ],
      "execution_count": 0,
      "outputs": [
        {
          "output_type": "stream",
          "text": [
            "Text with stopwords: ['How', 'did', 'he', 'know', 'those', 'men', 'are', 'guilty', '?', 'Now', ',', 'what', 'difference', 'does', 'it', 'make', ',', 'as', 'long', 'as', 'they', \"'re\", 'the', 'men', 'that', 'did', 'it', '?', 'But', 'it', 'does', 'make', 'a', 'difference', ',', 'does', \"n't\", 'it', ',', 'Mr', '.', 'Kyle', '?', 'What', 'were', 'those', 'men', 'guilty', 'of', ',', 'murder', 'or', 'just', 'acting', 'on', 'your', 'instructions', '?', 'Oh', ',', 'that', \"'s\", 'ridiculous', '.', 'What', 'reason', 'would', 'he', 'have', 'to', 'do', 'a', 'thing', 'like', 'this', '?', 'Well', ',', 'maybe', 'I', 'can', 'give', 'you', 'a', 'clue', '.', 'Which', 'one', 'did', 'you', 'want', 'killed', ',', 'Kyle', ',', 'the', 'man', 'or', 'the', 'woman', '?']\n",
            "Text without stopwords: ['How', 'know', 'men', 'guilty', '?', 'Now', ',', 'difference', 'make', ',', 'long', \"'re\", 'men', '?', 'But', 'make', 'difference', ',', \"n't\", ',', 'Mr', '.', 'Kyle', '?', 'What', 'men', 'guilty', ',', 'murder', 'acting', 'instructions', '?', 'Oh', ',', \"'s\", 'ridiculous', '.', 'What', 'reason', 'would', 'thing', 'like', '?', 'Well', ',', 'maybe', 'I', 'give', 'clue', '.', 'Which', 'one', 'want', 'killed', ',', 'Kyle', ',', 'man', 'woman', '?']\n"
          ],
          "name": "stdout"
        }
      ]
    },
    {
      "cell_type": "markdown",
      "metadata": {
        "id": "BREnprbAconY",
        "colab_type": "text"
      },
      "source": [
        "# Stemming\n",
        "Stemming is a text preprocessing task for transforming related or similar variants of a word (such as walking) to its base form (to walk), as they share the same meaning.\n",
        "\n",
        "One of the basic transformation stemming actions is to reduce a plural word to its singular form: apples is reduced to apple,"
      ]
    },
    {
      "cell_type": "code",
      "metadata": {
        "id": "lBNv1Xt1YwRJ",
        "colab_type": "code",
        "colab": {}
      },
      "source": [
        "from nltk.stem import PorterStemmer\n",
        "stem = PorterStemmer()"
      ],
      "execution_count": 0,
      "outputs": []
    },
    {
      "cell_type": "code",
      "metadata": {
        "id": "8HFWsi9_sRO1",
        "colab_type": "code",
        "outputId": "7d942621-1d9e-453f-a9a5-527bea3ae517",
        "colab": {
          "base_uri": "https://localhost:8080/"
        }
      },
      "source": [
        "stem.stem(\"reached\")"
      ],
      "execution_count": 0,
      "outputs": [
        {
          "output_type": "execute_result",
          "data": {
            "text/plain": [
              "'reach'"
            ]
          },
          "metadata": {
            "tags": []
          },
          "execution_count": 20
        }
      ]
    },
    {
      "cell_type": "code",
      "metadata": {
        "id": "9BTVQTzDslqO",
        "colab_type": "code",
        "outputId": "60271f5d-74c5-4fd8-9721-470bc5fb029f",
        "colab": {
          "base_uri": "https://localhost:8080/"
        }
      },
      "source": [
        "stem.stem('reaching')"
      ],
      "execution_count": 0,
      "outputs": [
        {
          "output_type": "execute_result",
          "data": {
            "text/plain": [
              "'reach'"
            ]
          },
          "metadata": {
            "tags": []
          },
          "execution_count": 21
        }
      ]
    },
    {
      "cell_type": "code",
      "metadata": {
        "id": "p8pterGCszPV",
        "colab_type": "code",
        "outputId": "cac5baf7-33fb-48ab-d5f5-9a20ee7803fb",
        "colab": {
          "base_uri": "https://localhost:8080/"
        }
      },
      "source": [
        "stem.stem('reached')"
      ],
      "execution_count": 0,
      "outputs": [
        {
          "output_type": "execute_result",
          "data": {
            "text/plain": [
              "'reach'"
            ]
          },
          "metadata": {
            "tags": []
          },
          "execution_count": 22
        }
      ]
    },
    {
      "cell_type": "code",
      "metadata": {
        "id": "a1vDqQs_tJUo",
        "colab_type": "code",
        "outputId": "4f5e9800-1ee8-4113-9a67-6713c9ea0534",
        "colab": {
          "base_uri": "https://localhost:8080/"
        }
      },
      "source": [
        "stemmed_words = []\n",
        "for w in filtered_sentence:\n",
        "  stemmed_words.append(stem.stem(w))\n",
        "\n",
        "print(\"Filtered Sentence:\", filtered_sentence)\n",
        "print(\"Stemmed Sentence:\", stemmed_words)"
      ],
      "execution_count": 0,
      "outputs": [
        {
          "output_type": "stream",
          "text": [
            "Filtered Sentence: ['How did he know those men are guilty ?', \"Now , what difference does it make , as long as they 're the men that did it ?\", \"But it does make a difference , does n't it , Mr .\", 'Kyle ?', 'What were those men guilty of , murder or just acting on your instructions ?', \"Oh , that 's ridiculous .\", 'What reason would he have to do a thing like this ?', 'Well , maybe I can give you a clue .', 'Which one did you want killed , Kyle , the man or the woman ?']\n",
            "Stemmed Sentence: ['how did he know those men are guilty ?', \"now , what difference does it make , as long as they 're the men that did it ?\", \"but it does make a difference , does n't it , mr .\", 'kyle ?', 'what were those men guilty of , murder or just acting on your instructions ?', \"oh , that 's ridiculous .\", 'what reason would he have to do a thing like this ?', 'well , maybe i can give you a clue .', 'which one did you want killed , kyle , the man or the woman ?']\n"
          ],
          "name": "stdout"
        }
      ]
    },
    {
      "cell_type": "code",
      "metadata": {
        "id": "4TI8RL3Kucvk",
        "colab_type": "code",
        "colab": {}
      },
      "source": [
        ""
      ],
      "execution_count": 0,
      "outputs": []
    },
    {
      "cell_type": "code",
      "metadata": {
        "id": "DYDqRN4vuczC",
        "colab_type": "code",
        "colab": {}
      },
      "source": [
        ""
      ],
      "execution_count": 0,
      "outputs": []
    },
    {
      "cell_type": "markdown",
      "metadata": {
        "id": "HrOh77bUvm1t",
        "colab_type": "text"
      },
      "source": [
        "# Lemmatization"
      ]
    },
    {
      "cell_type": "code",
      "metadata": {
        "id": "P0OTXo4Hvqjb",
        "colab_type": "code",
        "outputId": "8ad990c5-3959-4088-ad5c-18df16319142",
        "colab": {
          "base_uri": "https://localhost:8080/"
        }
      },
      "source": [
        "nltk.download('wordnet')\n",
        "from nltk.stem.wordnet import WordNetLemmatizer\n",
        "lema = WordNetLemmatizer\n",
        "\n",
        "from nltk.stem.porter import PorterStemmer\n",
        "stem = PorterStemmer()"
      ],
      "execution_count": 0,
      "outputs": [
        {
          "output_type": "stream",
          "text": [
            "[nltk_data] Downloading package wordnet to /root/nltk_data...\n",
            "[nltk_data]   Unzipping corpora/wordnet.zip.\n"
          ],
          "name": "stdout"
        }
      ]
    },
    {
      "cell_type": "code",
      "metadata": {
        "id": "uABxzToavxZP",
        "colab_type": "code",
        "outputId": "0f5d0ebe-f7cc-42bc-a65f-e10f4585dfd1",
        "colab": {
          "base_uri": "https://localhost:8080/"
        }
      },
      "source": [
        "word = \"studies\"\n",
        "print(\"Lemmatized Word:\", lema.lemmatize(\"v\", word))\n",
        "print(\"Stemmed Word:\", stem.stem(word))"
      ],
      "execution_count": 0,
      "outputs": [
        {
          "output_type": "stream",
          "text": [
            "Lemmatized Word: study\n",
            "Stemmed Word: studi\n"
          ],
          "name": "stdout"
        }
      ]
    },
    {
      "cell_type": "markdown",
      "metadata": {
        "id": "BAYRrVgAvyHJ",
        "colab_type": "text"
      },
      "source": [
        "# Spell Check"
      ]
    },
    {
      "cell_type": "code",
      "metadata": {
        "id": "JWw1H-N5vzda",
        "colab_type": "code",
        "colab": {}
      },
      "source": [
        ""
      ],
      "execution_count": 0,
      "outputs": []
    },
    {
      "cell_type": "code",
      "metadata": {
        "id": "R_cVzAbYv5E8",
        "colab_type": "code",
        "colab": {}
      },
      "source": [
        ""
      ],
      "execution_count": 0,
      "outputs": []
    },
    {
      "cell_type": "code",
      "metadata": {
        "id": "CEfEjtKYv5Hh",
        "colab_type": "code",
        "colab": {}
      },
      "source": [
        ""
      ],
      "execution_count": 0,
      "outputs": []
    },
    {
      "cell_type": "code",
      "metadata": {
        "id": "BgT3I2gNv5KF",
        "colab_type": "code",
        "colab": {}
      },
      "source": [
        ""
      ],
      "execution_count": 0,
      "outputs": []
    },
    {
      "cell_type": "code",
      "metadata": {
        "id": "QPbv121Zv5Mq",
        "colab_type": "code",
        "colab": {}
      },
      "source": [
        ""
      ],
      "execution_count": 0,
      "outputs": []
    },
    {
      "cell_type": "markdown",
      "metadata": {
        "id": "ioLbMv01v5xf",
        "colab_type": "text"
      },
      "source": [
        "# Some Common String Functions\n"
      ]
    },
    {
      "cell_type": "markdown",
      "metadata": {
        "id": "CCN1iad39sY3",
        "colab_type": "text"
      },
      "source": [
        "1. Converting text to lower case as in, converting \"Hello\" to \"hello\" or \"HELLO\" to \"hello\"."
      ]
    },
    {
      "cell_type": "code",
      "metadata": {
        "id": "FVHS8lfUv784",
        "colab_type": "code",
        "colab": {}
      },
      "source": [
        "input_text = \"Hello\""
      ],
      "execution_count": 0,
      "outputs": []
    },
    {
      "cell_type": "code",
      "metadata": {
        "id": "EYJOczdf9Hzu",
        "colab_type": "code",
        "outputId": "fe3f03dc-4278-41e6-85f9-30b2980202ee",
        "colab": {
          "base_uri": "https://localhost:8080/"
        }
      },
      "source": [
        "lowered_input_text = input_text.lower()\n",
        "lowered_input_text"
      ],
      "execution_count": 0,
      "outputs": [
        {
          "output_type": "execute_result",
          "data": {
            "text/plain": [
              "'hello'"
            ]
          },
          "metadata": {
            "tags": []
          },
          "execution_count": 27
        }
      ]
    },
    {
      "cell_type": "markdown",
      "metadata": {
        "id": "aFuYiQOV9yhU",
        "colab_type": "text"
      },
      "source": [
        "2. Capitalizing"
      ]
    },
    {
      "cell_type": "code",
      "metadata": {
        "id": "tvZ3XebB9WNG",
        "colab_type": "code",
        "outputId": "77b04305-0881-414c-b8ac-7eb0816dd360",
        "colab": {
          "base_uri": "https://localhost:8080/"
        }
      },
      "source": [
        "capitalized_text = lowered_input_text.upper()\n",
        "capitalized_text"
      ],
      "execution_count": 0,
      "outputs": [
        {
          "output_type": "execute_result",
          "data": {
            "text/plain": [
              "'HELLO'"
            ]
          },
          "metadata": {
            "tags": []
          },
          "execution_count": 28
        }
      ]
    },
    {
      "cell_type": "markdown",
      "metadata": {
        "id": "9NxZe2qG-dph",
        "colab_type": "text"
      },
      "source": [
        "3. Camel Case: only the first letter of the word is capitalized"
      ]
    },
    {
      "cell_type": "code",
      "metadata": {
        "id": "iEqBUPWs9WTt",
        "colab_type": "code",
        "outputId": "aa389e60-1bd4-4c44-da9e-fdaf2cbad6df",
        "colab": {
          "base_uri": "https://localhost:8080/"
        }
      },
      "source": [
        "camel_cased_text = lowered_input_text.capitalize()\n",
        "camel_cased_text"
      ],
      "execution_count": 0,
      "outputs": [
        {
          "output_type": "execute_result",
          "data": {
            "text/plain": [
              "'Hello'"
            ]
          },
          "metadata": {
            "tags": []
          },
          "execution_count": 29
        }
      ]
    },
    {
      "cell_type": "markdown",
      "metadata": {
        "id": "MB9MF485--G7",
        "colab_type": "text"
      },
      "source": [
        "We can use this with a sentence as well. However, only the first letter of the sentence is capitalized."
      ]
    },
    {
      "cell_type": "code",
      "metadata": {
        "id": "RwecihPN9WV7",
        "colab_type": "code",
        "outputId": "0b2ebdad-27fc-417b-b426-35b79c262f9d",
        "colab": {
          "base_uri": "https://localhost:8080/"
        }
      },
      "source": [
        "\"hello, my young child, john\".capitalize()"
      ],
      "execution_count": 0,
      "outputs": [
        {
          "output_type": "execute_result",
          "data": {
            "text/plain": [
              "'Hello, my young child, john'"
            ]
          },
          "metadata": {
            "tags": []
          },
          "execution_count": 30
        }
      ]
    },
    {
      "cell_type": "markdown",
      "metadata": {
        "id": "mbXSlcLr_Ez4",
        "colab_type": "text"
      },
      "source": [
        "Some other useful string methods can be found here - https://docs.python.org/3.7/library/stdtypes.html#string-methods"
      ]
    },
    {
      "cell_type": "code",
      "metadata": {
        "id": "uQwmNLrq_EBx",
        "colab_type": "code",
        "colab": {}
      },
      "source": [
        ""
      ],
      "execution_count": 0,
      "outputs": []
    },
    {
      "cell_type": "markdown",
      "metadata": {
        "id": "izt3qeR8DD1l",
        "colab_type": "text"
      },
      "source": [
        "# POS Tagging\n",
        "\n",
        "A part-of-speech tagger, processes a sequence of words and attaches a part of speech tag to each word."
      ]
    },
    {
      "cell_type": "code",
      "metadata": {
        "id": "Xz-Gx3DvDJr1",
        "colab_type": "code",
        "outputId": "6c9a9067-d881-4264-c99b-9d02d4a05665",
        "colab": {
          "base_uri": "https://localhost:8080/"
        }
      },
      "source": [
        "nltk.download('averaged_perceptron_tagger')"
      ],
      "execution_count": 0,
      "outputs": [
        {
          "output_type": "stream",
          "text": [
            "[nltk_data] Downloading package averaged_perceptron_tagger to\n",
            "[nltk_data]     /root/nltk_data...\n",
            "[nltk_data]   Unzipping taggers/averaged_perceptron_tagger.zip.\n"
          ],
          "name": "stdout"
        },
        {
          "output_type": "execute_result",
          "data": {
            "text/plain": [
              "True"
            ]
          },
          "metadata": {
            "tags": []
          },
          "execution_count": 31
        }
      ]
    },
    {
      "cell_type": "code",
      "metadata": {
        "id": "YxJ1qVTcEhvj",
        "colab_type": "code",
        "outputId": "871f004f-97f3-4d0b-95d9-72829a39f84d",
        "colab": {
          "base_uri": "https://localhost:8080/"
        }
      },
      "source": [
        "Text = \"The little pine tree said I do not like needles. All the other trees in the woods have pretty leaves.\"\n",
        "Word_tokens = word_tokenize(Text)\n",
        "nltk.pos_tag(Text)"
      ],
      "execution_count": 0,
      "outputs": [
        {
          "output_type": "execute_result",
          "data": {
            "text/plain": [
              "[('T', 'NNP'),\n",
              " ('h', 'NN'),\n",
              " ('e', 'NN'),\n",
              " (' ', 'NNP'),\n",
              " ('l', 'NN'),\n",
              " ('i', 'NN'),\n",
              " ('t', 'VBP'),\n",
              " ('t', 'NN'),\n",
              " ('l', 'NN'),\n",
              " ('e', 'NN'),\n",
              " (' ', 'NNP'),\n",
              " ('p', 'NN'),\n",
              " ('i', 'NN'),\n",
              " ('n', 'VBP'),\n",
              " ('e', 'NN'),\n",
              " (' ', 'NNP'),\n",
              " ('t', 'NN'),\n",
              " ('r', 'NN'),\n",
              " ('e', 'NN'),\n",
              " ('e', 'NN'),\n",
              " (' ', 'NNP'),\n",
              " ('s', 'VBZ'),\n",
              " ('a', 'DT'),\n",
              " ('i', 'JJ'),\n",
              " ('d', 'NN'),\n",
              " (' ', 'NN'),\n",
              " ('I', 'PRP'),\n",
              " (' ', 'VBP'),\n",
              " ('d', 'JJ'),\n",
              " ('o', 'NN'),\n",
              " (' ', 'NNP'),\n",
              " ('n', 'CC'),\n",
              " ('o', 'JJ'),\n",
              " ('t', 'NN'),\n",
              " (' ', 'NNP'),\n",
              " ('l', 'NN'),\n",
              " ('i', 'NN'),\n",
              " ('k', 'VBP'),\n",
              " ('e', 'NN'),\n",
              " (' ', 'NNP'),\n",
              " ('n', 'CC'),\n",
              " ('e', 'JJ'),\n",
              " ('e', 'NN'),\n",
              " ('d', 'NN'),\n",
              " ('l', 'NN'),\n",
              " ('e', 'NN'),\n",
              " ('s', 'NN'),\n",
              " ('.', '.'),\n",
              " (' ', 'VB'),\n",
              " ('A', 'DT'),\n",
              " ('l', 'NN'),\n",
              " ('l', 'NN'),\n",
              " (' ', 'NNP'),\n",
              " ('t', 'NN'),\n",
              " ('h', 'NN'),\n",
              " ('e', 'NN'),\n",
              " (' ', 'NNP'),\n",
              " ('o', 'VBZ'),\n",
              " ('t', 'JJ'),\n",
              " ('h', 'NN'),\n",
              " ('e', 'NN'),\n",
              " ('r', 'NN'),\n",
              " (' ', 'NNP'),\n",
              " ('t', 'NN'),\n",
              " ('r', 'NN'),\n",
              " ('e', 'NN'),\n",
              " ('e', 'NN'),\n",
              " ('s', 'VBD'),\n",
              " (' ', 'NNP'),\n",
              " ('i', 'NN'),\n",
              " ('n', 'VBP'),\n",
              " (' ', 'JJ'),\n",
              " ('t', 'NN'),\n",
              " ('h', 'NN'),\n",
              " ('e', 'NN'),\n",
              " (' ', 'NNP'),\n",
              " ('w', 'NN'),\n",
              " ('o', 'NN'),\n",
              " ('o', 'NN'),\n",
              " ('d', 'NN'),\n",
              " ('s', 'NN'),\n",
              " (' ', 'NNP'),\n",
              " ('h', 'VBZ'),\n",
              " ('a', 'DT'),\n",
              " ('v', 'NN'),\n",
              " ('e', 'NN'),\n",
              " (' ', 'NNP'),\n",
              " ('p', 'NN'),\n",
              " ('r', 'NN'),\n",
              " ('e', 'NN'),\n",
              " ('t', 'NN'),\n",
              " ('t', 'NN'),\n",
              " ('y', 'NN'),\n",
              " (' ', 'NNP'),\n",
              " ('l', 'NN'),\n",
              " ('e', 'VBZ'),\n",
              " ('a', 'DT'),\n",
              " ('v', 'NN'),\n",
              " ('e', 'NN'),\n",
              " ('s', 'NN'),\n",
              " ('.', '.')]"
            ]
          },
          "metadata": {
            "tags": []
          },
          "execution_count": 32
        }
      ]
    },
    {
      "cell_type": "code",
      "metadata": {
        "id": "clvw_f2kEpeH",
        "colab_type": "code",
        "colab": {}
      },
      "source": [
        ""
      ],
      "execution_count": 0,
      "outputs": []
    }
  ]
}