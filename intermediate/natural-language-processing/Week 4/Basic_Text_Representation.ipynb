{
  "nbformat": 4,
  "nbformat_minor": 0,
  "metadata": {
    "colab": {
      "name": "Basic_Text_Representation.ipynb",
      "provenance": [],
      "collapsed_sections": []
    },
    "kernelspec": {
      "name": "python3",
      "display_name": "Python 3"
    }
  },
  "cells": [
    {
      "cell_type": "code",
      "metadata": {
        "id": "hKkJ8MSTqx4p",
        "colab_type": "code",
        "colab": {}
      },
      "source": [
        "import pandas as pd\n",
        "from sklearn.linear_model import LogisticRegression\n",
        "from sklearn.model_selection import train_test_split\n",
        "from sklearn.preprocessing import OneHotEncoder,LabelEncoder\n",
        "from sklearn.feature_extraction.text import TfidfVectorizer, CountVectorizer,HashingVectorizer"
      ],
      "execution_count": 0,
      "outputs": []
    },
    {
      "cell_type": "markdown",
      "metadata": {
        "id": "PwSkmWZRBNRh",
        "colab_type": "text"
      },
      "source": [
        "## DATASET : Drug Review Dataset (Druglib.com) Data Set\n",
        "https://archive.ics.uci.edu/ml/datasets/Drug+Review+Dataset+%28Druglib.com%29"
      ]
    },
    {
      "cell_type": "code",
      "metadata": {
        "id": "Xa-4-0oV_Obu",
        "colab_type": "code",
        "outputId": "16bb0c59-e3ca-44b2-dc57-4e45093d8ac1",
        "colab": {
          "base_uri": "https://localhost:8080/",
          "height": 204
        }
      },
      "source": [
        "!wget https://archive.ics.uci.edu/ml/machine-learning-databases/00461/drugLib_raw.zip"
      ],
      "execution_count": 0,
      "outputs": [
        {
          "output_type": "stream",
          "text": [
            "--2019-10-05 07:13:40--  https://archive.ics.uci.edu/ml/machine-learning-databases/00461/drugLib_raw.zip\n",
            "Resolving archive.ics.uci.edu (archive.ics.uci.edu)... 128.195.10.252\n",
            "Connecting to archive.ics.uci.edu (archive.ics.uci.edu)|128.195.10.252|:443... connected.\n",
            "HTTP request sent, awaiting response... 200 OK\n",
            "Length: 1133354 (1.1M) [application/x-httpd-php]\n",
            "Saving to: ‘drugLib_raw.zip’\n",
            "\n",
            "drugLib_raw.zip     100%[===================>]   1.08M  1.29MB/s    in 0.8s    \n",
            "\n",
            "2019-10-05 07:13:42 (1.29 MB/s) - ‘drugLib_raw.zip’ saved [1133354/1133354]\n",
            "\n"
          ],
          "name": "stdout"
        }
      ]
    },
    {
      "cell_type": "markdown",
      "metadata": {
        "id": "A7GQ6vyn94ka",
        "colab_type": "text"
      },
      "source": [
        ""
      ]
    },
    {
      "cell_type": "code",
      "metadata": {
        "id": "d8Bs24ds_Sam",
        "colab_type": "code",
        "outputId": "a9af4add-6f27-4c1a-ac11-cd4a8981937f",
        "colab": {
          "base_uri": "https://localhost:8080/",
          "height": 68
        }
      },
      "source": [
        "!unzip 'drugLib_raw.zip'"
      ],
      "execution_count": 0,
      "outputs": [
        {
          "output_type": "stream",
          "text": [
            "Archive:  drugLib_raw.zip\n",
            "  inflating: drugLibTest_raw.tsv     \n",
            "  inflating: drugLibTrain_raw.tsv    \n"
          ],
          "name": "stdout"
        }
      ]
    },
    {
      "cell_type": "code",
      "metadata": {
        "id": "4BrpMLRs7pnU",
        "colab_type": "code",
        "colab": {}
      },
      "source": [
        "\n",
        "drug_lib_test_df = pd.read_csv('drugLibTest_raw.tsv',sep='\\t',index_col=0)"
      ],
      "execution_count": 0,
      "outputs": []
    },
    {
      "cell_type": "code",
      "metadata": {
        "id": "evBxPB-5_HXw",
        "colab_type": "code",
        "colab": {}
      },
      "source": [
        "#drug_lib_test_df.head()"
      ],
      "execution_count": 0,
      "outputs": []
    },
    {
      "cell_type": "code",
      "metadata": {
        "id": "jHA_tN3wAcP1",
        "colab_type": "code",
        "colab": {}
      },
      "source": [
        "drug_lib_train_df = pd.read_csv('drugLibTrain_raw.tsv',sep='\\t',index_col=0)"
      ],
      "execution_count": 0,
      "outputs": []
    },
    {
      "cell_type": "code",
      "metadata": {
        "id": "2TSPGUuPF501",
        "colab_type": "code",
        "colab": {}
      },
      "source": [
        "#drug_lib_train_df.head()"
      ],
      "execution_count": 0,
      "outputs": []
    },
    {
      "cell_type": "code",
      "metadata": {
        "id": "T6DxUyZxF8vl",
        "colab_type": "code",
        "colab": {}
      },
      "source": [
        "drug_reviews_df = pd.concat([drug_lib_test_df,drug_lib_train_df])"
      ],
      "execution_count": 0,
      "outputs": []
    },
    {
      "cell_type": "code",
      "metadata": {
        "id": "s7xaqookGdb1",
        "colab_type": "code",
        "outputId": "c416eb51-0ba5-43ff-f039-07e013375448",
        "colab": {
          "base_uri": "https://localhost:8080/",
          "height": 238
        }
      },
      "source": [
        "drug_reviews_df.info()"
      ],
      "execution_count": 0,
      "outputs": [
        {
          "output_type": "stream",
          "text": [
            "<class 'pandas.core.frame.DataFrame'>\n",
            "Int64Index: 4143 entries, 1366 to 2748\n",
            "Data columns (total 8 columns):\n",
            "urlDrugName          4143 non-null object\n",
            "rating               4143 non-null int64\n",
            "effectiveness        4143 non-null object\n",
            "sideEffects          4143 non-null object\n",
            "condition            4142 non-null object\n",
            "benefitsReview       4143 non-null object\n",
            "sideEffectsReview    4141 non-null object\n",
            "commentsReview       4135 non-null object\n",
            "dtypes: int64(1), object(7)\n",
            "memory usage: 291.3+ KB\n"
          ],
          "name": "stdout"
        }
      ]
    },
    {
      "cell_type": "code",
      "metadata": {
        "id": "X1dRk0VuGgTY",
        "colab_type": "code",
        "outputId": "0a38fa82-6bdc-47a5-99b0-d1f4363c81fe",
        "colab": {
          "base_uri": "https://localhost:8080/",
          "height": 238
        }
      },
      "source": [
        "drug_reviews_df = drug_reviews_df.dropna().reset_index(drop=True)\n",
        "drug_reviews_df.info()"
      ],
      "execution_count": 0,
      "outputs": [
        {
          "output_type": "stream",
          "text": [
            "<class 'pandas.core.frame.DataFrame'>\n",
            "RangeIndex: 4132 entries, 0 to 4131\n",
            "Data columns (total 8 columns):\n",
            "urlDrugName          4132 non-null object\n",
            "rating               4132 non-null int64\n",
            "effectiveness        4132 non-null object\n",
            "sideEffects          4132 non-null object\n",
            "condition            4132 non-null object\n",
            "benefitsReview       4132 non-null object\n",
            "sideEffectsReview    4132 non-null object\n",
            "commentsReview       4132 non-null object\n",
            "dtypes: int64(1), object(7)\n",
            "memory usage: 258.3+ KB\n"
          ],
          "name": "stdout"
        }
      ]
    },
    {
      "cell_type": "code",
      "metadata": {
        "id": "kfF_UbluTpIU",
        "colab_type": "code",
        "outputId": "108031fa-2fba-48cb-bab7-36d1eb426a9a",
        "colab": {
          "base_uri": "https://localhost:8080/",
          "height": 1000
        }
      },
      "source": [
        "drug_reviews_df.head(20)"
      ],
      "execution_count": 0,
      "outputs": [
        {
          "output_type": "execute_result",
          "data": {
            "text/html": [
              "<div>\n",
              "<style scoped>\n",
              "    .dataframe tbody tr th:only-of-type {\n",
              "        vertical-align: middle;\n",
              "    }\n",
              "\n",
              "    .dataframe tbody tr th {\n",
              "        vertical-align: top;\n",
              "    }\n",
              "\n",
              "    .dataframe thead th {\n",
              "        text-align: right;\n",
              "    }\n",
              "</style>\n",
              "<table border=\"1\" class=\"dataframe\">\n",
              "  <thead>\n",
              "    <tr style=\"text-align: right;\">\n",
              "      <th></th>\n",
              "      <th>urlDrugName</th>\n",
              "      <th>rating</th>\n",
              "      <th>effectiveness</th>\n",
              "      <th>sideEffects</th>\n",
              "      <th>condition</th>\n",
              "      <th>benefitsReview</th>\n",
              "      <th>sideEffectsReview</th>\n",
              "      <th>commentsReview</th>\n",
              "    </tr>\n",
              "  </thead>\n",
              "  <tbody>\n",
              "    <tr>\n",
              "      <th>0</th>\n",
              "      <td>biaxin</td>\n",
              "      <td>9</td>\n",
              "      <td>Considerably Effective</td>\n",
              "      <td>Mild Side Effects</td>\n",
              "      <td>sinus infection</td>\n",
              "      <td>The antibiotic may have destroyed bacteria cau...</td>\n",
              "      <td>Some back pain, some nauseau.</td>\n",
              "      <td>Took the antibiotics for 14 days. Sinus infect...</td>\n",
              "    </tr>\n",
              "    <tr>\n",
              "      <th>1</th>\n",
              "      <td>lamictal</td>\n",
              "      <td>9</td>\n",
              "      <td>Highly Effective</td>\n",
              "      <td>Mild Side Effects</td>\n",
              "      <td>bipolar disorder</td>\n",
              "      <td>Lamictal stabilized my serious mood swings. On...</td>\n",
              "      <td>Drowsiness, a bit of mental numbness. If you t...</td>\n",
              "      <td>Severe mood swings between hypomania and depre...</td>\n",
              "    </tr>\n",
              "    <tr>\n",
              "      <th>2</th>\n",
              "      <td>depakene</td>\n",
              "      <td>4</td>\n",
              "      <td>Moderately Effective</td>\n",
              "      <td>Severe Side Effects</td>\n",
              "      <td>bipolar disorder</td>\n",
              "      <td>Initial benefits were comparable to the brand ...</td>\n",
              "      <td>Depakene has a very thin coating, which caused...</td>\n",
              "      <td>Depakote was prescribed to me by a Kaiser psyc...</td>\n",
              "    </tr>\n",
              "    <tr>\n",
              "      <th>3</th>\n",
              "      <td>sarafem</td>\n",
              "      <td>10</td>\n",
              "      <td>Highly Effective</td>\n",
              "      <td>No Side Effects</td>\n",
              "      <td>bi-polar / anxiety</td>\n",
              "      <td>It controlls my mood swings. It helps me think...</td>\n",
              "      <td>I didnt really notice any side effects.</td>\n",
              "      <td>This drug may not be for everyone but its wond...</td>\n",
              "    </tr>\n",
              "    <tr>\n",
              "      <th>4</th>\n",
              "      <td>accutane</td>\n",
              "      <td>10</td>\n",
              "      <td>Highly Effective</td>\n",
              "      <td>Mild Side Effects</td>\n",
              "      <td>nodular acne</td>\n",
              "      <td>Within one week of treatment superficial acne ...</td>\n",
              "      <td>Side effects included moderate to severe dry s...</td>\n",
              "      <td>Drug was taken in gelatin tablet at 0.5 mg per...</td>\n",
              "    </tr>\n",
              "    <tr>\n",
              "      <th>5</th>\n",
              "      <td>biaxin</td>\n",
              "      <td>2</td>\n",
              "      <td>Marginally Effective</td>\n",
              "      <td>No Side Effects</td>\n",
              "      <td>sinus infection</td>\n",
              "      <td>By the end of the 10-day treatment I felt bett...</td>\n",
              "      <td>I felt no significant side effects - perhaps s...</td>\n",
              "      <td>Basically the treatment did not seem to work. ...</td>\n",
              "    </tr>\n",
              "    <tr>\n",
              "      <th>6</th>\n",
              "      <td>carbamazepine</td>\n",
              "      <td>8</td>\n",
              "      <td>Considerably Effective</td>\n",
              "      <td>Moderate Side Effects</td>\n",
              "      <td>seizure</td>\n",
              "      <td>reduction in seizures reduction in seizures re...</td>\n",
              "      <td>tired/sleepy very tired sleep and tired very t...</td>\n",
              "      <td>took it for seizure took pills drank with wate...</td>\n",
              "    </tr>\n",
              "    <tr>\n",
              "      <th>7</th>\n",
              "      <td>ultram-er</td>\n",
              "      <td>10</td>\n",
              "      <td>Highly Effective</td>\n",
              "      <td>Mild Side Effects</td>\n",
              "      <td>cervical disk degeneration and lower back pain</td>\n",
              "      <td>Ive been taking Tramadol for 2 weeks now. Ive ...</td>\n",
              "      <td>I have had no side effects so far. I hope it s...</td>\n",
              "      <td>Treating for neck, shoulder, arms, lower back,...</td>\n",
              "    </tr>\n",
              "    <tr>\n",
              "      <th>8</th>\n",
              "      <td>klonopin</td>\n",
              "      <td>10</td>\n",
              "      <td>Highly Effective</td>\n",
              "      <td>No Side Effects</td>\n",
              "      <td>panic disorder</td>\n",
              "      <td>I immediately stopped having panic attacks.  I...</td>\n",
              "      <td>I experienced no side effects.  I was not tire...</td>\n",
              "      <td>I started both klonopin and prozac together.  ...</td>\n",
              "    </tr>\n",
              "    <tr>\n",
              "      <th>9</th>\n",
              "      <td>effexor</td>\n",
              "      <td>1</td>\n",
              "      <td>Marginally Effective</td>\n",
              "      <td>Extremely Severe Side Effects</td>\n",
              "      <td>depression</td>\n",
              "      <td>the presumed benefits were to help with a seve...</td>\n",
              "      <td>here we go.the initial effect would be dry mou...</td>\n",
              "      <td>family doctor initially prescribed wellbutin b...</td>\n",
              "    </tr>\n",
              "    <tr>\n",
              "      <th>10</th>\n",
              "      <td>lyrica</td>\n",
              "      <td>3</td>\n",
              "      <td>Moderately Effective</td>\n",
              "      <td>Moderate Side Effects</td>\n",
              "      <td>fibromyalgia</td>\n",
              "      <td>some pain relief recieved minimized pain when ...</td>\n",
              "      <td>signigicant swelling of hands and feet so sign...</td>\n",
              "      <td>I started on 50mg twice aday with out any pain...</td>\n",
              "    </tr>\n",
              "    <tr>\n",
              "      <th>11</th>\n",
              "      <td>valtrex</td>\n",
              "      <td>9</td>\n",
              "      <td>Highly Effective</td>\n",
              "      <td>Mild Side Effects</td>\n",
              "      <td>cold sores</td>\n",
              "      <td>Significantly diminished the symptoms and size...</td>\n",
              "      <td>Slight dizziness and tiredness, very minor.</td>\n",
              "      <td>2x 1000mg tablets every 12 hours for 1 day.</td>\n",
              "    </tr>\n",
              "    <tr>\n",
              "      <th>12</th>\n",
              "      <td>provigil</td>\n",
              "      <td>6</td>\n",
              "      <td>Moderately Effective</td>\n",
              "      <td>No Side Effects</td>\n",
              "      <td>chronic fatigue</td>\n",
              "      <td>Treatment benefits were noticeable but not sub...</td>\n",
              "      <td>nervousness, insomnia (if taken late in the day)</td>\n",
              "      <td>Took 100mg each day in the morning, sometimes ...</td>\n",
              "    </tr>\n",
              "    <tr>\n",
              "      <th>13</th>\n",
              "      <td>maxalt</td>\n",
              "      <td>10</td>\n",
              "      <td>Highly Effective</td>\n",
              "      <td>Mild Side Effects</td>\n",
              "      <td>migraine</td>\n",
              "      <td>Very quick migraine relief with no nausea or d...</td>\n",
              "      <td>Very mild \"buzz.\"</td>\n",
              "      <td>This is the first migraine medicine I've found...</td>\n",
              "    </tr>\n",
              "    <tr>\n",
              "      <th>14</th>\n",
              "      <td>xanax</td>\n",
              "      <td>5</td>\n",
              "      <td>Moderately Effective</td>\n",
              "      <td>Mild Side Effects</td>\n",
              "      <td>anxiety</td>\n",
              "      <td>The xanax would act as a downer. It would calm...</td>\n",
              "      <td>As I explained above. Addiction and drowsiness...</td>\n",
              "      <td>Once a day preferably at bedtime but if a situ...</td>\n",
              "    </tr>\n",
              "    <tr>\n",
              "      <th>15</th>\n",
              "      <td>chantix</td>\n",
              "      <td>5</td>\n",
              "      <td>Moderately Effective</td>\n",
              "      <td>Moderate Side Effects</td>\n",
              "      <td>stop smoking</td>\n",
              "      <td>The benefits were to eventually stop smoking.</td>\n",
              "      <td>At first I experienced a slight headache and u...</td>\n",
              "      <td>I was to take 1 small dosage pill twice a day ...</td>\n",
              "    </tr>\n",
              "    <tr>\n",
              "      <th>16</th>\n",
              "      <td>ranitidine</td>\n",
              "      <td>7</td>\n",
              "      <td>Moderately Effective</td>\n",
              "      <td>No Side Effects</td>\n",
              "      <td>heartburn</td>\n",
              "      <td>to reduce acid production and stop acid reflux...</td>\n",
              "      <td>there are no side effects</td>\n",
              "      <td>take 2-3 times per day to aviod reflux acid. t...</td>\n",
              "    </tr>\n",
              "    <tr>\n",
              "      <th>17</th>\n",
              "      <td>prednisone</td>\n",
              "      <td>7</td>\n",
              "      <td>Considerably Effective</td>\n",
              "      <td>Moderate Side Effects</td>\n",
              "      <td>rheumatoid arthritis</td>\n",
              "      <td>Stopped inflammation. Reduced need for pain ki...</td>\n",
              "      <td>Weight gain, osteoporosis, moon face; noticed ...</td>\n",
              "      <td>Taken daily orally once a day. Eventually tape...</td>\n",
              "    </tr>\n",
              "    <tr>\n",
              "      <th>18</th>\n",
              "      <td>augmentin</td>\n",
              "      <td>8</td>\n",
              "      <td>Highly Effective</td>\n",
              "      <td>Severe Side Effects</td>\n",
              "      <td>diverticulitis</td>\n",
              "      <td>Reduction of infection of acute uncomplicated ...</td>\n",
              "      <td>Disturbing and painful balanitis after 4 days,...</td>\n",
              "      <td>Augmentin 875 mg twice a day for three weeks.</td>\n",
              "    </tr>\n",
              "    <tr>\n",
              "      <th>19</th>\n",
              "      <td>zyrtec</td>\n",
              "      <td>10</td>\n",
              "      <td>Highly Effective</td>\n",
              "      <td>No Side Effects</td>\n",
              "      <td>seasonal allergies</td>\n",
              "      <td>This medicine stopped post nasal drip, itching...</td>\n",
              "      <td>There were no treatment side effects noted.</td>\n",
              "      <td>I have taken this medicine once daily, in the ...</td>\n",
              "    </tr>\n",
              "  </tbody>\n",
              "</table>\n",
              "</div>"
            ],
            "text/plain": [
              "      urlDrugName  ...                                     commentsReview\n",
              "0          biaxin  ...  Took the antibiotics for 14 days. Sinus infect...\n",
              "1        lamictal  ...  Severe mood swings between hypomania and depre...\n",
              "2        depakene  ...  Depakote was prescribed to me by a Kaiser psyc...\n",
              "3         sarafem  ...  This drug may not be for everyone but its wond...\n",
              "4        accutane  ...  Drug was taken in gelatin tablet at 0.5 mg per...\n",
              "5          biaxin  ...  Basically the treatment did not seem to work. ...\n",
              "6   carbamazepine  ...  took it for seizure took pills drank with wate...\n",
              "7       ultram-er  ...  Treating for neck, shoulder, arms, lower back,...\n",
              "8        klonopin  ...  I started both klonopin and prozac together.  ...\n",
              "9         effexor  ...  family doctor initially prescribed wellbutin b...\n",
              "10         lyrica  ...  I started on 50mg twice aday with out any pain...\n",
              "11        valtrex  ...        2x 1000mg tablets every 12 hours for 1 day.\n",
              "12       provigil  ...  Took 100mg each day in the morning, sometimes ...\n",
              "13         maxalt  ...  This is the first migraine medicine I've found...\n",
              "14          xanax  ...  Once a day preferably at bedtime but if a situ...\n",
              "15        chantix  ...  I was to take 1 small dosage pill twice a day ...\n",
              "16     ranitidine  ...  take 2-3 times per day to aviod reflux acid. t...\n",
              "17     prednisone  ...  Taken daily orally once a day. Eventually tape...\n",
              "18      augmentin  ...      Augmentin 875 mg twice a day for three weeks.\n",
              "19         zyrtec  ...  I have taken this medicine once daily, in the ...\n",
              "\n",
              "[20 rows x 8 columns]"
            ]
          },
          "metadata": {
            "tags": []
          },
          "execution_count": 10
        }
      ]
    },
    {
      "cell_type": "markdown",
      "metadata": {
        "id": "q6ytr1XWrAT1",
        "colab_type": "text"
      },
      "source": [
        "## Use case : Attempt to predict sideEffects from sideEffects Review"
      ]
    },
    {
      "cell_type": "code",
      "metadata": {
        "id": "YyufAND2GuSB",
        "colab_type": "code",
        "colab": {}
      },
      "source": [
        "side_effects_df = drug_reviews_df[['urlDrugName','sideEffects','sideEffectsReview']]"
      ],
      "execution_count": 0,
      "outputs": []
    },
    {
      "cell_type": "code",
      "metadata": {
        "id": "UyZ9r77KUVpu",
        "colab_type": "code",
        "outputId": "d1a4acab-2fb9-4a00-f600-47d3564e26f1",
        "colab": {
          "base_uri": "https://localhost:8080/",
          "height": 153
        }
      },
      "source": [
        "side_effects_df.info()"
      ],
      "execution_count": 0,
      "outputs": [
        {
          "output_type": "stream",
          "text": [
            "<class 'pandas.core.frame.DataFrame'>\n",
            "RangeIndex: 4132 entries, 0 to 4131\n",
            "Data columns (total 3 columns):\n",
            "urlDrugName          4132 non-null object\n",
            "sideEffects          4132 non-null object\n",
            "sideEffectsReview    4132 non-null object\n",
            "dtypes: object(3)\n",
            "memory usage: 96.9+ KB\n"
          ],
          "name": "stdout"
        }
      ]
    },
    {
      "cell_type": "markdown",
      "metadata": {
        "id": "4JZ_iBtfUijn",
        "colab_type": "text"
      },
      "source": [
        "\n"
      ]
    },
    {
      "cell_type": "code",
      "metadata": {
        "id": "QDwWdyffrRce",
        "colab_type": "code",
        "outputId": "841faae5-5c13-4279-ec04-cac5e4218110",
        "colab": {
          "base_uri": "https://localhost:8080/",
          "height": 68
        }
      },
      "source": [
        "side_effects_df['sideEffects'].unique()"
      ],
      "execution_count": 0,
      "outputs": [
        {
          "output_type": "execute_result",
          "data": {
            "text/plain": [
              "array(['Mild Side Effects', 'Severe Side Effects', 'No Side Effects',\n",
              "       'Moderate Side Effects', 'Extremely Severe Side Effects'],\n",
              "      dtype=object)"
            ]
          },
          "metadata": {
            "tags": []
          },
          "execution_count": 13
        }
      ]
    },
    {
      "cell_type": "code",
      "metadata": {
        "id": "Xxus9XvJrVMv",
        "colab_type": "code",
        "outputId": "7dd3b525-2334-4f6e-e00c-d08020159d99",
        "colab": {
          "base_uri": "https://localhost:8080/",
          "height": 34
        }
      },
      "source": [
        "side_effects_df['sideEffects'].nunique()"
      ],
      "execution_count": 0,
      "outputs": [
        {
          "output_type": "execute_result",
          "data": {
            "text/plain": [
              "5"
            ]
          },
          "metadata": {
            "tags": []
          },
          "execution_count": 14
        }
      ]
    },
    {
      "cell_type": "code",
      "metadata": {
        "id": "R9b0pMyPrYQC",
        "colab_type": "code",
        "outputId": "82adf0be-be03-4791-c814-115ea0b4babf",
        "colab": {
          "base_uri": "https://localhost:8080/",
          "height": 119
        }
      },
      "source": [
        "side_effects_df['sideEffects'].value_counts()"
      ],
      "execution_count": 0,
      "outputs": [
        {
          "output_type": "execute_result",
          "data": {
            "text/plain": [
              "Mild Side Effects                1347\n",
              "No Side Effects                  1193\n",
              "Moderate Side Effects             848\n",
              "Severe Side Effects               489\n",
              "Extremely Severe Side Effects     255\n",
              "Name: sideEffects, dtype: int64"
            ]
          },
          "metadata": {
            "tags": []
          },
          "execution_count": 15
        }
      ]
    },
    {
      "cell_type": "code",
      "metadata": {
        "id": "FkifXabtrfHc",
        "colab_type": "code",
        "outputId": "4960a063-9dc6-4918-9f0b-f055aeccbc30",
        "colab": {
          "base_uri": "https://localhost:8080/",
          "height": 34
        }
      },
      "source": [
        "side_effects_df.loc[8]['sideEffectsReview']       #labelled as No Side Effect"
      ],
      "execution_count": 0,
      "outputs": [
        {
          "output_type": "execute_result",
          "data": {
            "text/plain": [
              "'I experienced no side effects.  I was not tired nor did I feel medicated.'"
            ]
          },
          "metadata": {
            "tags": []
          },
          "execution_count": 16
        }
      ]
    },
    {
      "cell_type": "code",
      "metadata": {
        "id": "HhVUYWJWriyG",
        "colab_type": "code",
        "outputId": "cd2c2088-90cb-40c6-c0ce-1ba20b55b0c1",
        "colab": {
          "base_uri": "https://localhost:8080/",
          "height": 34
        }
      },
      "source": [
        "side_effects_df.loc[5]['sideEffectsReview']       #labelled as No Side Effect"
      ],
      "execution_count": 0,
      "outputs": [
        {
          "output_type": "execute_result",
          "data": {
            "text/plain": [
              "'I felt no significant side effects - perhaps some slight drowsiness.'"
            ]
          },
          "metadata": {
            "tags": []
          },
          "execution_count": 17
        }
      ]
    },
    {
      "cell_type": "markdown",
      "metadata": {
        "id": "IBZgIjjCIBvh",
        "colab_type": "text"
      },
      "source": [
        "## **What happens when texts are not represented**"
      ]
    },
    {
      "cell_type": "code",
      "metadata": {
        "id": "Py8u_v12V5R7",
        "colab_type": "code",
        "colab": {}
      },
      "source": [
        "x_train_unprocessed, x_test_unprocessed, y_train_unprocessed, y_test_unprocessed = train_test_split(side_effects_df['sideEffectsReview'], side_effects_df['sideEffects'], test_size=0.2, random_state=0)"
      ],
      "execution_count": 0,
      "outputs": []
    },
    {
      "cell_type": "code",
      "metadata": {
        "id": "k_rObGRhX5ah",
        "colab_type": "code",
        "outputId": "c361a2d5-f9e3-4b28-f7de-f4c9d9a0089b",
        "colab": {
          "base_uri": "https://localhost:8080/",
          "height": 326
        }
      },
      "source": [
        "clf = LogisticRegression(random_state=0, solver='lbfgs',multi_class='multinomial').fit(x_train_unprocessed, y_train_unprocessed)"
      ],
      "execution_count": 0,
      "outputs": [
        {
          "output_type": "error",
          "ename": "ValueError",
          "evalue": "ignored",
          "traceback": [
            "\u001b[0;31m---------------------------------------------------------------------------\u001b[0m",
            "\u001b[0;31mValueError\u001b[0m                                Traceback (most recent call last)",
            "\u001b[0;32m<ipython-input-21-7d993808787c>\u001b[0m in \u001b[0;36m<module>\u001b[0;34m()\u001b[0m\n\u001b[0;32m----> 1\u001b[0;31m \u001b[0mclf\u001b[0m \u001b[0;34m=\u001b[0m \u001b[0mLogisticRegression\u001b[0m\u001b[0;34m(\u001b[0m\u001b[0mrandom_state\u001b[0m\u001b[0;34m=\u001b[0m\u001b[0;36m0\u001b[0m\u001b[0;34m,\u001b[0m \u001b[0msolver\u001b[0m\u001b[0;34m=\u001b[0m\u001b[0;34m'lbfgs'\u001b[0m\u001b[0;34m,\u001b[0m\u001b[0mmulti_class\u001b[0m\u001b[0;34m=\u001b[0m\u001b[0;34m'multinomial'\u001b[0m\u001b[0;34m)\u001b[0m\u001b[0;34m.\u001b[0m\u001b[0mfit\u001b[0m\u001b[0;34m(\u001b[0m\u001b[0mx_train_unprocessed\u001b[0m\u001b[0;34m,\u001b[0m \u001b[0my_train_unprocessed\u001b[0m\u001b[0;34m)\u001b[0m\u001b[0;34m\u001b[0m\u001b[0;34m\u001b[0m\u001b[0m\n\u001b[0m",
            "\u001b[0;32m/usr/local/lib/python3.6/dist-packages/sklearn/linear_model/logistic.py\u001b[0m in \u001b[0;36mfit\u001b[0;34m(self, X, y, sample_weight)\u001b[0m\n\u001b[1;32m   1530\u001b[0m \u001b[0;34m\u001b[0m\u001b[0m\n\u001b[1;32m   1531\u001b[0m         X, y = check_X_y(X, y, accept_sparse='csr', dtype=_dtype, order=\"C\",\n\u001b[0;32m-> 1532\u001b[0;31m                          accept_large_sparse=solver != 'liblinear')\n\u001b[0m\u001b[1;32m   1533\u001b[0m         \u001b[0mcheck_classification_targets\u001b[0m\u001b[0;34m(\u001b[0m\u001b[0my\u001b[0m\u001b[0;34m)\u001b[0m\u001b[0;34m\u001b[0m\u001b[0;34m\u001b[0m\u001b[0m\n\u001b[1;32m   1534\u001b[0m         \u001b[0mself\u001b[0m\u001b[0;34m.\u001b[0m\u001b[0mclasses_\u001b[0m \u001b[0;34m=\u001b[0m \u001b[0mnp\u001b[0m\u001b[0;34m.\u001b[0m\u001b[0munique\u001b[0m\u001b[0;34m(\u001b[0m\u001b[0my\u001b[0m\u001b[0;34m)\u001b[0m\u001b[0;34m\u001b[0m\u001b[0;34m\u001b[0m\u001b[0m\n",
            "\u001b[0;32m/usr/local/lib/python3.6/dist-packages/sklearn/utils/validation.py\u001b[0m in \u001b[0;36mcheck_X_y\u001b[0;34m(X, y, accept_sparse, accept_large_sparse, dtype, order, copy, force_all_finite, ensure_2d, allow_nd, multi_output, ensure_min_samples, ensure_min_features, y_numeric, warn_on_dtype, estimator)\u001b[0m\n\u001b[1;32m    717\u001b[0m                     \u001b[0mensure_min_features\u001b[0m\u001b[0;34m=\u001b[0m\u001b[0mensure_min_features\u001b[0m\u001b[0;34m,\u001b[0m\u001b[0;34m\u001b[0m\u001b[0;34m\u001b[0m\u001b[0m\n\u001b[1;32m    718\u001b[0m                     \u001b[0mwarn_on_dtype\u001b[0m\u001b[0;34m=\u001b[0m\u001b[0mwarn_on_dtype\u001b[0m\u001b[0;34m,\u001b[0m\u001b[0;34m\u001b[0m\u001b[0;34m\u001b[0m\u001b[0m\n\u001b[0;32m--> 719\u001b[0;31m                     estimator=estimator)\n\u001b[0m\u001b[1;32m    720\u001b[0m     \u001b[0;32mif\u001b[0m \u001b[0mmulti_output\u001b[0m\u001b[0;34m:\u001b[0m\u001b[0;34m\u001b[0m\u001b[0;34m\u001b[0m\u001b[0m\n\u001b[1;32m    721\u001b[0m         y = check_array(y, 'csr', force_all_finite=True, ensure_2d=False,\n",
            "\u001b[0;32m/usr/local/lib/python3.6/dist-packages/sklearn/utils/validation.py\u001b[0m in \u001b[0;36mcheck_array\u001b[0;34m(array, accept_sparse, accept_large_sparse, dtype, order, copy, force_all_finite, ensure_2d, allow_nd, ensure_min_samples, ensure_min_features, warn_on_dtype, estimator)\u001b[0m\n\u001b[1;32m    494\u001b[0m             \u001b[0;32mtry\u001b[0m\u001b[0;34m:\u001b[0m\u001b[0;34m\u001b[0m\u001b[0;34m\u001b[0m\u001b[0m\n\u001b[1;32m    495\u001b[0m                 \u001b[0mwarnings\u001b[0m\u001b[0;34m.\u001b[0m\u001b[0msimplefilter\u001b[0m\u001b[0;34m(\u001b[0m\u001b[0;34m'error'\u001b[0m\u001b[0;34m,\u001b[0m \u001b[0mComplexWarning\u001b[0m\u001b[0;34m)\u001b[0m\u001b[0;34m\u001b[0m\u001b[0;34m\u001b[0m\u001b[0m\n\u001b[0;32m--> 496\u001b[0;31m                 \u001b[0marray\u001b[0m \u001b[0;34m=\u001b[0m \u001b[0mnp\u001b[0m\u001b[0;34m.\u001b[0m\u001b[0masarray\u001b[0m\u001b[0;34m(\u001b[0m\u001b[0marray\u001b[0m\u001b[0;34m,\u001b[0m \u001b[0mdtype\u001b[0m\u001b[0;34m=\u001b[0m\u001b[0mdtype\u001b[0m\u001b[0;34m,\u001b[0m \u001b[0morder\u001b[0m\u001b[0;34m=\u001b[0m\u001b[0morder\u001b[0m\u001b[0;34m)\u001b[0m\u001b[0;34m\u001b[0m\u001b[0;34m\u001b[0m\u001b[0m\n\u001b[0m\u001b[1;32m    497\u001b[0m             \u001b[0;32mexcept\u001b[0m \u001b[0mComplexWarning\u001b[0m\u001b[0;34m:\u001b[0m\u001b[0;34m\u001b[0m\u001b[0;34m\u001b[0m\u001b[0m\n\u001b[1;32m    498\u001b[0m                 raise ValueError(\"Complex data not supported\\n\"\n",
            "\u001b[0;32m/usr/local/lib/python3.6/dist-packages/numpy/core/numeric.py\u001b[0m in \u001b[0;36masarray\u001b[0;34m(a, dtype, order)\u001b[0m\n\u001b[1;32m    536\u001b[0m \u001b[0;34m\u001b[0m\u001b[0m\n\u001b[1;32m    537\u001b[0m     \"\"\"\n\u001b[0;32m--> 538\u001b[0;31m     \u001b[0;32mreturn\u001b[0m \u001b[0marray\u001b[0m\u001b[0;34m(\u001b[0m\u001b[0ma\u001b[0m\u001b[0;34m,\u001b[0m \u001b[0mdtype\u001b[0m\u001b[0;34m,\u001b[0m \u001b[0mcopy\u001b[0m\u001b[0;34m=\u001b[0m\u001b[0;32mFalse\u001b[0m\u001b[0;34m,\u001b[0m \u001b[0morder\u001b[0m\u001b[0;34m=\u001b[0m\u001b[0morder\u001b[0m\u001b[0;34m)\u001b[0m\u001b[0;34m\u001b[0m\u001b[0;34m\u001b[0m\u001b[0m\n\u001b[0m\u001b[1;32m    539\u001b[0m \u001b[0;34m\u001b[0m\u001b[0m\n\u001b[1;32m    540\u001b[0m \u001b[0;34m\u001b[0m\u001b[0m\n",
            "\u001b[0;32m/usr/local/lib/python3.6/dist-packages/pandas/core/series.py\u001b[0m in \u001b[0;36m__array__\u001b[0;34m(self, dtype)\u001b[0m\n\u001b[1;32m    726\u001b[0m             \u001b[0mwarnings\u001b[0m\u001b[0;34m.\u001b[0m\u001b[0mwarn\u001b[0m\u001b[0;34m(\u001b[0m\u001b[0mmsg\u001b[0m\u001b[0;34m,\u001b[0m \u001b[0mFutureWarning\u001b[0m\u001b[0;34m,\u001b[0m \u001b[0mstacklevel\u001b[0m\u001b[0;34m=\u001b[0m\u001b[0;36m3\u001b[0m\u001b[0;34m)\u001b[0m\u001b[0;34m\u001b[0m\u001b[0;34m\u001b[0m\u001b[0m\n\u001b[1;32m    727\u001b[0m             \u001b[0mdtype\u001b[0m \u001b[0;34m=\u001b[0m \u001b[0;34m'M8[ns]'\u001b[0m\u001b[0;34m\u001b[0m\u001b[0;34m\u001b[0m\u001b[0m\n\u001b[0;32m--> 728\u001b[0;31m         \u001b[0;32mreturn\u001b[0m \u001b[0mnp\u001b[0m\u001b[0;34m.\u001b[0m\u001b[0masarray\u001b[0m\u001b[0;34m(\u001b[0m\u001b[0mself\u001b[0m\u001b[0;34m.\u001b[0m\u001b[0marray\u001b[0m\u001b[0;34m,\u001b[0m \u001b[0mdtype\u001b[0m\u001b[0;34m)\u001b[0m\u001b[0;34m\u001b[0m\u001b[0;34m\u001b[0m\u001b[0m\n\u001b[0m\u001b[1;32m    729\u001b[0m \u001b[0;34m\u001b[0m\u001b[0m\n\u001b[1;32m    730\u001b[0m     \u001b[0;32mdef\u001b[0m \u001b[0m__array_wrap__\u001b[0m\u001b[0;34m(\u001b[0m\u001b[0mself\u001b[0m\u001b[0;34m,\u001b[0m \u001b[0mresult\u001b[0m\u001b[0;34m,\u001b[0m \u001b[0mcontext\u001b[0m\u001b[0;34m=\u001b[0m\u001b[0;32mNone\u001b[0m\u001b[0;34m)\u001b[0m\u001b[0;34m:\u001b[0m\u001b[0;34m\u001b[0m\u001b[0;34m\u001b[0m\u001b[0m\n",
            "\u001b[0;32m/usr/local/lib/python3.6/dist-packages/numpy/core/numeric.py\u001b[0m in \u001b[0;36masarray\u001b[0;34m(a, dtype, order)\u001b[0m\n\u001b[1;32m    536\u001b[0m \u001b[0;34m\u001b[0m\u001b[0m\n\u001b[1;32m    537\u001b[0m     \"\"\"\n\u001b[0;32m--> 538\u001b[0;31m     \u001b[0;32mreturn\u001b[0m \u001b[0marray\u001b[0m\u001b[0;34m(\u001b[0m\u001b[0ma\u001b[0m\u001b[0;34m,\u001b[0m \u001b[0mdtype\u001b[0m\u001b[0;34m,\u001b[0m \u001b[0mcopy\u001b[0m\u001b[0;34m=\u001b[0m\u001b[0;32mFalse\u001b[0m\u001b[0;34m,\u001b[0m \u001b[0morder\u001b[0m\u001b[0;34m=\u001b[0m\u001b[0morder\u001b[0m\u001b[0;34m)\u001b[0m\u001b[0;34m\u001b[0m\u001b[0;34m\u001b[0m\u001b[0m\n\u001b[0m\u001b[1;32m    539\u001b[0m \u001b[0;34m\u001b[0m\u001b[0m\n\u001b[1;32m    540\u001b[0m \u001b[0;34m\u001b[0m\u001b[0m\n",
            "\u001b[0;32m/usr/local/lib/python3.6/dist-packages/pandas/core/arrays/numpy_.py\u001b[0m in \u001b[0;36m__array__\u001b[0;34m(self, dtype)\u001b[0m\n\u001b[1;32m    169\u001b[0m \u001b[0;34m\u001b[0m\u001b[0m\n\u001b[1;32m    170\u001b[0m     \u001b[0;32mdef\u001b[0m \u001b[0m__array__\u001b[0m\u001b[0;34m(\u001b[0m\u001b[0mself\u001b[0m\u001b[0;34m,\u001b[0m \u001b[0mdtype\u001b[0m\u001b[0;34m=\u001b[0m\u001b[0;32mNone\u001b[0m\u001b[0;34m)\u001b[0m\u001b[0;34m:\u001b[0m\u001b[0;34m\u001b[0m\u001b[0;34m\u001b[0m\u001b[0m\n\u001b[0;32m--> 171\u001b[0;31m         \u001b[0;32mreturn\u001b[0m \u001b[0mnp\u001b[0m\u001b[0;34m.\u001b[0m\u001b[0masarray\u001b[0m\u001b[0;34m(\u001b[0m\u001b[0mself\u001b[0m\u001b[0;34m.\u001b[0m\u001b[0m_ndarray\u001b[0m\u001b[0;34m,\u001b[0m \u001b[0mdtype\u001b[0m\u001b[0;34m=\u001b[0m\u001b[0mdtype\u001b[0m\u001b[0;34m)\u001b[0m\u001b[0;34m\u001b[0m\u001b[0;34m\u001b[0m\u001b[0m\n\u001b[0m\u001b[1;32m    172\u001b[0m \u001b[0;34m\u001b[0m\u001b[0m\n\u001b[1;32m    173\u001b[0m     \u001b[0m_HANDLED_TYPES\u001b[0m \u001b[0;34m=\u001b[0m \u001b[0;34m(\u001b[0m\u001b[0mnp\u001b[0m\u001b[0;34m.\u001b[0m\u001b[0mndarray\u001b[0m\u001b[0;34m,\u001b[0m \u001b[0mnumbers\u001b[0m\u001b[0;34m.\u001b[0m\u001b[0mNumber\u001b[0m\u001b[0;34m)\u001b[0m\u001b[0;34m\u001b[0m\u001b[0;34m\u001b[0m\u001b[0m\n",
            "\u001b[0;32m/usr/local/lib/python3.6/dist-packages/numpy/core/numeric.py\u001b[0m in \u001b[0;36masarray\u001b[0;34m(a, dtype, order)\u001b[0m\n\u001b[1;32m    536\u001b[0m \u001b[0;34m\u001b[0m\u001b[0m\n\u001b[1;32m    537\u001b[0m     \"\"\"\n\u001b[0;32m--> 538\u001b[0;31m     \u001b[0;32mreturn\u001b[0m \u001b[0marray\u001b[0m\u001b[0;34m(\u001b[0m\u001b[0ma\u001b[0m\u001b[0;34m,\u001b[0m \u001b[0mdtype\u001b[0m\u001b[0;34m,\u001b[0m \u001b[0mcopy\u001b[0m\u001b[0;34m=\u001b[0m\u001b[0;32mFalse\u001b[0m\u001b[0;34m,\u001b[0m \u001b[0morder\u001b[0m\u001b[0;34m=\u001b[0m\u001b[0morder\u001b[0m\u001b[0;34m)\u001b[0m\u001b[0;34m\u001b[0m\u001b[0;34m\u001b[0m\u001b[0m\n\u001b[0m\u001b[1;32m    539\u001b[0m \u001b[0;34m\u001b[0m\u001b[0m\n\u001b[1;32m    540\u001b[0m \u001b[0;34m\u001b[0m\u001b[0m\n",
            "\u001b[0;31mValueError\u001b[0m: could not convert string to float: 'Adderall allowed me to start and FINISH projects. It also gave me energy. I am not a coffee drinker, so Adderall was like my �morning coffee.�  It sometimes would give me a feeling of mild euphoria, which was nice. Certain tasks (like cleaning the house!) didn�t seem so difficult because I would not get distracted by other things. Also dry mouth.'"
          ]
        }
      ]
    },
    {
      "cell_type": "markdown",
      "metadata": {
        "id": "_yL26blxr88y",
        "colab_type": "text"
      },
      "source": [
        "## Different Ways of Encoding Text Label"
      ]
    },
    {
      "cell_type": "markdown",
      "metadata": {
        "id": "kHmfnnQirz_V",
        "colab_type": "text"
      },
      "source": [
        "###Label encoding using manual assignment"
      ]
    },
    {
      "cell_type": "code",
      "metadata": {
        "id": "buHzYzR_rziO",
        "colab_type": "code",
        "colab": {}
      },
      "source": [
        "side_effects_df_1 = side_effects_df.copy()\n",
        "side_effects_df_1.loc[side_effects_df_1['sideEffects'] =='Extremely Severe Side Effects',\"manual_label_encode\"] = 0\n",
        "side_effects_df_1.loc[side_effects_df_1['sideEffects'] =='Mild Side Effects',\"manual_label_encode\"] = 1\n",
        "side_effects_df_1.loc[side_effects_df_1['sideEffects'] =='Moderate Side Effects',\"manual_label_encode\"] = 2\n",
        "side_effects_df_1.loc[side_effects_df_1['sideEffects'] =='No Side Effects',\"manual_label_encode\"] = 3\n",
        "side_effects_df_1.loc[side_effects_df_1['sideEffects'] =='Severe Side Effects',\"manual_label_encode\"] = 4\n"
      ],
      "execution_count": 0,
      "outputs": []
    },
    {
      "cell_type": "code",
      "metadata": {
        "id": "xu3suh7DsinV",
        "colab_type": "code",
        "outputId": "99d8e058-f9ff-4121-d0c1-01c6993bd073",
        "colab": {
          "base_uri": "https://localhost:8080/",
          "height": 204
        }
      },
      "source": [
        "side_effects_df_1.head()"
      ],
      "execution_count": 0,
      "outputs": [
        {
          "output_type": "execute_result",
          "data": {
            "text/html": [
              "<div>\n",
              "<style scoped>\n",
              "    .dataframe tbody tr th:only-of-type {\n",
              "        vertical-align: middle;\n",
              "    }\n",
              "\n",
              "    .dataframe tbody tr th {\n",
              "        vertical-align: top;\n",
              "    }\n",
              "\n",
              "    .dataframe thead th {\n",
              "        text-align: right;\n",
              "    }\n",
              "</style>\n",
              "<table border=\"1\" class=\"dataframe\">\n",
              "  <thead>\n",
              "    <tr style=\"text-align: right;\">\n",
              "      <th></th>\n",
              "      <th>urlDrugName</th>\n",
              "      <th>sideEffects</th>\n",
              "      <th>sideEffectsReview</th>\n",
              "      <th>manual_label_encode</th>\n",
              "    </tr>\n",
              "  </thead>\n",
              "  <tbody>\n",
              "    <tr>\n",
              "      <th>0</th>\n",
              "      <td>biaxin</td>\n",
              "      <td>Mild Side Effects</td>\n",
              "      <td>Some back pain, some nauseau.</td>\n",
              "      <td>1.0</td>\n",
              "    </tr>\n",
              "    <tr>\n",
              "      <th>1</th>\n",
              "      <td>lamictal</td>\n",
              "      <td>Mild Side Effects</td>\n",
              "      <td>Drowsiness, a bit of mental numbness. If you t...</td>\n",
              "      <td>1.0</td>\n",
              "    </tr>\n",
              "    <tr>\n",
              "      <th>2</th>\n",
              "      <td>depakene</td>\n",
              "      <td>Severe Side Effects</td>\n",
              "      <td>Depakene has a very thin coating, which caused...</td>\n",
              "      <td>4.0</td>\n",
              "    </tr>\n",
              "    <tr>\n",
              "      <th>3</th>\n",
              "      <td>sarafem</td>\n",
              "      <td>No Side Effects</td>\n",
              "      <td>I didnt really notice any side effects.</td>\n",
              "      <td>3.0</td>\n",
              "    </tr>\n",
              "    <tr>\n",
              "      <th>4</th>\n",
              "      <td>accutane</td>\n",
              "      <td>Mild Side Effects</td>\n",
              "      <td>Side effects included moderate to severe dry s...</td>\n",
              "      <td>1.0</td>\n",
              "    </tr>\n",
              "  </tbody>\n",
              "</table>\n",
              "</div>"
            ],
            "text/plain": [
              "  urlDrugName  ... manual_label_encode\n",
              "0      biaxin  ...                 1.0\n",
              "1    lamictal  ...                 1.0\n",
              "2    depakene  ...                 4.0\n",
              "3     sarafem  ...                 3.0\n",
              "4    accutane  ...                 1.0\n",
              "\n",
              "[5 rows x 4 columns]"
            ]
          },
          "metadata": {
            "tags": []
          },
          "execution_count": 23
        }
      ]
    },
    {
      "cell_type": "markdown",
      "metadata": {
        "id": "2nun7QpNeh_7",
        "colab_type": "text"
      },
      "source": [
        "### Label Encoding Using pandas.astype('category)\n"
      ]
    },
    {
      "cell_type": "code",
      "metadata": {
        "id": "KgTedERkf7WZ",
        "colab_type": "code",
        "colab": {}
      },
      "source": [
        "side_effects_df_2 = side_effects_df.copy()\n",
        "side_effects_df_2['pandas_as_category_label_encode']  = side_effects_df_2['sideEffects'].astype('category').cat.codes"
      ],
      "execution_count": 0,
      "outputs": []
    },
    {
      "cell_type": "code",
      "metadata": {
        "id": "TopaLp_CfgwJ",
        "colab_type": "code",
        "outputId": "1788c551-1321-4161-9394-6ed2063ade9d",
        "colab": {
          "base_uri": "https://localhost:8080/",
          "height": 204
        }
      },
      "source": [
        "side_effects_df_2.head()"
      ],
      "execution_count": 0,
      "outputs": [
        {
          "output_type": "execute_result",
          "data": {
            "text/html": [
              "<div>\n",
              "<style scoped>\n",
              "    .dataframe tbody tr th:only-of-type {\n",
              "        vertical-align: middle;\n",
              "    }\n",
              "\n",
              "    .dataframe tbody tr th {\n",
              "        vertical-align: top;\n",
              "    }\n",
              "\n",
              "    .dataframe thead th {\n",
              "        text-align: right;\n",
              "    }\n",
              "</style>\n",
              "<table border=\"1\" class=\"dataframe\">\n",
              "  <thead>\n",
              "    <tr style=\"text-align: right;\">\n",
              "      <th></th>\n",
              "      <th>urlDrugName</th>\n",
              "      <th>sideEffects</th>\n",
              "      <th>sideEffectsReview</th>\n",
              "      <th>pandas_as_category_label_encode</th>\n",
              "    </tr>\n",
              "  </thead>\n",
              "  <tbody>\n",
              "    <tr>\n",
              "      <th>0</th>\n",
              "      <td>biaxin</td>\n",
              "      <td>Mild Side Effects</td>\n",
              "      <td>Some back pain, some nauseau.</td>\n",
              "      <td>1</td>\n",
              "    </tr>\n",
              "    <tr>\n",
              "      <th>1</th>\n",
              "      <td>lamictal</td>\n",
              "      <td>Mild Side Effects</td>\n",
              "      <td>Drowsiness, a bit of mental numbness. If you t...</td>\n",
              "      <td>1</td>\n",
              "    </tr>\n",
              "    <tr>\n",
              "      <th>2</th>\n",
              "      <td>depakene</td>\n",
              "      <td>Severe Side Effects</td>\n",
              "      <td>Depakene has a very thin coating, which caused...</td>\n",
              "      <td>4</td>\n",
              "    </tr>\n",
              "    <tr>\n",
              "      <th>3</th>\n",
              "      <td>sarafem</td>\n",
              "      <td>No Side Effects</td>\n",
              "      <td>I didnt really notice any side effects.</td>\n",
              "      <td>3</td>\n",
              "    </tr>\n",
              "    <tr>\n",
              "      <th>4</th>\n",
              "      <td>accutane</td>\n",
              "      <td>Mild Side Effects</td>\n",
              "      <td>Side effects included moderate to severe dry s...</td>\n",
              "      <td>1</td>\n",
              "    </tr>\n",
              "  </tbody>\n",
              "</table>\n",
              "</div>"
            ],
            "text/plain": [
              "  urlDrugName  ... pandas_as_category_label_encode\n",
              "0      biaxin  ...                               1\n",
              "1    lamictal  ...                               1\n",
              "2    depakene  ...                               4\n",
              "3     sarafem  ...                               3\n",
              "4    accutane  ...                               1\n",
              "\n",
              "[5 rows x 4 columns]"
            ]
          },
          "metadata": {
            "tags": []
          },
          "execution_count": 25
        }
      ]
    },
    {
      "cell_type": "markdown",
      "metadata": {
        "id": "PtQ3acM4tf5R",
        "colab_type": "text"
      },
      "source": [
        "###Label Encoding using pandas.factorize"
      ]
    },
    {
      "cell_type": "code",
      "metadata": {
        "id": "D536Umw94aMB",
        "colab_type": "code",
        "colab": {}
      },
      "source": [
        "side_effects_df_3 = side_effects_df.copy()\n",
        "side_effects_df_3['pandas_factorize_label_encode'] = side_effects_df_3['sideEffects'].factorize(sort=True)[0]"
      ],
      "execution_count": 0,
      "outputs": []
    },
    {
      "cell_type": "code",
      "metadata": {
        "id": "iaRIv_864y9H",
        "colab_type": "code",
        "outputId": "063d095b-6616-49d6-9f9d-4909716e6239",
        "colab": {
          "base_uri": "https://localhost:8080/",
          "height": 204
        }
      },
      "source": [
        "side_effects_df_3.head()"
      ],
      "execution_count": 0,
      "outputs": [
        {
          "output_type": "execute_result",
          "data": {
            "text/html": [
              "<div>\n",
              "<style scoped>\n",
              "    .dataframe tbody tr th:only-of-type {\n",
              "        vertical-align: middle;\n",
              "    }\n",
              "\n",
              "    .dataframe tbody tr th {\n",
              "        vertical-align: top;\n",
              "    }\n",
              "\n",
              "    .dataframe thead th {\n",
              "        text-align: right;\n",
              "    }\n",
              "</style>\n",
              "<table border=\"1\" class=\"dataframe\">\n",
              "  <thead>\n",
              "    <tr style=\"text-align: right;\">\n",
              "      <th></th>\n",
              "      <th>urlDrugName</th>\n",
              "      <th>sideEffects</th>\n",
              "      <th>sideEffectsReview</th>\n",
              "      <th>pandas_factorize_label_encode</th>\n",
              "    </tr>\n",
              "  </thead>\n",
              "  <tbody>\n",
              "    <tr>\n",
              "      <th>0</th>\n",
              "      <td>biaxin</td>\n",
              "      <td>Mild Side Effects</td>\n",
              "      <td>Some back pain, some nauseau.</td>\n",
              "      <td>1</td>\n",
              "    </tr>\n",
              "    <tr>\n",
              "      <th>1</th>\n",
              "      <td>lamictal</td>\n",
              "      <td>Mild Side Effects</td>\n",
              "      <td>Drowsiness, a bit of mental numbness. If you t...</td>\n",
              "      <td>1</td>\n",
              "    </tr>\n",
              "    <tr>\n",
              "      <th>2</th>\n",
              "      <td>depakene</td>\n",
              "      <td>Severe Side Effects</td>\n",
              "      <td>Depakene has a very thin coating, which caused...</td>\n",
              "      <td>4</td>\n",
              "    </tr>\n",
              "    <tr>\n",
              "      <th>3</th>\n",
              "      <td>sarafem</td>\n",
              "      <td>No Side Effects</td>\n",
              "      <td>I didnt really notice any side effects.</td>\n",
              "      <td>3</td>\n",
              "    </tr>\n",
              "    <tr>\n",
              "      <th>4</th>\n",
              "      <td>accutane</td>\n",
              "      <td>Mild Side Effects</td>\n",
              "      <td>Side effects included moderate to severe dry s...</td>\n",
              "      <td>1</td>\n",
              "    </tr>\n",
              "  </tbody>\n",
              "</table>\n",
              "</div>"
            ],
            "text/plain": [
              "  urlDrugName  ... pandas_factorize_label_encode\n",
              "0      biaxin  ...                             1\n",
              "1    lamictal  ...                             1\n",
              "2    depakene  ...                             4\n",
              "3     sarafem  ...                             3\n",
              "4    accutane  ...                             1\n",
              "\n",
              "[5 rows x 4 columns]"
            ]
          },
          "metadata": {
            "tags": []
          },
          "execution_count": 27
        }
      ]
    },
    {
      "cell_type": "markdown",
      "metadata": {
        "id": "MwQh-gSbxUTf",
        "colab_type": "text"
      },
      "source": [
        "###  Label Encoding Using Dictionary Mapping\n",
        "#### Remember to talk about mapping as an option to set ordinal category label"
      ]
    },
    {
      "cell_type": "code",
      "metadata": {
        "id": "ertwx2u_xczQ",
        "colab_type": "code",
        "colab": {}
      },
      "source": [
        "side_effects_df_4 = side_effects_df.copy()\n",
        "side_effects_dict = {'Mild Side Effects' : 1 ,'Severe Side Effects' : 4,'No Side Effects' : 3,'Moderate Side Effects' : 2,'Extremely Severe Side Effects' : 0}\n",
        "side_effects_df_4['map_label_encode'] = side_effects_df_4['sideEffects'].map(side_effects_dict)"
      ],
      "execution_count": 0,
      "outputs": []
    },
    {
      "cell_type": "code",
      "metadata": {
        "id": "wvO4IyREx0qB",
        "colab_type": "code",
        "outputId": "2f9fca83-98ac-48ae-a870-2b308580ec19",
        "colab": {
          "base_uri": "https://localhost:8080/",
          "height": 204
        }
      },
      "source": [
        "side_effects_df_4.head()"
      ],
      "execution_count": 0,
      "outputs": [
        {
          "output_type": "execute_result",
          "data": {
            "text/html": [
              "<div>\n",
              "<style scoped>\n",
              "    .dataframe tbody tr th:only-of-type {\n",
              "        vertical-align: middle;\n",
              "    }\n",
              "\n",
              "    .dataframe tbody tr th {\n",
              "        vertical-align: top;\n",
              "    }\n",
              "\n",
              "    .dataframe thead th {\n",
              "        text-align: right;\n",
              "    }\n",
              "</style>\n",
              "<table border=\"1\" class=\"dataframe\">\n",
              "  <thead>\n",
              "    <tr style=\"text-align: right;\">\n",
              "      <th></th>\n",
              "      <th>urlDrugName</th>\n",
              "      <th>sideEffects</th>\n",
              "      <th>sideEffectsReview</th>\n",
              "      <th>map_label_encode</th>\n",
              "    </tr>\n",
              "  </thead>\n",
              "  <tbody>\n",
              "    <tr>\n",
              "      <th>0</th>\n",
              "      <td>biaxin</td>\n",
              "      <td>Mild Side Effects</td>\n",
              "      <td>Some back pain, some nauseau.</td>\n",
              "      <td>1</td>\n",
              "    </tr>\n",
              "    <tr>\n",
              "      <th>1</th>\n",
              "      <td>lamictal</td>\n",
              "      <td>Mild Side Effects</td>\n",
              "      <td>Drowsiness, a bit of mental numbness. If you t...</td>\n",
              "      <td>1</td>\n",
              "    </tr>\n",
              "    <tr>\n",
              "      <th>2</th>\n",
              "      <td>depakene</td>\n",
              "      <td>Severe Side Effects</td>\n",
              "      <td>Depakene has a very thin coating, which caused...</td>\n",
              "      <td>4</td>\n",
              "    </tr>\n",
              "    <tr>\n",
              "      <th>3</th>\n",
              "      <td>sarafem</td>\n",
              "      <td>No Side Effects</td>\n",
              "      <td>I didnt really notice any side effects.</td>\n",
              "      <td>3</td>\n",
              "    </tr>\n",
              "    <tr>\n",
              "      <th>4</th>\n",
              "      <td>accutane</td>\n",
              "      <td>Mild Side Effects</td>\n",
              "      <td>Side effects included moderate to severe dry s...</td>\n",
              "      <td>1</td>\n",
              "    </tr>\n",
              "  </tbody>\n",
              "</table>\n",
              "</div>"
            ],
            "text/plain": [
              "  urlDrugName  ... map_label_encode\n",
              "0      biaxin  ...                1\n",
              "1    lamictal  ...                1\n",
              "2    depakene  ...                4\n",
              "3     sarafem  ...                3\n",
              "4    accutane  ...                1\n",
              "\n",
              "[5 rows x 4 columns]"
            ]
          },
          "metadata": {
            "tags": []
          },
          "execution_count": 29
        }
      ]
    },
    {
      "cell_type": "markdown",
      "metadata": {
        "id": "ygU8pdPbecUJ",
        "colab_type": "text"
      },
      "source": [
        "### Label Encoding Using Sklearn's LabelEncoder"
      ]
    },
    {
      "cell_type": "code",
      "metadata": {
        "id": "HInoiuAmgMPk",
        "colab_type": "code",
        "colab": {}
      },
      "source": [
        "side_effects_df_5 = side_effects_df.copy()\n",
        "encoder = LabelEncoder()\n",
        "side_effects_df_5['sklearn_label_encode'] = encoder.fit_transform(side_effects_df_5['sideEffects'])"
      ],
      "execution_count": 0,
      "outputs": []
    },
    {
      "cell_type": "code",
      "metadata": {
        "id": "VGxmMTbldELP",
        "colab_type": "code",
        "outputId": "24886d6e-23df-47cd-ea6a-5132a9d7ee1d",
        "colab": {
          "base_uri": "https://localhost:8080/",
          "height": 204
        }
      },
      "source": [
        "side_effects_df_5.head()"
      ],
      "execution_count": 0,
      "outputs": [
        {
          "output_type": "execute_result",
          "data": {
            "text/html": [
              "<div>\n",
              "<style scoped>\n",
              "    .dataframe tbody tr th:only-of-type {\n",
              "        vertical-align: middle;\n",
              "    }\n",
              "\n",
              "    .dataframe tbody tr th {\n",
              "        vertical-align: top;\n",
              "    }\n",
              "\n",
              "    .dataframe thead th {\n",
              "        text-align: right;\n",
              "    }\n",
              "</style>\n",
              "<table border=\"1\" class=\"dataframe\">\n",
              "  <thead>\n",
              "    <tr style=\"text-align: right;\">\n",
              "      <th></th>\n",
              "      <th>urlDrugName</th>\n",
              "      <th>sideEffects</th>\n",
              "      <th>sideEffectsReview</th>\n",
              "      <th>sklearn_label_encode</th>\n",
              "    </tr>\n",
              "  </thead>\n",
              "  <tbody>\n",
              "    <tr>\n",
              "      <th>0</th>\n",
              "      <td>biaxin</td>\n",
              "      <td>Mild Side Effects</td>\n",
              "      <td>Some back pain, some nauseau.</td>\n",
              "      <td>1</td>\n",
              "    </tr>\n",
              "    <tr>\n",
              "      <th>1</th>\n",
              "      <td>lamictal</td>\n",
              "      <td>Mild Side Effects</td>\n",
              "      <td>Drowsiness, a bit of mental numbness. If you t...</td>\n",
              "      <td>1</td>\n",
              "    </tr>\n",
              "    <tr>\n",
              "      <th>2</th>\n",
              "      <td>depakene</td>\n",
              "      <td>Severe Side Effects</td>\n",
              "      <td>Depakene has a very thin coating, which caused...</td>\n",
              "      <td>4</td>\n",
              "    </tr>\n",
              "    <tr>\n",
              "      <th>3</th>\n",
              "      <td>sarafem</td>\n",
              "      <td>No Side Effects</td>\n",
              "      <td>I didnt really notice any side effects.</td>\n",
              "      <td>3</td>\n",
              "    </tr>\n",
              "    <tr>\n",
              "      <th>4</th>\n",
              "      <td>accutane</td>\n",
              "      <td>Mild Side Effects</td>\n",
              "      <td>Side effects included moderate to severe dry s...</td>\n",
              "      <td>1</td>\n",
              "    </tr>\n",
              "  </tbody>\n",
              "</table>\n",
              "</div>"
            ],
            "text/plain": [
              "  urlDrugName  ... sklearn_label_encode\n",
              "0      biaxin  ...                    1\n",
              "1    lamictal  ...                    1\n",
              "2    depakene  ...                    4\n",
              "3     sarafem  ...                    3\n",
              "4    accutane  ...                    1\n",
              "\n",
              "[5 rows x 4 columns]"
            ]
          },
          "metadata": {
            "tags": []
          },
          "execution_count": 32
        }
      ]
    },
    {
      "cell_type": "markdown",
      "metadata": {
        "id": "APbrmBLRwcsh",
        "colab_type": "text"
      },
      "source": [
        "### One Hot Encoding Using panda.get_dummies"
      ]
    },
    {
      "cell_type": "code",
      "metadata": {
        "id": "baaCTR4Ftjee",
        "colab_type": "code",
        "colab": {}
      },
      "source": [
        "side_effects_df_6 = side_effects_df.copy()\n",
        "dummy_df = pd.get_dummies(side_effects_df_6['sideEffects'],prefix=['sideEffects'])\n",
        "side_effects_df_6 =  pd.concat([side_effects_df_6,dummy_df],axis=1)"
      ],
      "execution_count": 0,
      "outputs": []
    },
    {
      "cell_type": "code",
      "metadata": {
        "id": "xD2Ly6UTvyH7",
        "colab_type": "code",
        "outputId": "18afb610-af43-4653-d033-8a4979a508b1",
        "colab": {
          "base_uri": "https://localhost:8080/",
          "height": 306
        }
      },
      "source": [
        "side_effects_df_6.head()"
      ],
      "execution_count": 0,
      "outputs": [
        {
          "output_type": "execute_result",
          "data": {
            "text/html": [
              "<div>\n",
              "<style scoped>\n",
              "    .dataframe tbody tr th:only-of-type {\n",
              "        vertical-align: middle;\n",
              "    }\n",
              "\n",
              "    .dataframe tbody tr th {\n",
              "        vertical-align: top;\n",
              "    }\n",
              "\n",
              "    .dataframe thead th {\n",
              "        text-align: right;\n",
              "    }\n",
              "</style>\n",
              "<table border=\"1\" class=\"dataframe\">\n",
              "  <thead>\n",
              "    <tr style=\"text-align: right;\">\n",
              "      <th></th>\n",
              "      <th>urlDrugName</th>\n",
              "      <th>sideEffects</th>\n",
              "      <th>sideEffectsReview</th>\n",
              "      <th>['sideEffects']_Extremely Severe Side Effects</th>\n",
              "      <th>['sideEffects']_Mild Side Effects</th>\n",
              "      <th>['sideEffects']_Moderate Side Effects</th>\n",
              "      <th>['sideEffects']_No Side Effects</th>\n",
              "      <th>['sideEffects']_Severe Side Effects</th>\n",
              "    </tr>\n",
              "  </thead>\n",
              "  <tbody>\n",
              "    <tr>\n",
              "      <th>0</th>\n",
              "      <td>biaxin</td>\n",
              "      <td>Mild Side Effects</td>\n",
              "      <td>Some back pain, some nauseau.</td>\n",
              "      <td>0</td>\n",
              "      <td>1</td>\n",
              "      <td>0</td>\n",
              "      <td>0</td>\n",
              "      <td>0</td>\n",
              "    </tr>\n",
              "    <tr>\n",
              "      <th>1</th>\n",
              "      <td>lamictal</td>\n",
              "      <td>Mild Side Effects</td>\n",
              "      <td>Drowsiness, a bit of mental numbness. If you t...</td>\n",
              "      <td>0</td>\n",
              "      <td>1</td>\n",
              "      <td>0</td>\n",
              "      <td>0</td>\n",
              "      <td>0</td>\n",
              "    </tr>\n",
              "    <tr>\n",
              "      <th>2</th>\n",
              "      <td>depakene</td>\n",
              "      <td>Severe Side Effects</td>\n",
              "      <td>Depakene has a very thin coating, which caused...</td>\n",
              "      <td>0</td>\n",
              "      <td>0</td>\n",
              "      <td>0</td>\n",
              "      <td>0</td>\n",
              "      <td>1</td>\n",
              "    </tr>\n",
              "    <tr>\n",
              "      <th>3</th>\n",
              "      <td>sarafem</td>\n",
              "      <td>No Side Effects</td>\n",
              "      <td>I didnt really notice any side effects.</td>\n",
              "      <td>0</td>\n",
              "      <td>0</td>\n",
              "      <td>0</td>\n",
              "      <td>1</td>\n",
              "      <td>0</td>\n",
              "    </tr>\n",
              "    <tr>\n",
              "      <th>4</th>\n",
              "      <td>accutane</td>\n",
              "      <td>Mild Side Effects</td>\n",
              "      <td>Side effects included moderate to severe dry s...</td>\n",
              "      <td>0</td>\n",
              "      <td>1</td>\n",
              "      <td>0</td>\n",
              "      <td>0</td>\n",
              "      <td>0</td>\n",
              "    </tr>\n",
              "  </tbody>\n",
              "</table>\n",
              "</div>"
            ],
            "text/plain": [
              "  urlDrugName  ... ['sideEffects']_Severe Side Effects\n",
              "0      biaxin  ...                                   0\n",
              "1    lamictal  ...                                   0\n",
              "2    depakene  ...                                   1\n",
              "3     sarafem  ...                                   0\n",
              "4    accutane  ...                                   0\n",
              "\n",
              "[5 rows x 8 columns]"
            ]
          },
          "metadata": {
            "tags": []
          },
          "execution_count": 34
        }
      ]
    },
    {
      "cell_type": "markdown",
      "metadata": {
        "id": "dB20juOEa_OS",
        "colab_type": "text"
      },
      "source": [
        ""
      ]
    },
    {
      "cell_type": "markdown",
      "metadata": {
        "id": "XGb2Sl4_bBSr",
        "colab_type": "text"
      },
      "source": [
        "## sklearn's CountVectorizer"
      ]
    },
    {
      "cell_type": "code",
      "metadata": {
        "id": "dhKRdWNuJ29a",
        "colab_type": "code",
        "colab": {}
      },
      "source": [
        "x_train,x_test,y_train,y_test = train_test_split(side_effects_df_5['sideEffectsReview'],side_effects_df_5['sklearn_label_encode'], test_size=0.2, random_state=42)"
      ],
      "execution_count": 0,
      "outputs": []
    },
    {
      "cell_type": "code",
      "metadata": {
        "id": "kgwxOsO5Kptr",
        "colab_type": "code",
        "colab": {}
      },
      "source": [
        "cv = CountVectorizer()\n",
        "x_train_cv = cv.fit_transform(x_train)\n",
        "x_test_cv = cv.transform(x_test)"
      ],
      "execution_count": 0,
      "outputs": []
    },
    {
      "cell_type": "code",
      "metadata": {
        "id": "SMiNc8CPbHzQ",
        "colab_type": "code",
        "outputId": "21c887c8-a59f-4072-eb1f-1c0fe2fc3c91",
        "colab": {
          "base_uri": "https://localhost:8080/",
          "height": 34
        }
      },
      "source": [
        "x_train_cv.shape, x_test_cv.shape"
      ],
      "execution_count": 0,
      "outputs": [
        {
          "output_type": "execute_result",
          "data": {
            "text/plain": [
              "((3305, 7174), (827, 7174))"
            ]
          },
          "metadata": {
            "tags": []
          },
          "execution_count": 39
        }
      ]
    },
    {
      "cell_type": "code",
      "metadata": {
        "id": "LqULoyX5LsEH",
        "colab_type": "code",
        "colab": {}
      },
      "source": [
        "#x_train_cv[0:5]"
      ],
      "execution_count": 0,
      "outputs": []
    },
    {
      "cell_type": "code",
      "metadata": {
        "id": "smalZGTILu_N",
        "colab_type": "code",
        "outputId": "93245734-79a3-4c3f-aece-2720cd59bb8b",
        "colab": {
          "base_uri": "https://localhost:8080/",
          "height": 136
        }
      },
      "source": [
        "x_array = x_train_cv.toarray()\n",
        "x_array"
      ],
      "execution_count": 0,
      "outputs": [
        {
          "output_type": "execute_result",
          "data": {
            "text/plain": [
              "array([[0, 0, 0, ..., 0, 0, 0],\n",
              "       [0, 0, 0, ..., 0, 0, 0],\n",
              "       [0, 0, 0, ..., 0, 0, 0],\n",
              "       ...,\n",
              "       [0, 0, 0, ..., 0, 0, 0],\n",
              "       [0, 0, 0, ..., 0, 0, 0],\n",
              "       [0, 0, 0, ..., 0, 0, 0]])"
            ]
          },
          "metadata": {
            "tags": []
          },
          "execution_count": 40
        }
      ]
    },
    {
      "cell_type": "code",
      "metadata": {
        "id": "nrgWPsOBMmsU",
        "colab_type": "code",
        "outputId": "d0f1c931-438d-4306-9981-86d88fb0fa0d",
        "colab": {
          "base_uri": "https://localhost:8080/",
          "height": 136
        }
      },
      "source": [
        "cv.inverse_transform(x_array[10])"
      ],
      "execution_count": 0,
      "outputs": [
        {
          "output_type": "execute_result",
          "data": {
            "text/plain": [
              "[array(['after', 'been', 'causes', 'constipation', 'day', 'days', 'die',\n",
              "        'drive', 'go', 'have', 'headaches', 'heroin', 'ihad', 'ill',\n",
              "        'into', 'it', 'killed', 'like', 'meds', 'missed', 'more', 'much',\n",
              "        'must', 'my', 'never', 'nursing', 'of', 'or', 'per', 'serious',\n",
              "        'sex', 'skipping', 'so', 'softeners', 'stool', 'stop', 'take',\n",
              "        'than', 'three', 'to', 'two', 'wanted', 'withdrawal', 'you'],\n",
              "       dtype='<U18')]"
            ]
          },
          "metadata": {
            "tags": []
          },
          "execution_count": 41
        }
      ]
    },
    {
      "cell_type": "code",
      "metadata": {
        "id": "EO-WCpeh4y2I",
        "colab_type": "code",
        "outputId": "f4de708b-5c59-43ba-a762-c54369663fc1",
        "colab": {
          "base_uri": "https://localhost:8080/",
          "height": 34
        }
      },
      "source": [
        "type(cv.vocabulary_)"
      ],
      "execution_count": 0,
      "outputs": [
        {
          "output_type": "execute_result",
          "data": {
            "text/plain": [
              "dict"
            ]
          },
          "metadata": {
            "tags": []
          },
          "execution_count": 63
        }
      ]
    },
    {
      "cell_type": "code",
      "metadata": {
        "id": "Q7NzC_iWPHeK",
        "colab_type": "code",
        "colab": {}
      },
      "source": [
        "vocab_df = pd.Series(cv.vocabulary_).to_frame('feature_count')"
      ],
      "execution_count": 0,
      "outputs": []
    },
    {
      "cell_type": "code",
      "metadata": {
        "id": "nmKcGYqf5t8j",
        "colab_type": "code",
        "outputId": "1b5d4526-c50e-48b3-b8c5-ee62870e6492",
        "colab": {
          "base_uri": "https://localhost:8080/",
          "height": 129
        }
      },
      "source": [
        "vocab_df.T"
      ],
      "execution_count": 0,
      "outputs": [
        {
          "output_type": "execute_result",
          "data": {
            "text/html": [
              "<div>\n",
              "<style scoped>\n",
              "    .dataframe tbody tr th:only-of-type {\n",
              "        vertical-align: middle;\n",
              "    }\n",
              "\n",
              "    .dataframe tbody tr th {\n",
              "        vertical-align: top;\n",
              "    }\n",
              "\n",
              "    .dataframe thead th {\n",
              "        text-align: right;\n",
              "    }\n",
              "</style>\n",
              "<table border=\"1\" class=\"dataframe\">\n",
              "  <thead>\n",
              "    <tr style=\"text-align: right;\">\n",
              "      <th></th>\n",
              "      <th>edema</th>\n",
              "      <th>excesive</th>\n",
              "      <th>bleeding</th>\n",
              "      <th>felt</th>\n",
              "      <th>nauseous</th>\n",
              "      <th>bloated</th>\n",
              "      <th>the</th>\n",
              "      <th>biggest</th>\n",
              "      <th>side</th>\n",
              "      <th>effect</th>\n",
              "      <th>was</th>\n",
              "      <th>that</th>\n",
              "      <th>it</th>\n",
              "      <th>made</th>\n",
              "      <th>me</th>\n",
              "      <th>experience</th>\n",
              "      <th>shock</th>\n",
              "      <th>waves</th>\n",
              "      <th>through</th>\n",
              "      <th>my</th>\n",
              "      <th>head</th>\n",
              "      <th>and</th>\n",
              "      <th>sometimes</th>\n",
              "      <th>even</th>\n",
              "      <th>body</th>\n",
              "      <th>just</th>\n",
              "      <th>like</th>\n",
              "      <th>if</th>\n",
              "      <th>someone</th>\n",
              "      <th>would</th>\n",
              "      <th>have</th>\n",
              "      <th>turned</th>\n",
              "      <th>on</th>\n",
              "      <th>off</th>\n",
              "      <th>lamp</th>\n",
              "      <th>very</th>\n",
              "      <th>quickly</th>\n",
              "      <th>ended</th>\n",
              "      <th>same</th>\n",
              "      <th>time</th>\n",
              "      <th>...</th>\n",
              "      <th>birthday</th>\n",
              "      <th>constapation</th>\n",
              "      <th>physicaly</th>\n",
              "      <th>tierd</th>\n",
              "      <th>drak</th>\n",
              "      <th>ounces</th>\n",
              "      <th>responsiblties</th>\n",
              "      <th>tiered</th>\n",
              "      <th>througout</th>\n",
              "      <th>colon</th>\n",
              "      <th>rectal</th>\n",
              "      <th>sigmoid</th>\n",
              "      <th>stricture</th>\n",
              "      <th>disappointed</th>\n",
              "      <th>narcotics</th>\n",
              "      <th>hundred</th>\n",
              "      <th>ninety</th>\n",
              "      <th>ideations</th>\n",
              "      <th>dripping</th>\n",
              "      <th>sulfur</th>\n",
              "      <th>poses</th>\n",
              "      <th>trimethoprim</th>\n",
              "      <th>160mg</th>\n",
              "      <th>320</th>\n",
              "      <th>outburst</th>\n",
              "      <th>impacts</th>\n",
              "      <th>whatsover</th>\n",
              "      <th>cloud</th>\n",
              "      <th>dipped</th>\n",
              "      <th>independence</th>\n",
              "      <th>homebound</th>\n",
              "      <th>realistic</th>\n",
              "      <th>sugary</th>\n",
              "      <th>minocin</th>\n",
              "      <th>tinnutus</th>\n",
              "      <th>dismay</th>\n",
              "      <th>furthermore</th>\n",
              "      <th>fortunately</th>\n",
              "      <th>inert</th>\n",
              "      <th>clockwork</th>\n",
              "    </tr>\n",
              "  </thead>\n",
              "  <tbody>\n",
              "    <tr>\n",
              "      <th>feature_count</th>\n",
              "      <td>2155</td>\n",
              "      <td>2377</td>\n",
              "      <td>876</td>\n",
              "      <td>2534</td>\n",
              "      <td>4208</td>\n",
              "      <td>892</td>\n",
              "      <td>6359</td>\n",
              "      <td>834</td>\n",
              "      <td>5652</td>\n",
              "      <td>2166</td>\n",
              "      <td>6922</td>\n",
              "      <td>6357</td>\n",
              "      <td>3482</td>\n",
              "      <td>3839</td>\n",
              "      <td>3916</td>\n",
              "      <td>2416</td>\n",
              "      <td>5616</td>\n",
              "      <td>6936</td>\n",
              "      <td>6431</td>\n",
              "      <td>4167</td>\n",
              "      <td>3005</td>\n",
              "      <td>470</td>\n",
              "      <td>5813</td>\n",
              "      <td>2336</td>\n",
              "      <td>924</td>\n",
              "      <td>3531</td>\n",
              "      <td>3711</td>\n",
              "      <td>3212</td>\n",
              "      <td>5808</td>\n",
              "      <td>7100</td>\n",
              "      <td>2995</td>\n",
              "      <td>6631</td>\n",
              "      <td>4425</td>\n",
              "      <td>4401</td>\n",
              "      <td>3596</td>\n",
              "      <td>6829</td>\n",
              "      <td>5040</td>\n",
              "      <td>2252</td>\n",
              "      <td>5429</td>\n",
              "      <td>6462</td>\n",
              "      <td>...</td>\n",
              "      <td>850</td>\n",
              "      <td>1435</td>\n",
              "      <td>4729</td>\n",
              "      <td>6452</td>\n",
              "      <td>2058</td>\n",
              "      <td>4490</td>\n",
              "      <td>5302</td>\n",
              "      <td>6453</td>\n",
              "      <td>6434</td>\n",
              "      <td>1316</td>\n",
              "      <td>5154</td>\n",
              "      <td>5655</td>\n",
              "      <td>6048</td>\n",
              "      <td>1931</td>\n",
              "      <td>4180</td>\n",
              "      <td>3150</td>\n",
              "      <td>4284</td>\n",
              "      <td>3209</td>\n",
              "      <td>2082</td>\n",
              "      <td>6136</td>\n",
              "      <td>4811</td>\n",
              "      <td>6605</td>\n",
              "      <td>45</td>\n",
              "      <td>101</td>\n",
              "      <td>4497</td>\n",
              "      <td>3239</td>\n",
              "      <td>6996</td>\n",
              "      <td>1277</td>\n",
              "      <td>1910</td>\n",
              "      <td>3301</td>\n",
              "      <td>3103</td>\n",
              "      <td>5109</td>\n",
              "      <td>6126</td>\n",
              "      <td>4039</td>\n",
              "      <td>6479</td>\n",
              "      <td>1961</td>\n",
              "      <td>2782</td>\n",
              "      <td>2717</td>\n",
              "      <td>3320</td>\n",
              "      <td>1258</td>\n",
              "    </tr>\n",
              "  </tbody>\n",
              "</table>\n",
              "<p>1 rows × 7174 columns</p>\n",
              "</div>"
            ],
            "text/plain": [
              "               edema  excesive  bleeding  ...  fortunately  inert  clockwork\n",
              "feature_count   2155      2377       876  ...         2717   3320       1258\n",
              "\n",
              "[1 rows x 7174 columns]"
            ]
          },
          "metadata": {
            "tags": []
          },
          "execution_count": 72
        }
      ]
    },
    {
      "cell_type": "code",
      "metadata": {
        "id": "gWadldCG6IqK",
        "colab_type": "code",
        "outputId": "6c35d5a7-5cfc-44dd-cfca-d13b93b7204c",
        "colab": {
          "base_uri": "https://localhost:8080/",
          "height": 129
        }
      },
      "source": [
        "vocab_df.sort_values(by='feature_count').T"
      ],
      "execution_count": 0,
      "outputs": [
        {
          "output_type": "execute_result",
          "data": {
            "text/html": [
              "<div>\n",
              "<style scoped>\n",
              "    .dataframe tbody tr th:only-of-type {\n",
              "        vertical-align: middle;\n",
              "    }\n",
              "\n",
              "    .dataframe tbody tr th {\n",
              "        vertical-align: top;\n",
              "    }\n",
              "\n",
              "    .dataframe thead th {\n",
              "        text-align: right;\n",
              "    }\n",
              "</style>\n",
              "<table border=\"1\" class=\"dataframe\">\n",
              "  <thead>\n",
              "    <tr style=\"text-align: right;\">\n",
              "      <th></th>\n",
              "      <th>00</th>\n",
              "      <th>000</th>\n",
              "      <th>000mg</th>\n",
              "      <th>00pm</th>\n",
              "      <th>025</th>\n",
              "      <th>05</th>\n",
              "      <th>07</th>\n",
              "      <th>08</th>\n",
              "      <th>10</th>\n",
              "      <th>100</th>\n",
              "      <th>1000</th>\n",
              "      <th>1000mg</th>\n",
              "      <th>100mg</th>\n",
              "      <th>100mgs</th>\n",
              "      <th>105</th>\n",
              "      <th>10lbs</th>\n",
              "      <th>10mg</th>\n",
              "      <th>10mgs</th>\n",
              "      <th>10x</th>\n",
              "      <th>11</th>\n",
              "      <th>115</th>\n",
              "      <th>115lbs</th>\n",
              "      <th>11pm</th>\n",
              "      <th>12</th>\n",
              "      <th>120</th>\n",
              "      <th>1200mg</th>\n",
              "      <th>125</th>\n",
              "      <th>12kg</th>\n",
              "      <th>13</th>\n",
              "      <th>130</th>\n",
              "      <th>130lbs</th>\n",
              "      <th>134</th>\n",
              "      <th>136</th>\n",
              "      <th>14</th>\n",
              "      <th>144</th>\n",
              "      <th>145</th>\n",
              "      <th>147lbs</th>\n",
              "      <th>14th</th>\n",
              "      <th>15</th>\n",
              "      <th>1500</th>\n",
              "      <th>...</th>\n",
              "      <th>yelling</th>\n",
              "      <th>yellow</th>\n",
              "      <th>yellowing</th>\n",
              "      <th>yes</th>\n",
              "      <th>yesterday</th>\n",
              "      <th>yet</th>\n",
              "      <th>yielded</th>\n",
              "      <th>yo</th>\n",
              "      <th>yoga</th>\n",
              "      <th>yogurt</th>\n",
              "      <th>yogurts</th>\n",
              "      <th>yoiu</th>\n",
              "      <th>you</th>\n",
              "      <th>youd</th>\n",
              "      <th>young</th>\n",
              "      <th>younger</th>\n",
              "      <th>your</th>\n",
              "      <th>yourself</th>\n",
              "      <th>youth</th>\n",
              "      <th>yrs</th>\n",
              "      <th>yucky</th>\n",
              "      <th>zantac</th>\n",
              "      <th>zap</th>\n",
              "      <th>zapping</th>\n",
              "      <th>zaps</th>\n",
              "      <th>zero</th>\n",
              "      <th>zinc</th>\n",
              "      <th>zing</th>\n",
              "      <th>zirtek</th>\n",
              "      <th>zithromax</th>\n",
              "      <th>zithromycin</th>\n",
              "      <th>zocor</th>\n",
              "      <th>zofran</th>\n",
              "      <th>zoloft</th>\n",
              "      <th>zombie</th>\n",
              "      <th>zombing</th>\n",
              "      <th>zomig</th>\n",
              "      <th>zyban</th>\n",
              "      <th>zyprexa</th>\n",
              "      <th>zyrtec</th>\n",
              "    </tr>\n",
              "  </thead>\n",
              "  <tbody>\n",
              "    <tr>\n",
              "      <th>feature_count</th>\n",
              "      <td>0</td>\n",
              "      <td>1</td>\n",
              "      <td>2</td>\n",
              "      <td>3</td>\n",
              "      <td>4</td>\n",
              "      <td>5</td>\n",
              "      <td>6</td>\n",
              "      <td>7</td>\n",
              "      <td>8</td>\n",
              "      <td>9</td>\n",
              "      <td>10</td>\n",
              "      <td>11</td>\n",
              "      <td>12</td>\n",
              "      <td>13</td>\n",
              "      <td>14</td>\n",
              "      <td>15</td>\n",
              "      <td>16</td>\n",
              "      <td>17</td>\n",
              "      <td>18</td>\n",
              "      <td>19</td>\n",
              "      <td>20</td>\n",
              "      <td>21</td>\n",
              "      <td>22</td>\n",
              "      <td>23</td>\n",
              "      <td>24</td>\n",
              "      <td>25</td>\n",
              "      <td>26</td>\n",
              "      <td>27</td>\n",
              "      <td>28</td>\n",
              "      <td>29</td>\n",
              "      <td>30</td>\n",
              "      <td>31</td>\n",
              "      <td>32</td>\n",
              "      <td>33</td>\n",
              "      <td>34</td>\n",
              "      <td>35</td>\n",
              "      <td>36</td>\n",
              "      <td>37</td>\n",
              "      <td>38</td>\n",
              "      <td>39</td>\n",
              "      <td>...</td>\n",
              "      <td>7134</td>\n",
              "      <td>7135</td>\n",
              "      <td>7136</td>\n",
              "      <td>7137</td>\n",
              "      <td>7138</td>\n",
              "      <td>7139</td>\n",
              "      <td>7140</td>\n",
              "      <td>7141</td>\n",
              "      <td>7142</td>\n",
              "      <td>7143</td>\n",
              "      <td>7144</td>\n",
              "      <td>7145</td>\n",
              "      <td>7146</td>\n",
              "      <td>7147</td>\n",
              "      <td>7148</td>\n",
              "      <td>7149</td>\n",
              "      <td>7150</td>\n",
              "      <td>7151</td>\n",
              "      <td>7152</td>\n",
              "      <td>7153</td>\n",
              "      <td>7154</td>\n",
              "      <td>7155</td>\n",
              "      <td>7156</td>\n",
              "      <td>7157</td>\n",
              "      <td>7158</td>\n",
              "      <td>7159</td>\n",
              "      <td>7160</td>\n",
              "      <td>7161</td>\n",
              "      <td>7162</td>\n",
              "      <td>7163</td>\n",
              "      <td>7164</td>\n",
              "      <td>7165</td>\n",
              "      <td>7166</td>\n",
              "      <td>7167</td>\n",
              "      <td>7168</td>\n",
              "      <td>7169</td>\n",
              "      <td>7170</td>\n",
              "      <td>7171</td>\n",
              "      <td>7172</td>\n",
              "      <td>7173</td>\n",
              "    </tr>\n",
              "  </tbody>\n",
              "</table>\n",
              "<p>1 rows × 7174 columns</p>\n",
              "</div>"
            ],
            "text/plain": [
              "               00  000  000mg  00pm  ...  zomig  zyban  zyprexa  zyrtec\n",
              "feature_count   0    1      2     3  ...   7170   7171     7172    7173\n",
              "\n",
              "[1 rows x 7174 columns]"
            ]
          },
          "metadata": {
            "tags": []
          },
          "execution_count": 76
        }
      ]
    },
    {
      "cell_type": "markdown",
      "metadata": {
        "id": "X9weZwQ_wvY2",
        "colab_type": "text"
      },
      "source": [
        "##sklearn's CountVectorizer with ngram"
      ]
    },
    {
      "cell_type": "code",
      "metadata": {
        "id": "NPndFTrTwuiq",
        "colab_type": "code",
        "colab": {}
      },
      "source": [
        "cv2 = CountVectorizer(ngram_range=(1,2))\n",
        "x_train_cv_2= cv2.fit_transform(x_train)\n",
        "x_test_cv_2 = cv2.transform(x_test)"
      ],
      "execution_count": 0,
      "outputs": []
    },
    {
      "cell_type": "code",
      "metadata": {
        "colab_type": "code",
        "outputId": "04e327a2-07dc-4ec3-d97e-e726274c68cb",
        "id": "xiEE1xJrw_QI",
        "colab": {
          "base_uri": "https://localhost:8080/",
          "height": 34
        }
      },
      "source": [
        "x_train_cv_2.shape, x_test_cv_2.shape"
      ],
      "execution_count": 0,
      "outputs": [
        {
          "output_type": "execute_result",
          "data": {
            "text/plain": [
              "((3305, 55581), (827, 55581))"
            ]
          },
          "metadata": {
            "tags": []
          },
          "execution_count": 82
        }
      ]
    },
    {
      "cell_type": "code",
      "metadata": {
        "id": "XxxQhOnDxVjr",
        "colab_type": "code",
        "outputId": "48112108-9062-47d5-8684-bae2bd236c41",
        "colab": {
          "base_uri": "https://localhost:8080/",
          "height": 136
        }
      },
      "source": [
        "x_array_2 = x_train_cv_2.toarray()\n",
        "x_array_2"
      ],
      "execution_count": 0,
      "outputs": [
        {
          "output_type": "execute_result",
          "data": {
            "text/plain": [
              "array([[0, 0, 0, ..., 0, 0, 0],\n",
              "       [0, 0, 0, ..., 0, 0, 0],\n",
              "       [0, 0, 0, ..., 0, 0, 0],\n",
              "       ...,\n",
              "       [0, 0, 0, ..., 0, 0, 0],\n",
              "       [0, 0, 0, ..., 0, 0, 0],\n",
              "       [0, 0, 0, ..., 0, 0, 0]])"
            ]
          },
          "metadata": {
            "tags": []
          },
          "execution_count": 83
        }
      ]
    },
    {
      "cell_type": "code",
      "metadata": {
        "id": "ayMjcXFJxg60",
        "colab_type": "code",
        "outputId": "77a21347-c7a3-4810-81a6-57b88d90d664",
        "colab": {
          "base_uri": "https://localhost:8080/",
          "height": 221
        }
      },
      "source": [
        "cv2.inverse_transform(x_array[10])"
      ],
      "execution_count": 0,
      "outputs": [
        {
          "output_type": "execute_result",
          "data": {
            "text/plain": [
              "[array(['2nd and', 'about pos', 'activiites also', 'affective immediatley',\n",
              "        'afterward were', 'afterwards', 'alarming but', 'allergy test',\n",
              "        'and after', 'and comes', 'and consultant', 'and disabling',\n",
              "        'and glutamate', 'and going', 'and mentally', 'and nothing',\n",
              "        'and post', 'and steroid', 'anger the', 'antacid',\n",
              "        'antibiotics first', 'anxiety anxiety', 'anxiety haven',\n",
              "        'anxiety hyperactivity', 'any fragrance', 'any typical',\n",
              "        'anything happens', 'apnea', 'approx', 'attribute', 'augmentin 22',\n",
              "        'away swiftly', 'back currently', 'back maybe', 'bathroom due',\n",
              "        'bathroom had', 'be unrelated', 'became sizes', 'because tired',\n",
              "        'bed anything', 'been sleeping', 'being punched', 'better off',\n",
              "        'biotin'], dtype='<U29')]"
            ]
          },
          "metadata": {
            "tags": []
          },
          "execution_count": 84
        }
      ]
    },
    {
      "cell_type": "code",
      "metadata": {
        "id": "GPo7pKT57LbV",
        "colab_type": "code",
        "colab": {}
      },
      "source": [
        "vocab_df_2 = pd.Series(cv2.vocabulary_).to_frame('feature_count')"
      ],
      "execution_count": 0,
      "outputs": []
    },
    {
      "cell_type": "code",
      "metadata": {
        "id": "iNa2DbpN7X1a",
        "colab_type": "code",
        "outputId": "116790af-83ef-49a6-cc34-f0e2cf25f1db",
        "colab": {
          "base_uri": "https://localhost:8080/",
          "height": 146
        }
      },
      "source": [
        "vocab_df_2.T"
      ],
      "execution_count": 0,
      "outputs": [
        {
          "output_type": "execute_result",
          "data": {
            "text/html": [
              "<div>\n",
              "<style scoped>\n",
              "    .dataframe tbody tr th:only-of-type {\n",
              "        vertical-align: middle;\n",
              "    }\n",
              "\n",
              "    .dataframe tbody tr th {\n",
              "        vertical-align: top;\n",
              "    }\n",
              "\n",
              "    .dataframe thead th {\n",
              "        text-align: right;\n",
              "    }\n",
              "</style>\n",
              "<table border=\"1\" class=\"dataframe\">\n",
              "  <thead>\n",
              "    <tr style=\"text-align: right;\">\n",
              "      <th></th>\n",
              "      <th>edema</th>\n",
              "      <th>excesive</th>\n",
              "      <th>bleeding</th>\n",
              "      <th>excesive bleeding</th>\n",
              "      <th>felt</th>\n",
              "      <th>nauseous</th>\n",
              "      <th>bloated</th>\n",
              "      <th>felt nauseous</th>\n",
              "      <th>nauseous bloated</th>\n",
              "      <th>the</th>\n",
              "      <th>biggest</th>\n",
              "      <th>side</th>\n",
              "      <th>effect</th>\n",
              "      <th>was</th>\n",
              "      <th>that</th>\n",
              "      <th>it</th>\n",
              "      <th>made</th>\n",
              "      <th>me</th>\n",
              "      <th>experience</th>\n",
              "      <th>shock</th>\n",
              "      <th>waves</th>\n",
              "      <th>through</th>\n",
              "      <th>my</th>\n",
              "      <th>head</th>\n",
              "      <th>and</th>\n",
              "      <th>sometimes</th>\n",
              "      <th>even</th>\n",
              "      <th>body</th>\n",
              "      <th>just</th>\n",
              "      <th>like</th>\n",
              "      <th>if</th>\n",
              "      <th>someone</th>\n",
              "      <th>would</th>\n",
              "      <th>have</th>\n",
              "      <th>turned</th>\n",
              "      <th>on</th>\n",
              "      <th>off</th>\n",
              "      <th>lamp</th>\n",
              "      <th>very</th>\n",
              "      <th>quickly</th>\n",
              "      <th>...</th>\n",
              "      <th>have discontinued</th>\n",
              "      <th>discontinued vicodin</th>\n",
              "      <th>vicodin anyway</th>\n",
              "      <th>months migraines</th>\n",
              "      <th>during 4th</th>\n",
              "      <th>4th month</th>\n",
              "      <th>month contact</th>\n",
              "      <th>contact lense</th>\n",
              "      <th>lense use</th>\n",
              "      <th>use was</th>\n",
              "      <th>disrupted some</th>\n",
              "      <th>3rd month</th>\n",
              "      <th>month moodiness</th>\n",
              "      <th>moodiness lethargic</th>\n",
              "      <th>lethargic increased</th>\n",
              "      <th>appetite breast</th>\n",
              "      <th>and enlargement</th>\n",
              "      <th>fortunately</th>\n",
              "      <th>few hot</th>\n",
              "      <th>flashes well</th>\n",
              "      <th>well past</th>\n",
              "      <th>past menopause</th>\n",
              "      <th>menopause that</th>\n",
              "      <th>been pill</th>\n",
              "      <th>pill taker</th>\n",
              "      <th>taker for</th>\n",
              "      <th>good experience</th>\n",
              "      <th>experience fortunately</th>\n",
              "      <th>fortunately the</th>\n",
              "      <th>need adjustment</th>\n",
              "      <th>inert</th>\n",
              "      <th>clockwork</th>\n",
              "      <th>whatsoever periods</th>\n",
              "      <th>periods were</th>\n",
              "      <th>on inert</th>\n",
              "      <th>inert pills</th>\n",
              "      <th>pills periods</th>\n",
              "      <th>periods came</th>\n",
              "      <th>came like</th>\n",
              "      <th>like clockwork</th>\n",
              "    </tr>\n",
              "  </thead>\n",
              "  <tbody>\n",
              "    <tr>\n",
              "      <th>feature_count</th>\n",
              "      <td>14790</td>\n",
              "      <td>16164</td>\n",
              "      <td>7278</td>\n",
              "      <td>16165</td>\n",
              "      <td>17500</td>\n",
              "      <td>31284</td>\n",
              "      <td>7362</td>\n",
              "      <td>17562</td>\n",
              "      <td>31288</td>\n",
              "      <td>46195</td>\n",
              "      <td>7114</td>\n",
              "      <td>41053</td>\n",
              "      <td>14822</td>\n",
              "      <td>52102</td>\n",
              "      <td>45870</td>\n",
              "      <td>24893</td>\n",
              "      <td>27791</td>\n",
              "      <td>28216</td>\n",
              "      <td>16314</td>\n",
              "      <td>40865</td>\n",
              "      <td>52754</td>\n",
              "      <td>48311</td>\n",
              "      <td>30501</td>\n",
              "      <td>21383</td>\n",
              "      <td>2830</td>\n",
              "      <td>42659</td>\n",
              "      <td>15819</td>\n",
              "      <td>7481</td>\n",
              "      <td>25563</td>\n",
              "      <td>26764</td>\n",
              "      <td>22786</td>\n",
              "      <td>42597</td>\n",
              "      <td>54973</td>\n",
              "      <td>20978</td>\n",
              "      <td>50372</td>\n",
              "      <td>34016</td>\n",
              "      <td>33808</td>\n",
              "      <td>25975</td>\n",
              "      <td>51496</td>\n",
              "      <td>37893</td>\n",
              "      <td>...</td>\n",
              "      <td>21040</td>\n",
              "      <td>12895</td>\n",
              "      <td>51725</td>\n",
              "      <td>29656</td>\n",
              "      <td>14483</td>\n",
              "      <td>501</td>\n",
              "      <td>29571</td>\n",
              "      <td>10320</td>\n",
              "      <td>26396</td>\n",
              "      <td>51165</td>\n",
              "      <td>12975</td>\n",
              "      <td>438</td>\n",
              "      <td>29580</td>\n",
              "      <td>29730</td>\n",
              "      <td>26488</td>\n",
              "      <td>4528</td>\n",
              "      <td>3121</td>\n",
              "      <td>18734</td>\n",
              "      <td>17663</td>\n",
              "      <td>18085</td>\n",
              "      <td>53228</td>\n",
              "      <td>35892</td>\n",
              "      <td>28826</td>\n",
              "      <td>6625</td>\n",
              "      <td>36590</td>\n",
              "      <td>45152</td>\n",
              "      <td>19899</td>\n",
              "      <td>16335</td>\n",
              "      <td>18735</td>\n",
              "      <td>31386</td>\n",
              "      <td>23773</td>\n",
              "      <td>9490</td>\n",
              "      <td>53552</td>\n",
              "      <td>36299</td>\n",
              "      <td>34105</td>\n",
              "      <td>23774</td>\n",
              "      <td>36626</td>\n",
              "      <td>36288</td>\n",
              "      <td>8495</td>\n",
              "      <td>26783</td>\n",
              "    </tr>\n",
              "  </tbody>\n",
              "</table>\n",
              "<p>1 rows × 55581 columns</p>\n",
              "</div>"
            ],
            "text/plain": [
              "               edema  excesive  ...  came like  like clockwork\n",
              "feature_count  14790     16164  ...       8495           26783\n",
              "\n",
              "[1 rows x 55581 columns]"
            ]
          },
          "metadata": {
            "tags": []
          },
          "execution_count": 86
        }
      ]
    },
    {
      "cell_type": "code",
      "metadata": {
        "id": "6Ob8SUzv7gRK",
        "colab_type": "code",
        "outputId": "e4ae2cdd-c98f-429d-8d15-89cbe46749fe",
        "colab": {
          "base_uri": "https://localhost:8080/",
          "height": 146
        }
      },
      "source": [
        "vocab_df_2.sort_values(by='feature_count').T"
      ],
      "execution_count": 0,
      "outputs": [
        {
          "output_type": "execute_result",
          "data": {
            "text/html": [
              "<div>\n",
              "<style scoped>\n",
              "    .dataframe tbody tr th:only-of-type {\n",
              "        vertical-align: middle;\n",
              "    }\n",
              "\n",
              "    .dataframe tbody tr th {\n",
              "        vertical-align: top;\n",
              "    }\n",
              "\n",
              "    .dataframe thead th {\n",
              "        text-align: right;\n",
              "    }\n",
              "</style>\n",
              "<table border=\"1\" class=\"dataframe\">\n",
              "  <thead>\n",
              "    <tr style=\"text-align: right;\">\n",
              "      <th></th>\n",
              "      <th>00</th>\n",
              "      <th>00 and</th>\n",
              "      <th>00 at</th>\n",
              "      <th>000</th>\n",
              "      <th>000 on</th>\n",
              "      <th>000 people</th>\n",
              "      <th>000mg</th>\n",
              "      <th>000mg per</th>\n",
              "      <th>00pm</th>\n",
              "      <th>00pm makes</th>\n",
              "      <th>025</th>\n",
              "      <th>025 all</th>\n",
              "      <th>05</th>\n",
              "      <th>07</th>\n",
              "      <th>07 the</th>\n",
              "      <th>07 these</th>\n",
              "      <th>08</th>\n",
              "      <th>08 after</th>\n",
              "      <th>10</th>\n",
              "      <th>10 000</th>\n",
              "      <th>10 11</th>\n",
              "      <th>10 12</th>\n",
              "      <th>10 14</th>\n",
              "      <th>10 15</th>\n",
              "      <th>10 16</th>\n",
              "      <th>10 30pm</th>\n",
              "      <th>10 31</th>\n",
              "      <th>10 35</th>\n",
              "      <th>10 about</th>\n",
              "      <th>10 after</th>\n",
              "      <th>10 am</th>\n",
              "      <th>10 are</th>\n",
              "      <th>10 bucks</th>\n",
              "      <th>10 but</th>\n",
              "      <th>10 day</th>\n",
              "      <th>10 days</th>\n",
              "      <th>10 felt</th>\n",
              "      <th>10 hours</th>\n",
              "      <th>10 hrs</th>\n",
              "      <th>10 kilos</th>\n",
              "      <th>...</th>\n",
              "      <th>zoloft as</th>\n",
              "      <th>zoloft because</th>\n",
              "      <th>zoloft my</th>\n",
              "      <th>zoloft on</th>\n",
              "      <th>zoloft spoke</th>\n",
              "      <th>zoloft that</th>\n",
              "      <th>zoloft was</th>\n",
              "      <th>zoloft when</th>\n",
              "      <th>zoloft which</th>\n",
              "      <th>zombie</th>\n",
              "      <th>zombie all</th>\n",
              "      <th>zombie and</th>\n",
              "      <th>zombie but</th>\n",
              "      <th>zombie extremly</th>\n",
              "      <th>zombie felt</th>\n",
              "      <th>zombie like</th>\n",
              "      <th>zombie not</th>\n",
              "      <th>zombie slowed</th>\n",
              "      <th>zombie some</th>\n",
              "      <th>zombie the</th>\n",
              "      <th>zombie totally</th>\n",
              "      <th>zombing</th>\n",
              "      <th>zombing through</th>\n",
              "      <th>zomig</th>\n",
              "      <th>zomig for</th>\n",
              "      <th>zomig on</th>\n",
              "      <th>zyban</th>\n",
              "      <th>zyban and</th>\n",
              "      <th>zyban have</th>\n",
              "      <th>zyban it</th>\n",
              "      <th>zyban made</th>\n",
              "      <th>zyban should</th>\n",
              "      <th>zyprexa</th>\n",
              "      <th>zyprexa for</th>\n",
              "      <th>zyrtec</th>\n",
              "      <th>zyrtec at</th>\n",
              "      <th>zyrtec however</th>\n",
              "      <th>zyrtec in</th>\n",
              "      <th>zyrtec often</th>\n",
              "      <th>zyrtec we</th>\n",
              "    </tr>\n",
              "  </thead>\n",
              "  <tbody>\n",
              "    <tr>\n",
              "      <th>feature_count</th>\n",
              "      <td>0</td>\n",
              "      <td>1</td>\n",
              "      <td>2</td>\n",
              "      <td>3</td>\n",
              "      <td>4</td>\n",
              "      <td>5</td>\n",
              "      <td>6</td>\n",
              "      <td>7</td>\n",
              "      <td>8</td>\n",
              "      <td>9</td>\n",
              "      <td>10</td>\n",
              "      <td>11</td>\n",
              "      <td>12</td>\n",
              "      <td>13</td>\n",
              "      <td>14</td>\n",
              "      <td>15</td>\n",
              "      <td>16</td>\n",
              "      <td>17</td>\n",
              "      <td>18</td>\n",
              "      <td>19</td>\n",
              "      <td>20</td>\n",
              "      <td>21</td>\n",
              "      <td>22</td>\n",
              "      <td>23</td>\n",
              "      <td>24</td>\n",
              "      <td>25</td>\n",
              "      <td>26</td>\n",
              "      <td>27</td>\n",
              "      <td>28</td>\n",
              "      <td>29</td>\n",
              "      <td>30</td>\n",
              "      <td>31</td>\n",
              "      <td>32</td>\n",
              "      <td>33</td>\n",
              "      <td>34</td>\n",
              "      <td>35</td>\n",
              "      <td>36</td>\n",
              "      <td>37</td>\n",
              "      <td>38</td>\n",
              "      <td>39</td>\n",
              "      <td>...</td>\n",
              "      <td>55541</td>\n",
              "      <td>55542</td>\n",
              "      <td>55543</td>\n",
              "      <td>55544</td>\n",
              "      <td>55545</td>\n",
              "      <td>55546</td>\n",
              "      <td>55547</td>\n",
              "      <td>55548</td>\n",
              "      <td>55549</td>\n",
              "      <td>55550</td>\n",
              "      <td>55551</td>\n",
              "      <td>55552</td>\n",
              "      <td>55553</td>\n",
              "      <td>55554</td>\n",
              "      <td>55555</td>\n",
              "      <td>55556</td>\n",
              "      <td>55557</td>\n",
              "      <td>55558</td>\n",
              "      <td>55559</td>\n",
              "      <td>55560</td>\n",
              "      <td>55561</td>\n",
              "      <td>55562</td>\n",
              "      <td>55563</td>\n",
              "      <td>55564</td>\n",
              "      <td>55565</td>\n",
              "      <td>55566</td>\n",
              "      <td>55567</td>\n",
              "      <td>55568</td>\n",
              "      <td>55569</td>\n",
              "      <td>55570</td>\n",
              "      <td>55571</td>\n",
              "      <td>55572</td>\n",
              "      <td>55573</td>\n",
              "      <td>55574</td>\n",
              "      <td>55575</td>\n",
              "      <td>55576</td>\n",
              "      <td>55577</td>\n",
              "      <td>55578</td>\n",
              "      <td>55579</td>\n",
              "      <td>55580</td>\n",
              "    </tr>\n",
              "  </tbody>\n",
              "</table>\n",
              "<p>1 rows × 55581 columns</p>\n",
              "</div>"
            ],
            "text/plain": [
              "               00  00 and  00 at  ...  zyrtec in  zyrtec often  zyrtec we\n",
              "feature_count   0       1      2  ...      55578         55579      55580\n",
              "\n",
              "[1 rows x 55581 columns]"
            ]
          },
          "metadata": {
            "tags": []
          },
          "execution_count": 88
        }
      ]
    },
    {
      "cell_type": "markdown",
      "metadata": {
        "id": "QLkh3ktgdsxR",
        "colab_type": "text"
      },
      "source": [
        "## sklearn's TfidfVectorizer"
      ]
    },
    {
      "cell_type": "code",
      "metadata": {
        "id": "jQ4LHjacvpJ2",
        "colab_type": "code",
        "colab": {}
      },
      "source": [
        "tv = TfidfVectorizer()\n",
        "x_train_tv = tv.fit_transform(x_train)\n",
        "x_test_tv = tv.transform(x_test)"
      ],
      "execution_count": 0,
      "outputs": []
    },
    {
      "cell_type": "code",
      "metadata": {
        "id": "MIB4pAQ9vvdJ",
        "colab_type": "code",
        "outputId": "ade13fd5-98e8-444a-be19-45e87436152e",
        "colab": {
          "base_uri": "https://localhost:8080/",
          "height": 34
        }
      },
      "source": [
        "x_train_tv.shape, x_test_tv.shape"
      ],
      "execution_count": 0,
      "outputs": [
        {
          "output_type": "execute_result",
          "data": {
            "text/plain": [
              "((3305, 7174), (827, 7174))"
            ]
          },
          "metadata": {
            "tags": []
          },
          "execution_count": 127
        }
      ]
    },
    {
      "cell_type": "code",
      "metadata": {
        "id": "ZJjO3fnZv45Z",
        "colab_type": "code",
        "outputId": "d99d61b0-bafb-42bb-a24d-8d649aa84ea1",
        "colab": {
          "base_uri": "https://localhost:8080/",
          "height": 136
        }
      },
      "source": [
        "t_array = x_train_tv.toarray()\n",
        "t_array"
      ],
      "execution_count": 0,
      "outputs": [
        {
          "output_type": "execute_result",
          "data": {
            "text/plain": [
              "array([[0., 0., 0., ..., 0., 0., 0.],\n",
              "       [0., 0., 0., ..., 0., 0., 0.],\n",
              "       [0., 0., 0., ..., 0., 0., 0.],\n",
              "       ...,\n",
              "       [0., 0., 0., ..., 0., 0., 0.],\n",
              "       [0., 0., 0., ..., 0., 0., 0.],\n",
              "       [0., 0., 0., ..., 0., 0., 0.]])"
            ]
          },
          "metadata": {
            "tags": []
          },
          "execution_count": 128
        }
      ]
    },
    {
      "cell_type": "code",
      "metadata": {
        "id": "jd29lx9yw2EM",
        "colab_type": "code",
        "outputId": "2224e49a-36e1-402b-dcc6-cc8b88e9be96",
        "colab": {
          "base_uri": "https://localhost:8080/",
          "height": 136
        }
      },
      "source": [
        "tv.inverse_transform(t_array[10])"
      ],
      "execution_count": 0,
      "outputs": [
        {
          "output_type": "execute_result",
          "data": {
            "text/plain": [
              "[array(['after', 'been', 'causes', 'constipation', 'day', 'days', 'die',\n",
              "        'drive', 'go', 'have', 'headaches', 'heroin', 'ihad', 'ill',\n",
              "        'into', 'it', 'killed', 'like', 'meds', 'missed', 'more', 'much',\n",
              "        'must', 'my', 'never', 'nursing', 'of', 'or', 'per', 'serious',\n",
              "        'sex', 'skipping', 'so', 'softeners', 'stool', 'stop', 'take',\n",
              "        'than', 'three', 'to', 'two', 'wanted', 'withdrawal', 'you'],\n",
              "       dtype='<U18')]"
            ]
          },
          "metadata": {
            "tags": []
          },
          "execution_count": 129
        }
      ]
    },
    {
      "cell_type": "code",
      "metadata": {
        "id": "xAi3FhVm9h2J",
        "colab_type": "code",
        "outputId": "de51d899-4607-4d10-ef1c-ed79618d3eb4",
        "colab": {
          "base_uri": "https://localhost:8080/",
          "height": 129
        }
      },
      "source": [
        "pd.Series(tv.idf_).to_frame('feature_count').T"
      ],
      "execution_count": 0,
      "outputs": [
        {
          "output_type": "execute_result",
          "data": {
            "text/html": [
              "<div>\n",
              "<style scoped>\n",
              "    .dataframe tbody tr th:only-of-type {\n",
              "        vertical-align: middle;\n",
              "    }\n",
              "\n",
              "    .dataframe tbody tr th {\n",
              "        vertical-align: top;\n",
              "    }\n",
              "\n",
              "    .dataframe thead th {\n",
              "        text-align: right;\n",
              "    }\n",
              "</style>\n",
              "<table border=\"1\" class=\"dataframe\">\n",
              "  <thead>\n",
              "    <tr style=\"text-align: right;\">\n",
              "      <th></th>\n",
              "      <th>0</th>\n",
              "      <th>1</th>\n",
              "      <th>2</th>\n",
              "      <th>3</th>\n",
              "      <th>4</th>\n",
              "      <th>5</th>\n",
              "      <th>6</th>\n",
              "      <th>7</th>\n",
              "      <th>8</th>\n",
              "      <th>9</th>\n",
              "      <th>10</th>\n",
              "      <th>11</th>\n",
              "      <th>12</th>\n",
              "      <th>13</th>\n",
              "      <th>14</th>\n",
              "      <th>15</th>\n",
              "      <th>16</th>\n",
              "      <th>17</th>\n",
              "      <th>18</th>\n",
              "      <th>19</th>\n",
              "      <th>20</th>\n",
              "      <th>21</th>\n",
              "      <th>22</th>\n",
              "      <th>23</th>\n",
              "      <th>24</th>\n",
              "      <th>25</th>\n",
              "      <th>26</th>\n",
              "      <th>27</th>\n",
              "      <th>28</th>\n",
              "      <th>29</th>\n",
              "      <th>30</th>\n",
              "      <th>31</th>\n",
              "      <th>32</th>\n",
              "      <th>33</th>\n",
              "      <th>34</th>\n",
              "      <th>35</th>\n",
              "      <th>36</th>\n",
              "      <th>37</th>\n",
              "      <th>38</th>\n",
              "      <th>39</th>\n",
              "      <th>...</th>\n",
              "      <th>7134</th>\n",
              "      <th>7135</th>\n",
              "      <th>7136</th>\n",
              "      <th>7137</th>\n",
              "      <th>7138</th>\n",
              "      <th>7139</th>\n",
              "      <th>7140</th>\n",
              "      <th>7141</th>\n",
              "      <th>7142</th>\n",
              "      <th>7143</th>\n",
              "      <th>7144</th>\n",
              "      <th>7145</th>\n",
              "      <th>7146</th>\n",
              "      <th>7147</th>\n",
              "      <th>7148</th>\n",
              "      <th>7149</th>\n",
              "      <th>7150</th>\n",
              "      <th>7151</th>\n",
              "      <th>7152</th>\n",
              "      <th>7153</th>\n",
              "      <th>7154</th>\n",
              "      <th>7155</th>\n",
              "      <th>7156</th>\n",
              "      <th>7157</th>\n",
              "      <th>7158</th>\n",
              "      <th>7159</th>\n",
              "      <th>7160</th>\n",
              "      <th>7161</th>\n",
              "      <th>7162</th>\n",
              "      <th>7163</th>\n",
              "      <th>7164</th>\n",
              "      <th>7165</th>\n",
              "      <th>7166</th>\n",
              "      <th>7167</th>\n",
              "      <th>7168</th>\n",
              "      <th>7169</th>\n",
              "      <th>7170</th>\n",
              "      <th>7171</th>\n",
              "      <th>7172</th>\n",
              "      <th>7173</th>\n",
              "    </tr>\n",
              "  </thead>\n",
              "  <tbody>\n",
              "    <tr>\n",
              "      <th>feature_count</th>\n",
              "      <td>7.7172</td>\n",
              "      <td>8.004882</td>\n",
              "      <td>8.410347</td>\n",
              "      <td>8.410347</td>\n",
              "      <td>8.410347</td>\n",
              "      <td>8.410347</td>\n",
              "      <td>8.004882</td>\n",
              "      <td>8.410347</td>\n",
              "      <td>4.898802</td>\n",
              "      <td>6.538545</td>\n",
              "      <td>8.004882</td>\n",
              "      <td>8.410347</td>\n",
              "      <td>7.024053</td>\n",
              "      <td>8.410347</td>\n",
              "      <td>8.004882</td>\n",
              "      <td>8.410347</td>\n",
              "      <td>7.494056</td>\n",
              "      <td>8.410347</td>\n",
              "      <td>8.410347</td>\n",
              "      <td>7.024053</td>\n",
              "      <td>8.004882</td>\n",
              "      <td>8.410347</td>\n",
              "      <td>8.410347</td>\n",
              "      <td>5.884618</td>\n",
              "      <td>7.7172</td>\n",
              "      <td>8.410347</td>\n",
              "      <td>8.004882</td>\n",
              "      <td>8.410347</td>\n",
              "      <td>7.311735</td>\n",
              "      <td>8.004882</td>\n",
              "      <td>8.410347</td>\n",
              "      <td>8.410347</td>\n",
              "      <td>8.410347</td>\n",
              "      <td>7.157584</td>\n",
              "      <td>8.410347</td>\n",
              "      <td>8.410347</td>\n",
              "      <td>8.410347</td>\n",
              "      <td>8.410347</td>\n",
              "      <td>5.968</td>\n",
              "      <td>8.410347</td>\n",
              "      <td>...</td>\n",
              "      <td>8.410347</td>\n",
              "      <td>8.410347</td>\n",
              "      <td>8.004882</td>\n",
              "      <td>7.024053</td>\n",
              "      <td>8.410347</td>\n",
              "      <td>5.77129</td>\n",
              "      <td>8.410347</td>\n",
              "      <td>8.410347</td>\n",
              "      <td>8.410347</td>\n",
              "      <td>7.311735</td>\n",
              "      <td>8.410347</td>\n",
              "      <td>8.410347</td>\n",
              "      <td>4.14065</td>\n",
              "      <td>8.410347</td>\n",
              "      <td>8.004882</td>\n",
              "      <td>8.410347</td>\n",
              "      <td>5.11451</td>\n",
              "      <td>7.157584</td>\n",
              "      <td>8.410347</td>\n",
              "      <td>8.004882</td>\n",
              "      <td>8.004882</td>\n",
              "      <td>8.410347</td>\n",
              "      <td>8.410347</td>\n",
              "      <td>8.410347</td>\n",
              "      <td>7.494056</td>\n",
              "      <td>7.494056</td>\n",
              "      <td>8.004882</td>\n",
              "      <td>8.410347</td>\n",
              "      <td>8.410347</td>\n",
              "      <td>8.410347</td>\n",
              "      <td>8.410347</td>\n",
              "      <td>8.410347</td>\n",
              "      <td>8.004882</td>\n",
              "      <td>6.90627</td>\n",
              "      <td>6.395444</td>\n",
              "      <td>8.410347</td>\n",
              "      <td>8.004882</td>\n",
              "      <td>7.494056</td>\n",
              "      <td>8.004882</td>\n",
              "      <td>7.494056</td>\n",
              "    </tr>\n",
              "  </tbody>\n",
              "</table>\n",
              "<p>1 rows × 7174 columns</p>\n",
              "</div>"
            ],
            "text/plain": [
              "                 0         1         2     ...      7171      7172      7173\n",
              "feature_count  7.7172  8.004882  8.410347  ...  7.494056  8.004882  7.494056\n",
              "\n",
              "[1 rows x 7174 columns]"
            ]
          },
          "metadata": {
            "tags": []
          },
          "execution_count": 130
        }
      ]
    },
    {
      "cell_type": "code",
      "metadata": {
        "id": "gSYpq-0m8JMA",
        "colab_type": "code",
        "colab": {}
      },
      "source": [
        "vocab_df_3 = pd.Series(tv.vocabulary_).to_frame('feature_count')"
      ],
      "execution_count": 0,
      "outputs": []
    },
    {
      "cell_type": "code",
      "metadata": {
        "id": "u1iHOzUl8XMW",
        "colab_type": "code",
        "outputId": "25998d78-587d-4ded-b871-457e99c0934e",
        "colab": {
          "base_uri": "https://localhost:8080/",
          "height": 129
        }
      },
      "source": [
        "vocab_df_3.T"
      ],
      "execution_count": 0,
      "outputs": [
        {
          "output_type": "execute_result",
          "data": {
            "text/html": [
              "<div>\n",
              "<style scoped>\n",
              "    .dataframe tbody tr th:only-of-type {\n",
              "        vertical-align: middle;\n",
              "    }\n",
              "\n",
              "    .dataframe tbody tr th {\n",
              "        vertical-align: top;\n",
              "    }\n",
              "\n",
              "    .dataframe thead th {\n",
              "        text-align: right;\n",
              "    }\n",
              "</style>\n",
              "<table border=\"1\" class=\"dataframe\">\n",
              "  <thead>\n",
              "    <tr style=\"text-align: right;\">\n",
              "      <th></th>\n",
              "      <th>edema</th>\n",
              "      <th>excesive</th>\n",
              "      <th>bleeding</th>\n",
              "      <th>felt</th>\n",
              "      <th>nauseous</th>\n",
              "      <th>bloated</th>\n",
              "      <th>the</th>\n",
              "      <th>biggest</th>\n",
              "      <th>side</th>\n",
              "      <th>effect</th>\n",
              "      <th>was</th>\n",
              "      <th>that</th>\n",
              "      <th>it</th>\n",
              "      <th>made</th>\n",
              "      <th>me</th>\n",
              "      <th>experience</th>\n",
              "      <th>shock</th>\n",
              "      <th>waves</th>\n",
              "      <th>through</th>\n",
              "      <th>my</th>\n",
              "      <th>head</th>\n",
              "      <th>and</th>\n",
              "      <th>sometimes</th>\n",
              "      <th>even</th>\n",
              "      <th>body</th>\n",
              "      <th>just</th>\n",
              "      <th>like</th>\n",
              "      <th>if</th>\n",
              "      <th>someone</th>\n",
              "      <th>would</th>\n",
              "      <th>have</th>\n",
              "      <th>turned</th>\n",
              "      <th>on</th>\n",
              "      <th>off</th>\n",
              "      <th>lamp</th>\n",
              "      <th>very</th>\n",
              "      <th>quickly</th>\n",
              "      <th>ended</th>\n",
              "      <th>same</th>\n",
              "      <th>time</th>\n",
              "      <th>...</th>\n",
              "      <th>birthday</th>\n",
              "      <th>constapation</th>\n",
              "      <th>physicaly</th>\n",
              "      <th>tierd</th>\n",
              "      <th>drak</th>\n",
              "      <th>ounces</th>\n",
              "      <th>responsiblties</th>\n",
              "      <th>tiered</th>\n",
              "      <th>througout</th>\n",
              "      <th>colon</th>\n",
              "      <th>rectal</th>\n",
              "      <th>sigmoid</th>\n",
              "      <th>stricture</th>\n",
              "      <th>disappointed</th>\n",
              "      <th>narcotics</th>\n",
              "      <th>hundred</th>\n",
              "      <th>ninety</th>\n",
              "      <th>ideations</th>\n",
              "      <th>dripping</th>\n",
              "      <th>sulfur</th>\n",
              "      <th>poses</th>\n",
              "      <th>trimethoprim</th>\n",
              "      <th>160mg</th>\n",
              "      <th>320</th>\n",
              "      <th>outburst</th>\n",
              "      <th>impacts</th>\n",
              "      <th>whatsover</th>\n",
              "      <th>cloud</th>\n",
              "      <th>dipped</th>\n",
              "      <th>independence</th>\n",
              "      <th>homebound</th>\n",
              "      <th>realistic</th>\n",
              "      <th>sugary</th>\n",
              "      <th>minocin</th>\n",
              "      <th>tinnutus</th>\n",
              "      <th>dismay</th>\n",
              "      <th>furthermore</th>\n",
              "      <th>fortunately</th>\n",
              "      <th>inert</th>\n",
              "      <th>clockwork</th>\n",
              "    </tr>\n",
              "  </thead>\n",
              "  <tbody>\n",
              "    <tr>\n",
              "      <th>feature_count</th>\n",
              "      <td>2155</td>\n",
              "      <td>2377</td>\n",
              "      <td>876</td>\n",
              "      <td>2534</td>\n",
              "      <td>4208</td>\n",
              "      <td>892</td>\n",
              "      <td>6359</td>\n",
              "      <td>834</td>\n",
              "      <td>5652</td>\n",
              "      <td>2166</td>\n",
              "      <td>6922</td>\n",
              "      <td>6357</td>\n",
              "      <td>3482</td>\n",
              "      <td>3839</td>\n",
              "      <td>3916</td>\n",
              "      <td>2416</td>\n",
              "      <td>5616</td>\n",
              "      <td>6936</td>\n",
              "      <td>6431</td>\n",
              "      <td>4167</td>\n",
              "      <td>3005</td>\n",
              "      <td>470</td>\n",
              "      <td>5813</td>\n",
              "      <td>2336</td>\n",
              "      <td>924</td>\n",
              "      <td>3531</td>\n",
              "      <td>3711</td>\n",
              "      <td>3212</td>\n",
              "      <td>5808</td>\n",
              "      <td>7100</td>\n",
              "      <td>2995</td>\n",
              "      <td>6631</td>\n",
              "      <td>4425</td>\n",
              "      <td>4401</td>\n",
              "      <td>3596</td>\n",
              "      <td>6829</td>\n",
              "      <td>5040</td>\n",
              "      <td>2252</td>\n",
              "      <td>5429</td>\n",
              "      <td>6462</td>\n",
              "      <td>...</td>\n",
              "      <td>850</td>\n",
              "      <td>1435</td>\n",
              "      <td>4729</td>\n",
              "      <td>6452</td>\n",
              "      <td>2058</td>\n",
              "      <td>4490</td>\n",
              "      <td>5302</td>\n",
              "      <td>6453</td>\n",
              "      <td>6434</td>\n",
              "      <td>1316</td>\n",
              "      <td>5154</td>\n",
              "      <td>5655</td>\n",
              "      <td>6048</td>\n",
              "      <td>1931</td>\n",
              "      <td>4180</td>\n",
              "      <td>3150</td>\n",
              "      <td>4284</td>\n",
              "      <td>3209</td>\n",
              "      <td>2082</td>\n",
              "      <td>6136</td>\n",
              "      <td>4811</td>\n",
              "      <td>6605</td>\n",
              "      <td>45</td>\n",
              "      <td>101</td>\n",
              "      <td>4497</td>\n",
              "      <td>3239</td>\n",
              "      <td>6996</td>\n",
              "      <td>1277</td>\n",
              "      <td>1910</td>\n",
              "      <td>3301</td>\n",
              "      <td>3103</td>\n",
              "      <td>5109</td>\n",
              "      <td>6126</td>\n",
              "      <td>4039</td>\n",
              "      <td>6479</td>\n",
              "      <td>1961</td>\n",
              "      <td>2782</td>\n",
              "      <td>2717</td>\n",
              "      <td>3320</td>\n",
              "      <td>1258</td>\n",
              "    </tr>\n",
              "  </tbody>\n",
              "</table>\n",
              "<p>1 rows × 7174 columns</p>\n",
              "</div>"
            ],
            "text/plain": [
              "               edema  excesive  bleeding  ...  fortunately  inert  clockwork\n",
              "feature_count   2155      2377       876  ...         2717   3320       1258\n",
              "\n",
              "[1 rows x 7174 columns]"
            ]
          },
          "metadata": {
            "tags": []
          },
          "execution_count": 132
        }
      ]
    },
    {
      "cell_type": "code",
      "metadata": {
        "id": "F0xETQml8aSw",
        "colab_type": "code",
        "outputId": "db03e567-daa9-4575-9831-3c4d35b38700",
        "colab": {
          "base_uri": "https://localhost:8080/",
          "height": 129
        }
      },
      "source": [
        "vocab_df_3.sort_values(by='feature_count').T"
      ],
      "execution_count": 0,
      "outputs": [
        {
          "output_type": "execute_result",
          "data": {
            "text/html": [
              "<div>\n",
              "<style scoped>\n",
              "    .dataframe tbody tr th:only-of-type {\n",
              "        vertical-align: middle;\n",
              "    }\n",
              "\n",
              "    .dataframe tbody tr th {\n",
              "        vertical-align: top;\n",
              "    }\n",
              "\n",
              "    .dataframe thead th {\n",
              "        text-align: right;\n",
              "    }\n",
              "</style>\n",
              "<table border=\"1\" class=\"dataframe\">\n",
              "  <thead>\n",
              "    <tr style=\"text-align: right;\">\n",
              "      <th></th>\n",
              "      <th>00</th>\n",
              "      <th>000</th>\n",
              "      <th>000mg</th>\n",
              "      <th>00pm</th>\n",
              "      <th>025</th>\n",
              "      <th>05</th>\n",
              "      <th>07</th>\n",
              "      <th>08</th>\n",
              "      <th>10</th>\n",
              "      <th>100</th>\n",
              "      <th>1000</th>\n",
              "      <th>1000mg</th>\n",
              "      <th>100mg</th>\n",
              "      <th>100mgs</th>\n",
              "      <th>105</th>\n",
              "      <th>10lbs</th>\n",
              "      <th>10mg</th>\n",
              "      <th>10mgs</th>\n",
              "      <th>10x</th>\n",
              "      <th>11</th>\n",
              "      <th>115</th>\n",
              "      <th>115lbs</th>\n",
              "      <th>11pm</th>\n",
              "      <th>12</th>\n",
              "      <th>120</th>\n",
              "      <th>1200mg</th>\n",
              "      <th>125</th>\n",
              "      <th>12kg</th>\n",
              "      <th>13</th>\n",
              "      <th>130</th>\n",
              "      <th>130lbs</th>\n",
              "      <th>134</th>\n",
              "      <th>136</th>\n",
              "      <th>14</th>\n",
              "      <th>144</th>\n",
              "      <th>145</th>\n",
              "      <th>147lbs</th>\n",
              "      <th>14th</th>\n",
              "      <th>15</th>\n",
              "      <th>1500</th>\n",
              "      <th>...</th>\n",
              "      <th>yelling</th>\n",
              "      <th>yellow</th>\n",
              "      <th>yellowing</th>\n",
              "      <th>yes</th>\n",
              "      <th>yesterday</th>\n",
              "      <th>yet</th>\n",
              "      <th>yielded</th>\n",
              "      <th>yo</th>\n",
              "      <th>yoga</th>\n",
              "      <th>yogurt</th>\n",
              "      <th>yogurts</th>\n",
              "      <th>yoiu</th>\n",
              "      <th>you</th>\n",
              "      <th>youd</th>\n",
              "      <th>young</th>\n",
              "      <th>younger</th>\n",
              "      <th>your</th>\n",
              "      <th>yourself</th>\n",
              "      <th>youth</th>\n",
              "      <th>yrs</th>\n",
              "      <th>yucky</th>\n",
              "      <th>zantac</th>\n",
              "      <th>zap</th>\n",
              "      <th>zapping</th>\n",
              "      <th>zaps</th>\n",
              "      <th>zero</th>\n",
              "      <th>zinc</th>\n",
              "      <th>zing</th>\n",
              "      <th>zirtek</th>\n",
              "      <th>zithromax</th>\n",
              "      <th>zithromycin</th>\n",
              "      <th>zocor</th>\n",
              "      <th>zofran</th>\n",
              "      <th>zoloft</th>\n",
              "      <th>zombie</th>\n",
              "      <th>zombing</th>\n",
              "      <th>zomig</th>\n",
              "      <th>zyban</th>\n",
              "      <th>zyprexa</th>\n",
              "      <th>zyrtec</th>\n",
              "    </tr>\n",
              "  </thead>\n",
              "  <tbody>\n",
              "    <tr>\n",
              "      <th>feature_count</th>\n",
              "      <td>0</td>\n",
              "      <td>1</td>\n",
              "      <td>2</td>\n",
              "      <td>3</td>\n",
              "      <td>4</td>\n",
              "      <td>5</td>\n",
              "      <td>6</td>\n",
              "      <td>7</td>\n",
              "      <td>8</td>\n",
              "      <td>9</td>\n",
              "      <td>10</td>\n",
              "      <td>11</td>\n",
              "      <td>12</td>\n",
              "      <td>13</td>\n",
              "      <td>14</td>\n",
              "      <td>15</td>\n",
              "      <td>16</td>\n",
              "      <td>17</td>\n",
              "      <td>18</td>\n",
              "      <td>19</td>\n",
              "      <td>20</td>\n",
              "      <td>21</td>\n",
              "      <td>22</td>\n",
              "      <td>23</td>\n",
              "      <td>24</td>\n",
              "      <td>25</td>\n",
              "      <td>26</td>\n",
              "      <td>27</td>\n",
              "      <td>28</td>\n",
              "      <td>29</td>\n",
              "      <td>30</td>\n",
              "      <td>31</td>\n",
              "      <td>32</td>\n",
              "      <td>33</td>\n",
              "      <td>34</td>\n",
              "      <td>35</td>\n",
              "      <td>36</td>\n",
              "      <td>37</td>\n",
              "      <td>38</td>\n",
              "      <td>39</td>\n",
              "      <td>...</td>\n",
              "      <td>7134</td>\n",
              "      <td>7135</td>\n",
              "      <td>7136</td>\n",
              "      <td>7137</td>\n",
              "      <td>7138</td>\n",
              "      <td>7139</td>\n",
              "      <td>7140</td>\n",
              "      <td>7141</td>\n",
              "      <td>7142</td>\n",
              "      <td>7143</td>\n",
              "      <td>7144</td>\n",
              "      <td>7145</td>\n",
              "      <td>7146</td>\n",
              "      <td>7147</td>\n",
              "      <td>7148</td>\n",
              "      <td>7149</td>\n",
              "      <td>7150</td>\n",
              "      <td>7151</td>\n",
              "      <td>7152</td>\n",
              "      <td>7153</td>\n",
              "      <td>7154</td>\n",
              "      <td>7155</td>\n",
              "      <td>7156</td>\n",
              "      <td>7157</td>\n",
              "      <td>7158</td>\n",
              "      <td>7159</td>\n",
              "      <td>7160</td>\n",
              "      <td>7161</td>\n",
              "      <td>7162</td>\n",
              "      <td>7163</td>\n",
              "      <td>7164</td>\n",
              "      <td>7165</td>\n",
              "      <td>7166</td>\n",
              "      <td>7167</td>\n",
              "      <td>7168</td>\n",
              "      <td>7169</td>\n",
              "      <td>7170</td>\n",
              "      <td>7171</td>\n",
              "      <td>7172</td>\n",
              "      <td>7173</td>\n",
              "    </tr>\n",
              "  </tbody>\n",
              "</table>\n",
              "<p>1 rows × 7174 columns</p>\n",
              "</div>"
            ],
            "text/plain": [
              "               00  000  000mg  00pm  ...  zomig  zyban  zyprexa  zyrtec\n",
              "feature_count   0    1      2     3  ...   7170   7171     7172    7173\n",
              "\n",
              "[1 rows x 7174 columns]"
            ]
          },
          "metadata": {
            "tags": []
          },
          "execution_count": 133
        }
      ]
    },
    {
      "cell_type": "markdown",
      "metadata": {
        "id": "5y7t1P40A1Pp",
        "colab_type": "text"
      },
      "source": [
        "Sklearn's HashingVectorizer"
      ]
    },
    {
      "cell_type": "code",
      "metadata": {
        "id": "IPpfcMkv8xjj",
        "colab_type": "code",
        "colab": {}
      },
      "source": [
        "hv = HashingVectorizer()\n",
        "x_train_hv = hv.fit_transform(x_train)\n",
        "x_test_hv = hv.transform(x_test)"
      ],
      "execution_count": 0,
      "outputs": []
    },
    {
      "cell_type": "code",
      "metadata": {
        "id": "IV2OT1oTBV6w",
        "colab_type": "code",
        "outputId": "a72f8ed9-e2e0-4994-fddc-36e93e0a1918",
        "colab": {
          "base_uri": "https://localhost:8080/",
          "height": 34
        }
      },
      "source": [
        "x_train_hv.shape, x_test_hv.shape"
      ],
      "execution_count": 0,
      "outputs": [
        {
          "output_type": "execute_result",
          "data": {
            "text/plain": [
              "((3305, 1048576), (827, 1048576))"
            ]
          },
          "metadata": {
            "tags": []
          },
          "execution_count": 115
        }
      ]
    },
    {
      "cell_type": "code",
      "metadata": {
        "id": "WOI1RRGkBvqK",
        "colab_type": "code",
        "outputId": "75a27d96-fb08-4be7-d8d8-490e21df676d",
        "colab": {
          "base_uri": "https://localhost:8080/",
          "height": 54
        }
      },
      "source": [
        "print(hv.get_params())"
      ],
      "execution_count": 0,
      "outputs": [
        {
          "output_type": "stream",
          "text": [
            "{'alternate_sign': True, 'analyzer': 'word', 'binary': False, 'decode_error': 'strict', 'dtype': <class 'numpy.float64'>, 'encoding': 'utf-8', 'input': 'content', 'lowercase': True, 'n_features': 1048576, 'ngram_range': (1, 1), 'norm': 'l2', 'preprocessor': None, 'stop_words': None, 'strip_accents': None, 'token_pattern': '(?u)\\\\b\\\\w\\\\w+\\\\b', 'tokenizer': None}\n"
          ],
          "name": "stdout"
        }
      ]
    },
    {
      "cell_type": "code",
      "metadata": {
        "id": "EHxEBIaYCDO2",
        "colab_type": "code",
        "colab": {}
      },
      "source": [
        "hv.vocabulary_"
      ],
      "execution_count": 0,
      "outputs": []
    }
  ]
}