{
  "nbformat": 4,
  "nbformat_minor": 0,
  "metadata": {
    "colab": {
      "name": "Text Classification.ipynb",
      "provenance": []
    },
    "kernelspec": {
      "name": "python3",
      "display_name": "Python 3"
    }
  },
  "cells": [
    {
      "cell_type": "markdown",
      "metadata": {
        "id": "zHQ09Wdoys_R",
        "colab_type": "text"
      },
      "source": [
        "# Imports"
      ]
    },
    {
      "cell_type": "code",
      "metadata": {
        "id": "kturMa95uV9F",
        "colab_type": "code",
        "colab": {}
      },
      "source": [
        "import pandas as pd\n",
        "import numpy as np\n",
        "import re\n",
        "import string\n",
        "import matplotlib.pyplot as plt\n",
        "%matplotlib inline\n",
        "import seaborn as sns"
      ],
      "execution_count": 0,
      "outputs": []
    },
    {
      "cell_type": "markdown",
      "metadata": {
        "id": "dQgCKcr2D0F-",
        "colab_type": "text"
      },
      "source": [
        "# Read data in"
      ]
    },
    {
      "cell_type": "code",
      "metadata": {
        "id": "d77mOUVRyyNU",
        "colab_type": "code",
        "outputId": "9b71930a-bdf5-432e-8fd5-d3008c9b1e77",
        "colab": {
          "base_uri": "https://localhost:8080/",
          "height": 51
        }
      },
      "source": [
        "data = pd.read_table('SMSSpamCollection', header = None)\n",
        "data.columns = ['Label', 'Text']"
      ],
      "execution_count": 0,
      "outputs": [
        {
          "output_type": "stream",
          "text": [
            "/usr/local/lib/python3.6/dist-packages/ipykernel_launcher.py:1: FutureWarning: read_table is deprecated, use read_csv instead, passing sep='\\t'.\n",
            "  \"\"\"Entry point for launching an IPython kernel.\n"
          ],
          "name": "stderr"
        }
      ]
    },
    {
      "cell_type": "code",
      "metadata": {
        "id": "lsvXRiSm67Dg",
        "colab_type": "code",
        "outputId": "c7ea0925-1353-4f80-88f6-4f91e0fd497a",
        "colab": {
          "base_uri": "https://localhost:8080/",
          "height": 204
        }
      },
      "source": [
        "data.head()"
      ],
      "execution_count": 0,
      "outputs": [
        {
          "output_type": "execute_result",
          "data": {
            "text/html": [
              "<div>\n",
              "<style scoped>\n",
              "    .dataframe tbody tr th:only-of-type {\n",
              "        vertical-align: middle;\n",
              "    }\n",
              "\n",
              "    .dataframe tbody tr th {\n",
              "        vertical-align: top;\n",
              "    }\n",
              "\n",
              "    .dataframe thead th {\n",
              "        text-align: right;\n",
              "    }\n",
              "</style>\n",
              "<table border=\"1\" class=\"dataframe\">\n",
              "  <thead>\n",
              "    <tr style=\"text-align: right;\">\n",
              "      <th></th>\n",
              "      <th>Label</th>\n",
              "      <th>Text</th>\n",
              "    </tr>\n",
              "  </thead>\n",
              "  <tbody>\n",
              "    <tr>\n",
              "      <th>0</th>\n",
              "      <td>ham</td>\n",
              "      <td>Go until jurong point, crazy.. Available only ...</td>\n",
              "    </tr>\n",
              "    <tr>\n",
              "      <th>1</th>\n",
              "      <td>ham</td>\n",
              "      <td>Ok lar... Joking wif u oni...</td>\n",
              "    </tr>\n",
              "    <tr>\n",
              "      <th>2</th>\n",
              "      <td>spam</td>\n",
              "      <td>Free entry in 2 a wkly comp to win FA Cup fina...</td>\n",
              "    </tr>\n",
              "    <tr>\n",
              "      <th>3</th>\n",
              "      <td>ham</td>\n",
              "      <td>U dun say so early hor... U c already then say...</td>\n",
              "    </tr>\n",
              "    <tr>\n",
              "      <th>4</th>\n",
              "      <td>ham</td>\n",
              "      <td>Nah I don't think he goes to usf, he lives aro...</td>\n",
              "    </tr>\n",
              "  </tbody>\n",
              "</table>\n",
              "</div>"
            ],
            "text/plain": [
              "  Label                                               Text\n",
              "0   ham  Go until jurong point, crazy.. Available only ...\n",
              "1   ham                      Ok lar... Joking wif u oni...\n",
              "2  spam  Free entry in 2 a wkly comp to win FA Cup fina...\n",
              "3   ham  U dun say so early hor... U c already then say...\n",
              "4   ham  Nah I don't think he goes to usf, he lives aro..."
            ]
          },
          "metadata": {
            "tags": []
          },
          "execution_count": 3
        }
      ]
    },
    {
      "cell_type": "markdown",
      "metadata": {
        "id": "L9gMWsrTD3TD",
        "colab_type": "text"
      },
      "source": [
        "# Text Cleaning"
      ]
    },
    {
      "cell_type": "code",
      "metadata": {
        "id": "fUevnVt-68jg",
        "colab_type": "code",
        "colab": {}
      },
      "source": [
        "# Remove words with numbers, punctuations and reduce text to lowercase\n",
        "alphanumeric = lambda x: re.sub(r\"\"\"\\w*\\d\\w*\"\"\", ' ', x)\n",
        "punc_lower = lambda x: re.sub('[%s]' % re.escape(string.punctuation), ' ', x.lower())\n",
        "\n"
      ],
      "execution_count": 0,
      "outputs": []
    },
    {
      "cell_type": "code",
      "metadata": {
        "id": "7KF0sxXJ8iqf",
        "colab_type": "code",
        "colab": {}
      },
      "source": [
        "data['Text'] = data.Text.map(alphanumeric).map(punc_lower)"
      ],
      "execution_count": 0,
      "outputs": []
    },
    {
      "cell_type": "code",
      "metadata": {
        "id": "BTnKoo9s8y7L",
        "colab_type": "code",
        "outputId": "5c9611c0-ad90-46f0-ca4b-8fad8814f8c6",
        "colab": {
          "base_uri": "https://localhost:8080/",
          "height": 204
        }
      },
      "source": [
        "data.head()"
      ],
      "execution_count": 0,
      "outputs": [
        {
          "output_type": "execute_result",
          "data": {
            "text/html": [
              "<div>\n",
              "<style scoped>\n",
              "    .dataframe tbody tr th:only-of-type {\n",
              "        vertical-align: middle;\n",
              "    }\n",
              "\n",
              "    .dataframe tbody tr th {\n",
              "        vertical-align: top;\n",
              "    }\n",
              "\n",
              "    .dataframe thead th {\n",
              "        text-align: right;\n",
              "    }\n",
              "</style>\n",
              "<table border=\"1\" class=\"dataframe\">\n",
              "  <thead>\n",
              "    <tr style=\"text-align: right;\">\n",
              "      <th></th>\n",
              "      <th>Label</th>\n",
              "      <th>Text</th>\n",
              "    </tr>\n",
              "  </thead>\n",
              "  <tbody>\n",
              "    <tr>\n",
              "      <th>0</th>\n",
              "      <td>ham</td>\n",
              "      <td>go until jurong point  crazy   available only ...</td>\n",
              "    </tr>\n",
              "    <tr>\n",
              "      <th>1</th>\n",
              "      <td>ham</td>\n",
              "      <td>ok lar    joking wif u oni</td>\n",
              "    </tr>\n",
              "    <tr>\n",
              "      <th>2</th>\n",
              "      <td>spam</td>\n",
              "      <td>free entry in   a wkly comp to win fa cup fina...</td>\n",
              "    </tr>\n",
              "    <tr>\n",
              "      <th>3</th>\n",
              "      <td>ham</td>\n",
              "      <td>u dun say so early hor    u c already then say</td>\n",
              "    </tr>\n",
              "    <tr>\n",
              "      <th>4</th>\n",
              "      <td>ham</td>\n",
              "      <td>nah i don t think he goes to usf  he lives aro...</td>\n",
              "    </tr>\n",
              "  </tbody>\n",
              "</table>\n",
              "</div>"
            ],
            "text/plain": [
              "  Label                                               Text\n",
              "0   ham  go until jurong point  crazy   available only ...\n",
              "1   ham                      ok lar    joking wif u oni   \n",
              "2  spam  free entry in   a wkly comp to win fa cup fina...\n",
              "3   ham  u dun say so early hor    u c already then say   \n",
              "4   ham  nah i don t think he goes to usf  he lives aro..."
            ]
          },
          "metadata": {
            "tags": []
          },
          "execution_count": 9
        }
      ]
    },
    {
      "cell_type": "markdown",
      "metadata": {
        "id": "EPjLSk_p9xm1",
        "colab_type": "text"
      },
      "source": [
        "# Split data into inputs and outputs\n",
        "To fit a model, the data should be split into inputs and outputs\n",
        "\n",
        "Inputs: Features, Independent Variables\n",
        "\n",
        "Outputs: Outcome, Dependent Variable\n"
      ]
    },
    {
      "cell_type": "code",
      "metadata": {
        "id": "ZNOkXpjX82V7",
        "colab_type": "code",
        "colab": {}
      },
      "source": [
        "# Split data into inputs and outputs\n",
        "X = data.Text # inputs into the model\n",
        "y = data.Label # outputs of the model\n"
      ],
      "execution_count": 0,
      "outputs": []
    },
    {
      "cell_type": "code",
      "metadata": {
        "id": "HD2uVtmA-nPu",
        "colab_type": "code",
        "outputId": "472a9114-7120-4180-ebe5-0802aaa02712",
        "colab": {
          "base_uri": "https://localhost:8080/",
          "height": 119
        }
      },
      "source": [
        "X.head()"
      ],
      "execution_count": 0,
      "outputs": [
        {
          "output_type": "execute_result",
          "data": {
            "text/plain": [
              "0    go until jurong point  crazy   available only ...\n",
              "1                        ok lar    joking wif u oni   \n",
              "2    free entry in   a wkly comp to win fa cup fina...\n",
              "3    u dun say so early hor    u c already then say   \n",
              "4    nah i don t think he goes to usf  he lives aro...\n",
              "Name: Text, dtype: object"
            ]
          },
          "metadata": {
            "tags": []
          },
          "execution_count": 11
        }
      ]
    },
    {
      "cell_type": "code",
      "metadata": {
        "id": "9Z9GYhKb-pkf",
        "colab_type": "code",
        "outputId": "560e9ba7-2b1a-46d8-803c-4cb45d7ee9a4",
        "colab": {
          "base_uri": "https://localhost:8080/",
          "height": 119
        }
      },
      "source": [
        "y.head()"
      ],
      "execution_count": 0,
      "outputs": [
        {
          "output_type": "execute_result",
          "data": {
            "text/plain": [
              "0     ham\n",
              "1     ham\n",
              "2    spam\n",
              "3     ham\n",
              "4     ham\n",
              "Name: Label, dtype: object"
            ]
          },
          "metadata": {
            "tags": []
          },
          "execution_count": 12
        }
      ]
    },
    {
      "cell_type": "markdown",
      "metadata": {
        "id": "kV6PO2JSAbmW",
        "colab_type": "text"
      },
      "source": [
        "## Split the data into train and test .\n",
        "\n",
        "\n",
        "To prevent the issue of overfitting, we divide observations into two sets\n",
        "\n",
        "• A model is fit on the training data and it is evaluated on the test data\n",
        "\n",
        "• This way, you can see if the model generalizes well"
      ]
    },
    {
      "cell_type": "code",
      "metadata": {
        "id": "stTWnHqM-qva",
        "colab_type": "code",
        "colab": {}
      },
      "source": [
        "#Split the data into  train and test\n",
        "from sklearn.model_selection import train_test_split\n",
        "\n",
        "X_train, X_test, y_train, y_test = train_test_split(X, y, test_size=0.3, random_state = 42)\n",
        "# We use test_size = 0.3 to signify the percentage of test data. "
      ],
      "execution_count": 0,
      "outputs": []
    },
    {
      "cell_type": "code",
      "metadata": {
        "id": "hMdzhDulCvXs",
        "colab_type": "code",
        "outputId": "adb1c696-3571-4275-fda4-978be8defca1",
        "colab": {
          "base_uri": "https://localhost:8080/",
          "height": 136
        }
      },
      "source": [
        "print(X_train.head())\n",
        "print(X_train.shape)"
      ],
      "execution_count": 0,
      "outputs": [
        {
          "output_type": "stream",
          "text": [
            "708      quite late lar    ard   anyway i wun b drivin   \n",
            "4338                        on a tuesday night r u   real\n",
            "5029    go chase after her and run her over while she ...\n",
            "4921     g says you never answer your texts  confirm deny\n",
            "2592         still work going on  it is very small house \n",
            "Name: Text, dtype: object\n",
            "(3900,)\n"
          ],
          "name": "stdout"
        }
      ]
    },
    {
      "cell_type": "code",
      "metadata": {
        "id": "XMk2Np0nC4zY",
        "colab_type": "code",
        "outputId": "ce1fbadb-7ba6-42fc-ed8c-2fb77c1c218f",
        "colab": {
          "base_uri": "https://localhost:8080/",
          "height": 136
        }
      },
      "source": [
        "print(y_train.head())\n",
        "print(y_train.shape)"
      ],
      "execution_count": 0,
      "outputs": [
        {
          "output_type": "stream",
          "text": [
            "708     ham\n",
            "4338    ham\n",
            "5029    ham\n",
            "4921    ham\n",
            "2592    ham\n",
            "Name: Label, dtype: object\n",
            "(3900,)\n"
          ],
          "name": "stdout"
        }
      ]
    },
    {
      "cell_type": "code",
      "metadata": {
        "id": "7N3A-7zOC-SI",
        "colab_type": "code",
        "outputId": "12e5e78b-3b63-4187-efe2-47acfcacbbcf",
        "colab": {
          "base_uri": "https://localhost:8080/",
          "height": 136
        }
      },
      "source": [
        "print(X_test.head())\n",
        "print(X_test.shape)"
      ],
      "execution_count": 0,
      "outputs": [
        {
          "output_type": "stream",
          "text": [
            "3245    squeeeeeze   this is christmas hug   if u lik ...\n",
            "944     and also i ve sorta blown him off a couple tim...\n",
            "1044    mmm thats better now i got a roast down me  i...\n",
            "2484        mm have some kanji dont eat anything heavy ok\n",
            "812     so there s a ring that comes with the guys cos...\n",
            "Name: Text, dtype: object\n",
            "(1672,)\n"
          ],
          "name": "stdout"
        }
      ]
    },
    {
      "cell_type": "code",
      "metadata": {
        "id": "Q9YYVPgxDCAf",
        "colab_type": "code",
        "outputId": "0ed1c091-30c4-4579-e49d-55913f41a3a4",
        "colab": {
          "base_uri": "https://localhost:8080/",
          "height": 136
        }
      },
      "source": [
        "print(y_test.head())\n",
        "print(y_test.shape)"
      ],
      "execution_count": 0,
      "outputs": [
        {
          "output_type": "stream",
          "text": [
            "3245    ham\n",
            "944     ham\n",
            "1044    ham\n",
            "2484    ham\n",
            "812     ham\n",
            "Name: Label, dtype: object\n",
            "(1672,)\n"
          ],
          "name": "stdout"
        }
      ]
    },
    {
      "cell_type": "markdown",
      "metadata": {
        "id": "NkmIjOR5DJGa",
        "colab_type": "text"
      },
      "source": [
        "## Numerically encode the Input data."
      ]
    },
    {
      "cell_type": "code",
      "metadata": {
        "id": "SsKQVyNCDGkL",
        "colab_type": "code",
        "outputId": "d8ea039f-0b9e-445b-d02c-d5f4ae3348ea",
        "colab": {
          "base_uri": "https://localhost:8080/",
          "height": 34
        }
      },
      "source": [
        "from sklearn.feature_extraction.text import CountVectorizer\n",
        "cv = CountVectorizer(stop_words= 'english' )\n",
        "\n",
        "X_train_cv = cv.fit_transform(X_train) # fit_transform learns the vocab and one-hot-encodes\n",
        "\n",
        "X_test_cv = cv.transform(X_test) # transform uses the same vocab and one-hot-encodes\n",
        "\n",
        "#Print the dimensions of the training set \n",
        "print(X_train_cv.toarray().shape)"
      ],
      "execution_count": 0,
      "outputs": [
        {
          "output_type": "stream",
          "text": [
            "(3900, 6103)\n"
          ],
          "name": "stdout"
        }
      ]
    },
    {
      "cell_type": "markdown",
      "metadata": {
        "id": "b70eR2hUFkqw",
        "colab_type": "text"
      },
      "source": [
        "## Fit model and predict outcomes"
      ]
    },
    {
      "cell_type": "code",
      "metadata": {
        "id": "gyzfGDM0Fg_b",
        "colab_type": "code",
        "outputId": "eefd3aac-3945-4098-a2ec-ef9b12807132",
        "colab": {
          "base_uri": "https://localhost:8080/",
          "height": 88
        }
      },
      "source": [
        "# Use a logistic regression model \n",
        "from sklearn.linear_model import LogisticRegression\n",
        "lr = LogisticRegression()\n",
        "\n",
        "#Train the model\n",
        "lr.fit(X_train_cv, y_train)\n",
        "\n",
        "#Use the model that was trained on the X_train_cv data and apply to the X_test_cv\n",
        "y_pred_cv = lr.predict(X_test_cv)\n",
        "y_pred_cv"
      ],
      "execution_count": 0,
      "outputs": [
        {
          "output_type": "stream",
          "text": [
            "/usr/local/lib/python3.6/dist-packages/sklearn/linear_model/logistic.py:432: FutureWarning: Default solver will be changed to 'lbfgs' in 0.22. Specify a solver to silence this warning.\n",
            "  FutureWarning)\n"
          ],
          "name": "stderr"
        },
        {
          "output_type": "execute_result",
          "data": {
            "text/plain": [
              "array(['ham', 'ham', 'ham', ..., 'ham', 'spam', 'ham'], dtype=object)"
            ]
          },
          "metadata": {
            "tags": []
          },
          "execution_count": 20
        }
      ]
    },
    {
      "cell_type": "markdown",
      "metadata": {
        "id": "nm1M5xL1HDjO",
        "colab_type": "text"
      },
      "source": [
        "# Evaluate the model\n",
        "\n",
        "After fitting a model on the training data and predicting outcomes for the test data, how\n",
        "do you know if the model is a good fit?\n",
        "\n",
        "Error Metrics\n",
        "\n",
        "• Accuracy = (TP + TN) / All\n",
        "\n",
        "• Precision = TP / (TP + FP)\n",
        "\n",
        "• Recall = TP / (TP + FN)\n",
        "\n",
        "• F1 Score = 2*(P*R)/(P+R)"
      ]
    },
    {
      "cell_type": "code",
      "metadata": {
        "id": "4K0EJErAGeUT",
        "colab_type": "code",
        "outputId": "0708c672-ee4a-4a39-b752-d45e1ec785e8",
        "colab": {
          "base_uri": "https://localhost:8080/",
          "height": 338
        }
      },
      "source": [
        "from sklearn.metrics import confusion_matrix\n",
        "\n",
        "cm = confusion_matrix(y_test, y_pred_cv)\n",
        "\n",
        "sns.heatmap(cm, xticklabels=['predicted_ham', 'predicted_spam'], yticklabels=['actual_ham', 'actual_spam'], annot=True, fmt='d', annot_kws={'fontsize':20}, cmap=\"YlGnBu\");\n",
        "\n",
        "true_negative, false_positive = cm[0]\n",
        "false_negative, true_positive = cm[1]\n",
        "\n",
        "accuracy = round((true_positive + true_negative) / (true_positive + true_negative + false_positive + false_negative), 3)\n",
        "precision = round(true_positive / (true_positive + false_positive))\n",
        "Recall = true_positive / (true_positive + false_negative)\n",
        "f1_score = 2 * (precision * Recall) / (precision + Recall)\n",
        "\n",
        "print('Accuracy: {}'.format(accuracy))\n",
        "print('Precision: {}'.format(precision))\n",
        "print('Recall: {}'.format(Recall))\n",
        "print('F1_score: {}'.format(f1_score))\n",
        "\n"
      ],
      "execution_count": 0,
      "outputs": [
        {
          "output_type": "stream",
          "text": [
            "Accuracy: 0.986\n",
            "Precision: 1.0\n",
            "Recall: 0.8928571428571429\n",
            "F1_score: 0.9433962264150945\n"
          ],
          "name": "stdout"
        },
        {
          "output_type": "display_data",
          "data": {
            "image/png": "[encoded data removed]",
            "text/plain": [
              "<Figure size 432x288 with 2 Axes>"
            ]
          },
          "metadata": {
            "tags": []
          }
        }
      ]
    },
    {
      "cell_type": "markdown",
      "metadata": {
        "id": "EH5uqBodPOd1",
        "colab_type": "text"
      },
      "source": [
        "How good is our model ?"
      ]
    },
    {
      "cell_type": "markdown",
      "metadata": {
        "id": "qrSmFlc7Z5MD",
        "colab_type": "text"
      },
      "source": [
        "# Naive Bayes"
      ]
    },
    {
      "cell_type": "code",
      "metadata": {
        "id": "cX5XhVC1PO7L",
        "colab_type": "code",
        "outputId": "d16f9c18-3e06-4091-ff31-869ce27f0489",
        "colab": {
          "base_uri": "https://localhost:8080/",
          "height": 34
        }
      },
      "source": [
        "# Using a naive bayes model\n",
        "\n",
        "from sklearn.naive_bayes import MultinomialNB\n",
        "nb = MultinomialNB()\n",
        "\n",
        "#Train the model\n",
        "nb.fit(X_train_cv, y_train)\n",
        "\n",
        "# Take the trained model and nd apply it to X_test_cv\n",
        "y_pred_cv_nb = nb.predict(X_test_cv)\n",
        "y_pred_cv_nb"
      ],
      "execution_count": 0,
      "outputs": [
        {
          "output_type": "execute_result",
          "data": {
            "text/plain": [
              "array(['ham', 'ham', 'ham', ..., 'ham', 'spam', 'ham'], dtype='<U4')"
            ]
          },
          "metadata": {
            "tags": []
          },
          "execution_count": 34
        }
      ]
    },
    {
      "cell_type": "code",
      "metadata": {
        "id": "-b4jxr5ZPO9r",
        "colab_type": "code",
        "outputId": "c2cc5305-7c24-4cb3-a526-a7dcef6ee7bf",
        "colab": {
          "base_uri": "https://localhost:8080/",
          "height": 338
        }
      },
      "source": [
        "# Results\n",
        "\n",
        "from sklearn.metrics import confusion_matrix\n",
        "\n",
        "cm = confusion_matrix(y_test, y_pred_cv_nb)\n",
        "\n",
        "sns.heatmap(cm, xticklabels=['predicted_ham', 'predicted_spam'], yticklabels=['actual_ham', 'actual_spam'], annot=True, fmt='d', annot_kws={'fontsize':20}, cmap=\"YlGnBu\");\n",
        "\n",
        "true_negative, false_positive = cm[0]\n",
        "false_negative, true_positive = cm[1]\n",
        "\n",
        "accuracy = round((true_positive + true_negative) / (true_positive + true_negative + false_positive + false_negative), 3)\n",
        "precision = round(true_positive / (true_positive + false_positive))\n",
        "Recall = true_positive / (true_positive + false_negative)\n",
        "f1_score = 2 * (precision * Recall) / (precision + Recall)\n",
        "\n",
        "print('Accuracy: {}'.format(accuracy))\n",
        "print('Precision: {}'.format(precision))\n",
        "print('Recall: {}'.format(Recall))\n",
        "print('F1_score: {}'.format(f1_score))\n"
      ],
      "execution_count": 0,
      "outputs": [
        {
          "output_type": "stream",
          "text": [
            "Accuracy: 0.986\n",
            "Precision: 1.0\n",
            "Recall: 0.9553571428571429\n",
            "F1_score: 0.9771689497716896\n"
          ],
          "name": "stdout"
        },
        {
          "output_type": "display_data",
          "data": {
            "image/png": "[encoded data removed]",
            "text/plain": [
              "<Figure size 432x288 with 2 Axes>"
            ]
          },
          "metadata": {
            "tags": []
          }
        }
      ]
    },
    {
      "cell_type": "code",
      "metadata": {
        "id": "WMbLkwtdPPPH",
        "colab_type": "code",
        "colab": {}
      },
      "source": [
        ""
      ],
      "execution_count": 0,
      "outputs": []
    },
    {
      "cell_type": "code",
      "metadata": {
        "id": "c7rSduGLNp2B",
        "colab_type": "code",
        "colab": {}
      },
      "source": [
        ""
      ],
      "execution_count": 0,
      "outputs": []
    }
  ]
}