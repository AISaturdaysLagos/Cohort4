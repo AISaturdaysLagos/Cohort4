{
 "cells": [
  {
   "cell_type": "markdown",
   "metadata": {},
   "source": [
    "# Machine Learning"
   ]
  },
  {
   "cell_type": "markdown",
   "metadata": {},
   "source": [
    "In this code lab, we treat the concept of machine learning for computer vision. Before we proceed, let's quickly revisit what we did last week; edge detection.\n",
    "\n",
    "#### Edge detection !\n",
    "# ---\n",
    "# ---\n",
    "\n",
    "\n"
   ]
  },
  {
   "cell_type": "markdown",
   "metadata": {},
   "source": [
    "## What is machine learning\n",
    "Machine learning involves using a model/algorithm to give computers/machines the ability to learn without being explicitly programmed. Conventional programming involves using a set of defined rules to instruct a machine to perform a certain task. However, this is not the case in machine learning, Computers learn to perform a task from experience.\n",
    "\n",
    "\n",
    "\n",
    "Machine learning falls under the class of AI algorithms (algorithms used to make machines think or behave humanly or rationally), and it is one that enables computers to learn.\n",
    "\n",
    "### Types of machine learning\n",
    "1. Supervised learning\n",
    "2. Unsupervised learning\n",
    "3. Reinforcement learning\n",
    "\n",
    "In summary, what we do in machine learning is to map an input x, to an output y, using a model. So we build models to map x to y. To build the model, we need several examples of x and y to learn from.\n",
    "\n",
    "In supervised learning, models are built using examples containing x, and y.\n",
    "\n",
    "In unsupervised learning, models are built using just examples containg x with no corresponding y\n",
    "\n",
    "In reinforcement learning, models are built using experiences that generate x and y; no initial examples."
   ]
  },
  {
   "cell_type": "markdown",
   "metadata": {},
   "source": [
    "### Supervised learning\n",
    "1. Regression \n",
    "    - Linear Regression\n",
    "    - Neural Networks\n",
    "    - ...\n",
    "2. Classification\n",
    "    - Logistic Regression, Softmax Regression\n",
    "    - Neural Networks\n",
    "    - Support Vector Machines (SVMs)\n",
    "\n",
    "### Unsupervised learning\n",
    "- Clustering\n",
    "\n",
    "### Reinforcement learning\n",
    "- agent navigation"
   ]
  },
  {
   "cell_type": "markdown",
   "metadata": {},
   "source": [
    "## simple example: image classification"
   ]
  },
  {
   "cell_type": "code",
   "execution_count": 69,
   "metadata": {},
   "outputs": [],
   "source": [
    "import numpy as np\n",
    "import cv2\n",
    "import sklearn as sk\n",
    "from sklearn import datasets, model_selection, neighbors, svm\n",
    "import matplotlib.pyplot as plt"
   ]
  },
  {
   "cell_type": "code",
   "execution_count": 26,
   "metadata": {},
   "outputs": [],
   "source": [
    "digits = datasets.load_digits()\n",
    "x = digits[\"data\"]\n",
    "y = digits[\"target\"]"
   ]
  },
  {
   "cell_type": "code",
   "execution_count": 39,
   "metadata": {},
   "outputs": [
    {
     "data": {
      "image/png": "[encoded data removed]",
      "text/plain": [
       "<Figure size 432x288 with 4 Axes>"
      ]
     },
     "metadata": {
      "needs_background": "light"
     },
     "output_type": "display_data"
    }
   ],
   "source": [
    "fig, axes = plt.subplots(1,4)\n",
    "four_img, four_tgt = digits.images[:4], digits.target[:4]\n",
    "for image, tgt, ax in zip(four_img, four_tgt, axes):       \n",
    "    ax.imshow(image, cmap=\"gray\")\n",
    "    ax.set_title(\"{}\".format(tgt))\n",
    "    ax.axis('off')"
   ]
  },
  {
   "cell_type": "markdown",
   "metadata": {},
   "source": [
    "train test split"
   ]
  },
  {
   "cell_type": "code",
   "execution_count": 52,
   "metadata": {},
   "outputs": [],
   "source": [
    "x_train, x_test, y_train, y_test = model_selection.train_test_split(x, y, test_size=.2)"
   ]
  },
  {
   "cell_type": "markdown",
   "metadata": {},
   "source": [
    "the model : nearest neighbors"
   ]
  },
  {
   "cell_type": "code",
   "execution_count": 57,
   "metadata": {},
   "outputs": [],
   "source": [
    "knn = neighbors.KNeighborsClassifier(n_neighbors=3)\n",
    "knn.fit(x_train, y_train)\n",
    "\n",
    "pred = knn.predict(x_test)\n",
    "actual    = y_test\n"
   ]
  },
  {
   "cell_type": "markdown",
   "metadata": {},
   "source": [
    "how accurate was the model ?"
   ]
  },
  {
   "cell_type": "code",
   "execution_count": 66,
   "metadata": {},
   "outputs": [],
   "source": [
    "accuracy = 1# ? TODO"
   ]
  },
  {
   "cell_type": "code",
   "execution_count": 67,
   "metadata": {},
   "outputs": [
    {
     "name": "stdout",
     "output_type": "stream",
     "text": [
      "1\n"
     ]
    }
   ],
   "source": [
    "print(accuracy)"
   ]
  },
  {
   "cell_type": "markdown",
   "metadata": {},
   "source": [
    "using a different classifier"
   ]
  },
  {
   "cell_type": "code",
   "execution_count": 70,
   "metadata": {},
   "outputs": [],
   "source": [
    "svc = svm.SVC(gamma=0.001) \n",
    "\n",
    "## TODO"
   ]
  },
  {
   "cell_type": "code",
   "execution_count": null,
   "metadata": {},
   "outputs": [],
   "source": []
  }
 ],
 "metadata": {
  "kernelspec": {
   "display_name": "Python 3",
   "language": "python",
   "name": "python3"
  },
  "language_info": {
   "codemirror_mode": {
    "name": "ipython",
    "version": 3
   },
   "file_extension": ".py",
   "mimetype": "text/x-python",
   "name": "python",
   "nbconvert_exporter": "python",
   "pygments_lexer": "ipython3",
   "version": "3.6.9"
  }
 },
 "nbformat": 4,
 "nbformat_minor": 2
}
