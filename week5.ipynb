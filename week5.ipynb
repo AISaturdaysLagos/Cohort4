{
 "cells": [
  {
   "cell_type": "code",
   "execution_count": 11,
   "metadata": {},
   "outputs": [
    {
     "name": "stdout",
     "output_type": "stream",
     "text": [
      "{'first_key': 'This is the Value of the first key', 'second_key': 'This is the Value of the second key', 'third_key': 'This is the Value of the third key'}\n"
     ]
    }
   ],
   "source": [
    "first_dict = {\n",
    "    'first_key': 'This is the Value of the first key',\n",
    "    'second_key': 'This is the Value of the second key',\n",
    "    'third_key': 'This is the Value of the third key'\n",
    "}\n",
    "\n",
    "print(first_dict)"
   ]
  },
  {
   "cell_type": "code",
   "execution_count": 6,
   "metadata": {},
   "outputs": [
    {
     "name": "stdout",
     "output_type": "stream",
     "text": [
      "{'first_name': 'Henry', 'second_name': 'Adeyemi', 'occupation': 'Web Designer'}\n"
     ]
    }
   ],
   "source": [
    "bio = {\n",
    "    'first_name': 'Henry',\n",
    "    'second_name': 'Adeyemi',\n",
    "    'occupation': 'Web Designer'\n",
    "}\n",
    "\n",
    "print(bio)"
   ]
  },
  {
   "cell_type": "code",
   "execution_count": 17,
   "metadata": {},
   "outputs": [
    {
     "name": "stdout",
     "output_type": "stream",
     "text": [
      "Henry\n"
     ]
    }
   ],
   "source": [
    "bio = {\n",
    "    'first_name': 'Henry',\n",
    "    'second_name': 'Adeyemi',\n",
    "    'occupation': 'Web Designer',\n",
    "    'hobbies' : ['dancing', 'singing', 'coding']\n",
    "}\n",
    "\n",
    "print(bio['first_name'])"
   ]
  },
  {
   "cell_type": "code",
   "execution_count": 18,
   "metadata": {},
   "outputs": [
    {
     "name": "stdout",
     "output_type": "stream",
     "text": [
      "This is the Value of the first key\n"
     ]
    }
   ],
   "source": [
    "print(first_dict.get('first_key'))"
   ]
  },
  {
   "cell_type": "code",
   "execution_count": 19,
   "metadata": {},
   "outputs": [
    {
     "name": "stdout",
     "output_type": "stream",
     "text": [
      "singing\n"
     ]
    }
   ],
   "source": [
    "print(bio['hobbies'][1])"
   ]
  },
  {
   "cell_type": "code",
   "execution_count": 20,
   "metadata": {},
   "outputs": [
    {
     "name": "stdout",
     "output_type": "stream",
     "text": [
      "first_name\n",
      "second_name\n",
      "occupation\n",
      "hobbies\n"
     ]
    }
   ],
   "source": [
    "for key in bio:\n",
    "    print(key)"
   ]
  },
  {
   "cell_type": "code",
   "execution_count": 21,
   "metadata": {},
   "outputs": [
    {
     "name": "stdout",
     "output_type": "stream",
     "text": [
      "dancing\n"
     ]
    }
   ],
   "source": [
    "print(bio.get('hobbies')[0])"
   ]
  },
  {
   "cell_type": "code",
   "execution_count": 23,
   "metadata": {},
   "outputs": [
    {
     "name": "stdout",
     "output_type": "stream",
     "text": [
      "the value is: This is the Value of the first key\n",
      "\n",
      "the value is: This is the Value of the second key\n",
      "\n",
      "the value is: This is the Value of the third key\n",
      "\n"
     ]
    }
   ],
   "source": [
    "for key, value in first_dict.items():\n",
    "    print('the value is: ' + value + '\\n')"
   ]
  },
  {
   "cell_type": "code",
   "execution_count": 24,
   "metadata": {},
   "outputs": [
    {
     "name": "stdout",
     "output_type": "stream",
     "text": [
      "{'first_key': 'This is the Value of the first key', 'second_key': 'This is the Value of the second key', 'third_key': 'This is the Value of the third key', 'fourth_key': 'This is the value of the fourth key', 'fifth_key': 'This is the value of the fifth key'}\n"
     ]
    }
   ],
   "source": [
    "first_dict['fourth_key'] = 'This is the value of the fourth key'\n",
    "first_dict['fifth_key'] = 'This is the value of the fifth key'\n",
    "\n",
    "\n",
    "print(first_dict)"
   ]
  },
  {
   "cell_type": "code",
   "execution_count": 26,
   "metadata": {},
   "outputs": [
    {
     "name": "stdout",
     "output_type": "stream",
     "text": [
      "{'first_key': 'This is the Value of the first key', 'third_key': 'This is the Value of the third key', 'fourth_key': 'This is the value of the fourth key'}\n"
     ]
    }
   ],
   "source": [
    "del first_dict['second_key']\n",
    "print(first_dict)"
   ]
  },
  {
   "cell_type": "code",
   "execution_count": 29,
   "metadata": {},
   "outputs": [
    {
     "name": "stdout",
     "output_type": "stream",
     "text": [
      "Indeed 3 is greater than 5\n"
     ]
    }
   ],
   "source": [
    "a = 9\n",
    "b = 5 \n",
    "c = 2\n",
    "if (a > 5):\n",
    "    print(\"Indeed 3 is greater than 5\")\n",
    "else:\n",
    "    print(\"you know nothing\")"
   ]
  },
  {
   "cell_type": "code",
   "execution_count": 1,
   "metadata": {},
   "outputs": [
    {
     "ename": "IndentationError",
     "evalue": "unexpected indent (<ipython-input-1-374a54c02135>, line 2)",
     "output_type": "error",
     "traceback": [
      "\u001b[1;36m  File \u001b[1;32m\"<ipython-input-1-374a54c02135>\"\u001b[1;36m, line \u001b[1;32m2\u001b[0m\n\u001b[1;33m    password = 'Ade'\u001b[0m\n\u001b[1;37m    ^\u001b[0m\n\u001b[1;31mIndentationError\u001b[0m\u001b[1;31m:\u001b[0m unexpected indent\n"
     ]
    }
   ],
   "source": [
    "password = input(\"Enter password: \")\n",
    "    password = 'Ade'\n",
    "    if (password == 'aDe'):\n",
    "        print(\"welcome\")\n",
    "    elif (password == 'ADE'):\n",
    "        print(\"welcome\")\n",
    "    elif (password == password.lower()):\n",
    "        print(\"welcome\")\n",
    "    elif (password == password.capitalize()):\n",
    "        print(\"welcome\")\n",
    "    else:\n",
    "        print(\"wrong password\")"
   ]
  },
  {
   "cell_type": "code",
   "execution_count": null,
   "metadata": {},
   "outputs": [],
   "source": []
  },
  {
   "cell_type": "code",
   "execution_count": null,
   "metadata": {},
   "outputs": [],
   "source": []
  }
 ],
 "metadata": {
  "kernelspec": {
   "display_name": "Python 3",
   "language": "python",
   "name": "python3"
  },
  "language_info": {
   "codemirror_mode": {
    "name": "ipython",
    "version": 3
   },
   "file_extension": ".py",
   "mimetype": "text/x-python",
   "name": "python",
   "nbconvert_exporter": "python",
   "pygments_lexer": "ipython3",
   "version": "3.7.0"
  }
 },
 "nbformat": 4,
 "nbformat_minor": 2
}
