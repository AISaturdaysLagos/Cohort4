{
  "nbformat": 4,
  "nbformat_minor": 0,
  "metadata": {
    "kernelspec": {
      "display_name": "Python 3",
      "language": "python",
      "name": "python3"
    },
    "language_info": {
      "codemirror_mode": {
        "name": "ipython",
        "version": 3
      },
      "file_extension": ".py",
      "mimetype": "text/x-python",
      "name": "python",
      "nbconvert_exporter": "python",
      "pygments_lexer": "ipython3",
      "version": "3.7.0"
    },
    "colab": {
      "name": "Kayode Akanni_DS_Class_Assingment-checkpoint.ipynb",
      "provenance": [],
      "include_colab_link": true
    }
  },
  "cells": [
    {
      "cell_type": "markdown",
      "metadata": {
        "id": "view-in-github",
        "colab_type": "text"
      },
      "source": [
        "<a href=\"https://colab.research.google.com/github/kayodeakanni/Cohort4/blob/master/Kayode_Akanni_DS_Class_Assingment_checkpoint.ipynb\" target=\"_parent\"><img src=\"https://colab.research.google.com/assets/colab-badge.svg\" alt=\"Open In Colab\"/></a>"
      ]
    },
    {
      "cell_type": "code",
      "metadata": {
        "id": "KgXLJZ3l-P6a",
        "colab_type": "code",
        "colab": {}
      },
      "source": [
        "class Car:\n",
        "    \n",
        "def_init_(self,Car_Color, Car_Model, Car_Year, Car_Price):\n",
        "    Self.Color = Car_Color\n",
        "    Self.Model = Car_Model\n",
        "    Self.Year = Car_Year\n",
        "    Self.Price = Car_Price\n",
        "\n",
        "def change_Color(New_Color):\n",
        "        Self.Color = New_Color\n",
        "    \n",
        "        \n",
        "john_Car = Car(\"red\", \"Toyota\", \"2015\", \"6000000\")\n",
        "abigail_Car = Car(\"green\", \"Lexus\", \"2010\", \"1000000\")\n",
        "david_Car = Shirt(\"blue\", \"Nissan\", \"\", \"4000\")\n",
        "\n"
      ],
      "execution_count": 0,
      "outputs": []
    }
  ]
}