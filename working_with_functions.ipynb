{
 "cells": [
  {
   "cell_type": "code",
   "execution_count": 1,
   "metadata": {},
   "outputs": [
    {
     "name": "stdout",
     "output_type": "stream",
     "text": [
      "Hello Somebody!\n"
     ]
    }
   ],
   "source": [
    "# This programme seek to calculate the BMI of individual\n",
    "def say_hello(name):\n",
    "    print(\"Hello \" + name + \"!\")\n",
    "    \n",
    "say_hello(\"Somebody\")"
   ]
  },
  {
   "cell_type": "code",
   "execution_count": 8,
   "metadata": {},
   "outputs": [
    {
     "name": "stdout",
     "output_type": "stream",
     "text": [
      "your BMI is  0.0004722222222222222\n"
     ]
    }
   ],
   "source": [
    "def BMI(height, weight):\n",
    "    print(\"your BMI is \", weight / (height * height))\n",
    "    \n",
    "BMI(60, 1.7)\n",
    "    "
   ]
  },
  {
   "cell_type": "code",
   "execution_count": 2,
   "metadata": {},
   "outputs": [
    {
     "name": "stdout",
     "output_type": "stream",
     "text": [
      "Akanni Oluwa\n"
     ]
    }
   ],
   "source": [
    "def add_name(first_name, last_name = \"Kayode\"):\n",
    "    print(first_name + \" \" + last_name)\n",
    "    \n",
    "add_name(\"Akanni\", \"Oluwa\")\n"
   ]
  },
  {
   "cell_type": "code",
   "execution_count": 15,
   "metadata": {},
   "outputs": [
    {
     "name": "stdout",
     "output_type": "stream",
     "text": [
      "14\n"
     ]
    }
   ],
   "source": [
    "def multiply_by_two(value):\n",
    "    multiplied_value = value * 2\n",
    "    return multiplied_value\n",
    "\n",
    "print(multiply_by_two(7))"
   ]
  },
  {
   "cell_type": "code",
   "execution_count": null,
   "metadata": {},
   "outputs": [],
   "source": []
  }
 ],
 "metadata": {
  "kernelspec": {
   "display_name": "Python 3",
   "language": "python",
   "name": "python3"
  },
  "language_info": {
   "codemirror_mode": {
    "name": "ipython",
    "version": 3
   },
   "file_extension": ".py",
   "mimetype": "text/x-python",
   "name": "python",
   "nbconvert_exporter": "python",
   "pygments_lexer": "ipython3",
   "version": "3.7.0"
  }
 },
 "nbformat": 4,
 "nbformat_minor": 2
}
