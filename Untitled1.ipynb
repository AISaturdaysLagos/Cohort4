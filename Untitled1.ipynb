{
 "cells": [
  {
   "cell_type": "code",
   "execution_count": 4,
   "metadata": {},
   "outputs": [
    {
     "name": "stdout",
     "output_type": "stream",
     "text": [
      "{'hobbies': ['swimming', 'singing', 'dancing', 'movies'], 'state': 'lagos', 'phone_number': '08185333623'}\n"
     ]
    }
   ],
   "source": [
    "personal_information = {\n",
    "    \"hobbies\" : [\"swimming\", \"singing\", \"dancing\", \"movies\"],\n",
    "    \"state\" : \"lagos\",\n",
    "    \"phone_number\" : \"08035341567\"\n",
    "}\n",
    "print(personal_information)"
   ]
  },
  {
   "cell_type": "code",
   "execution_count": null,
   "metadata": {},
   "outputs": [],
   "source": []
  },
  {
   "cell_type": "code",
   "execution_count": null,
   "metadata": {},
   "outputs": [],
   "source": []
  }
 ],
 "metadata": {
  "kernelspec": {
   "display_name": "Python 3",
   "language": "python",
   "name": "python3"
  },
  "language_info": {
   "codemirror_mode": {
    "name": "ipython",
    "version": 3
   },
   "file_extension": ".py",
   "mimetype": "text/x-python",
   "name": "python",
   "nbconvert_exporter": "python",
   "pygments_lexer": "ipython3",
   "version": "3.7.0"
  }
 },
 "nbformat": 4,
 "nbformat_minor": 2
}
