{
  "nbformat": 4,
  "nbformat_minor": 0,
  "metadata": {
    "kernelspec": {
      "display_name": "Python 3",
      "language": "python",
      "name": "python3"
    },
    "language_info": {
      "codemirror_mode": {
        "name": "ipython",
        "version": 3
      },
      "file_extension": ".py",
      "mimetype": "text/x-python",
      "name": "python",
      "nbconvert_exporter": "python",
      "pygments_lexer": "ipython3",
      "version": "3.7.0"
    },
    "colab": {
      "name": "Kayode Akanni - working with dictionary.ipynb",
      "provenance": [],
      "include_colab_link": true
    }
  },
  "cells": [
    {
      "cell_type": "markdown",
      "metadata": {
        "id": "view-in-github",
        "colab_type": "text"
      },
      "source": [
        "<a href=\"https://colab.research.google.com/github/kayodeakanni/Cohort4/blob/master/Kayode_Akanni_working_with_dictionary.ipynb\" target=\"_parent\"><img src=\"https://colab.research.google.com/assets/colab-badge.svg\" alt=\"Open In Colab\"/></a>"
      ]
    },
    {
      "cell_type": "code",
      "metadata": {
        "id": "alLBBjD_-j1H",
        "colab_type": "code",
        "colab": {
          "base_uri": "https://localhost:8080/",
          "height": 35
        },
        "outputId": "9202cd04-7aca-41ea-829c-91d32b38015a"
      },
      "source": [
        "# 1 - Create a dictionary with a list as its second element\n",
        "bio = {\n",
        "    \"first_name\" : \"Kayode\",\n",
        "     \"Sur_name\" : \"Akanni\",\n",
        "    \"hobbies\" : [\"travelling\", \"reading\", \"gaming\", 77, \"dancing\"],\n",
        "    \"phone_no\" : \"08035341567\",\n",
        "    \"occupation\" : \"Designer and Human Capital Developer\"\n",
        "    \n",
        "}\n",
        "\n",
        "# 2 - print the second element\n",
        "print(bio['hobbies'])"
      ],
      "execution_count": 6,
      "outputs": [
        {
          "output_type": "stream",
          "text": [
            "['travelling', 'reading', 'gaming', 77, 'dancing']\n"
          ],
          "name": "stdout"
        }
      ]
    },
    {
      "cell_type": "code",
      "metadata": {
        "id": "MwPn0XN4-j1U",
        "colab_type": "code",
        "colab": {
          "base_uri": "https://localhost:8080/",
          "height": 35
        },
        "outputId": "1f2b3d27-d6a1-4208-d34a-4959654cbfb1"
      },
      "source": [
        "# 3a - Save any item in the fourth element, which is a list in a separate variable\n",
        "second_hobbies = (bio['hobbies'][3])\n",
        "\n",
        "# 3b - print the variable\n",
        "print(second_hobbies)"
      ],
      "execution_count": 2,
      "outputs": [
        {
          "output_type": "stream",
          "text": [
            "77\n"
          ],
          "name": "stdout"
        }
      ]
    },
    {
      "cell_type": "code",
      "metadata": {
        "id": "1BlOy2Gd-j1e",
        "colab_type": "code",
        "colab": {
          "base_uri": "https://localhost:8080/",
          "height": 35
        },
        "outputId": "400f9de8-016a-4fe5-82d8-d814543b53e1"
      },
      "source": [
        "# 3a - Save any item in the first element, which is a list in a separate variable\n",
        "num_two_hobbies = (bio.get(\"hobbies\")[0])\n",
        "\n",
        "# 3b - print the variable\n",
        "print(num_two_hobbies)\n"
      ],
      "execution_count": 3,
      "outputs": [
        {
          "output_type": "stream",
          "text": [
            "travelling\n"
          ],
          "name": "stdout"
        }
      ]
    },
    {
      "cell_type": "code",
      "metadata": {
        "id": "dxYfZUm9-j1n",
        "colab_type": "code",
        "colab": {
          "base_uri": "https://localhost:8080/",
          "height": 35
        },
        "outputId": "2ff0f51e-7d02-4b8c-d293-c7d79a287d2f"
      },
      "source": [
        "# 4 - Delete any item from the dictionary\n",
        "del bio[\"phone_no\"]\n",
        "\n",
        "print(bio)"
      ],
      "execution_count": 8,
      "outputs": [
        {
          "output_type": "stream",
          "text": [
            "{'first_name': 'Kayode', 'Sur_name': 'Akanni', 'hobbies': ['travelling', 'reading', 'gaming', 77, 'dancing'], 'occupation': 'Designer and Human Capital Developer', 'gender': 'Male'}\n"
          ],
          "name": "stdout"
        }
      ]
    },
    {
      "cell_type": "code",
      "metadata": {
        "id": "Utrdaoip-j1w",
        "colab_type": "code",
        "colab": {
          "base_uri": "https://localhost:8080/",
          "height": 55
        },
        "outputId": "71a5b1e5-39a9-46da-96da-c4c0009b9a82"
      },
      "source": [
        "# 5 - Add an item to the dictionary\n",
        "bio[\"gender\"] = \"Male\"\n",
        "print(bio)"
      ],
      "execution_count": 7,
      "outputs": [
        {
          "output_type": "stream",
          "text": [
            "{'first_name': 'Kayode', 'Sur_name': 'Akanni', 'hobbies': ['travelling', 'reading', 'gaming', 77, 'dancing'], 'phone_no': '08035341567', 'occupation': 'Designer and Human Capital Developer', 'gender': 'Male'}\n"
          ],
          "name": "stdout"
        }
      ]
    },
    {
      "cell_type": "code",
      "metadata": {
        "id": "RIGpiLXT-j15",
        "colab_type": "code",
        "colab": {}
      },
      "source": [
        ""
      ],
      "execution_count": 0,
      "outputs": []
    },
    {
      "cell_type": "code",
      "metadata": {
        "id": "3yEi1yKE-j2A",
        "colab_type": "code",
        "colab": {}
      },
      "source": [
        ""
      ],
      "execution_count": 0,
      "outputs": []
    }
  ]
}