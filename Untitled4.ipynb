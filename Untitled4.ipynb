{
  "nbformat": 4,
  "nbformat_minor": 0,
  "metadata": {
    "kernelspec": {
      "display_name": "Python 3",
      "language": "python",
      "name": "python3"
    },
    "language_info": {
      "codemirror_mode": {
        "name": "ipython",
        "version": 3
      },
      "file_extension": ".py",
      "mimetype": "text/x-python",
      "name": "python",
      "nbconvert_exporter": "python",
      "pygments_lexer": "ipython3",
      "version": "3.7.0"
    },
    "colab": {
      "name": "Untitled4.ipynb",
      "provenance": [],
      "include_colab_link": true
    }
  },
  "cells": [
    {
      "cell_type": "markdown",
      "metadata": {
        "id": "view-in-github",
        "colab_type": "text"
      },
      "source": [
        "<a href=\"https://colab.research.google.com/github/kayodeakanni/Cohort4/blob/master/Untitled4.ipynb\" target=\"_parent\"><img src=\"https://colab.research.google.com/assets/colab-badge.svg\" alt=\"Open In Colab\"/></a>"
      ]
    },
    {
      "cell_type": "code",
      "metadata": {
        "id": "2yjSQuBYG9JV",
        "colab_type": "code",
        "colab": {},
        "outputId": "d9cab28e-d125-4666-c483-ccb9e07b580d"
      },
      "source": [
        "import numpy as np\n",
        "a=np.array([1,2,3,4,5])\n",
        "a\n"
      ],
      "execution_count": 0,
      "outputs": [
        {
          "output_type": "execute_result",
          "data": {
            "text/plain": [
              "array([1, 2, 3, 4, 5])"
            ]
          },
          "metadata": {
            "tags": []
          },
          "execution_count": 2
        }
      ]
    },
    {
      "cell_type": "code",
      "metadata": {
        "id": "mZb5iEphG9Jj",
        "colab_type": "code",
        "colab": {},
        "outputId": "2b08150a-7445-4f05-db49-ec63edb115dc"
      },
      "source": [
        "a.shape"
      ],
      "execution_count": 0,
      "outputs": [
        {
          "output_type": "execute_result",
          "data": {
            "text/plain": [
              "(5,)"
            ]
          },
          "metadata": {
            "tags": []
          },
          "execution_count": 3
        }
      ]
    },
    {
      "cell_type": "code",
      "metadata": {
        "id": "wnivN0MvG9Jv",
        "colab_type": "code",
        "colab": {},
        "outputId": "67defe10-006d-4c8e-98da-e3e113252e22"
      },
      "source": [
        "a.dtype # det data type\n"
      ],
      "execution_count": 0,
      "outputs": [
        {
          "output_type": "execute_result",
          "data": {
            "text/plain": [
              "dtype('int32')"
            ]
          },
          "metadata": {
            "tags": []
          },
          "execution_count": 4
        }
      ]
    },
    {
      "cell_type": "code",
      "metadata": {
        "id": "p6Z45RbqG9J5",
        "colab_type": "code",
        "colab": {},
        "outputId": "d97967e8-420c-479f-e93b-0a4ac614ec6e"
      },
      "source": [
        "a+2 # adding 2 to the value in an area"
      ],
      "execution_count": 0,
      "outputs": [
        {
          "output_type": "execute_result",
          "data": {
            "text/plain": [
              "array([3, 4, 5, 6, 7])"
            ]
          },
          "metadata": {
            "tags": []
          },
          "execution_count": 5
        }
      ]
    },
    {
      "cell_type": "code",
      "metadata": {
        "id": "y8Wb0nhiG9KB",
        "colab_type": "code",
        "colab": {},
        "outputId": "b3a82ea9-70ce-43e0-dcce-b30e47ebae08"
      },
      "source": [
        "b=np.array([1,2,3,4,5])\n",
        "b"
      ],
      "execution_count": 0,
      "outputs": [
        {
          "output_type": "execute_result",
          "data": {
            "text/plain": [
              "array([1, 2, 3, 4, 5])"
            ]
          },
          "metadata": {
            "tags": []
          },
          "execution_count": 8
        }
      ]
    },
    {
      "cell_type": "markdown",
      "metadata": {
        "id": "qhV9qEScG9KK",
        "colab_type": "text"
      },
      "source": [
        " Number = [[1,2,4,6,7,8,9], [3,4,5,6,50,7,6]]\n",
        "num =np.array(Number)\n",
        "num"
      ]
    },
    {
      "cell_type": "code",
      "metadata": {
        "id": "5bLhO9VaG9KM",
        "colab_type": "code",
        "colab": {},
        "outputId": "7d0b8f5a-5c36-46c7-c829-8650fd53f92c"
      },
      "source": [
        "num.shape"
      ],
      "execution_count": 0,
      "outputs": [
        {
          "output_type": "execute_result",
          "data": {
            "text/plain": [
              "(2,)"
            ]
          },
          "metadata": {
            "tags": []
          },
          "execution_count": 12
        }
      ]
    },
    {
      "cell_type": "code",
      "metadata": {
        "id": "2Z6ZyDdgG9KS",
        "colab_type": "code",
        "colab": {},
        "outputId": "526bbad3-2d31-4f13-fe32-c8f693712535"
      },
      "source": [
        "d.tolist()"
      ],
      "execution_count": 0,
      "outputs": [
        {
          "output_type": "error",
          "ename": "NameError",
          "evalue": "name 'd' is not defined",
          "traceback": [
            "\u001b[1;31m---------------------------------------------------------------------------\u001b[0m",
            "\u001b[1;31mNameError\u001b[0m                                 Traceback (most recent call last)",
            "\u001b[1;32m<ipython-input-19-349f79ce0c84>\u001b[0m in \u001b[0;36m<module>\u001b[1;34m()\u001b[0m\n\u001b[1;32m----> 1\u001b[1;33m \u001b[0md\u001b[0m\u001b[1;33m.\u001b[0m\u001b[0mtolist\u001b[0m\u001b[1;33m(\u001b[0m\u001b[1;33m)\u001b[0m\u001b[1;33m\u001b[0m\u001b[0m\n\u001b[0m",
            "\u001b[1;31mNameError\u001b[0m: name 'd' is not defined"
          ]
        }
      ]
    },
    {
      "cell_type": "code",
      "metadata": {
        "id": "SWjq4Q7PG9Ka",
        "colab_type": "code",
        "colab": {},
        "outputId": "a8fe6c95-a517-48fb-ce4d-9630e0ed6346"
      },
      "source": [
        "e= np.array([[1,2,4,7,7,8,9], [3,4,5,7,50,7,8]])\n",
        "e"
      ],
      "execution_count": 0,
      "outputs": [
        {
          "output_type": "execute_result",
          "data": {
            "text/plain": [
              "array([[ 1,  2,  4,  7,  7,  8,  9],\n",
              "       [ 3,  4,  5,  7, 50,  7,  8]])"
            ]
          },
          "metadata": {
            "tags": []
          },
          "execution_count": 30
        }
      ]
    },
    {
      "cell_type": "code",
      "metadata": {
        "id": "v_xcIapkG9Kh",
        "colab_type": "code",
        "colab": {},
        "outputId": "a82c547d-5037-4bf9-eb6d-1696e4e2b4c0"
      },
      "source": [
        "e[0,1:-1:2]"
      ],
      "execution_count": 0,
      "outputs": [
        {
          "output_type": "execute_result",
          "data": {
            "text/plain": [
              "array([2, 6, 8])"
            ]
          },
          "metadata": {
            "tags": []
          },
          "execution_count": 26
        }
      ]
    },
    {
      "cell_type": "code",
      "metadata": {
        "id": "upyHAALoG9Ko",
        "colab_type": "code",
        "colab": {},
        "outputId": "03bafbf7-2843-45f6-e275-e58aa38c8629"
      },
      "source": [
        "e(0,1:-1:2)\n"
      ],
      "execution_count": 0,
      "outputs": [
        {
          "output_type": "error",
          "ename": "SyntaxError",
          "evalue": "invalid syntax (<ipython-input-32-6a0fd84a65cb>, line 1)",
          "traceback": [
            "\u001b[1;36m  File \u001b[1;32m\"<ipython-input-32-6a0fd84a65cb>\"\u001b[1;36m, line \u001b[1;32m1\u001b[0m\n\u001b[1;33m    e(0,1:-1:2)\u001b[0m\n\u001b[1;37m         ^\u001b[0m\n\u001b[1;31mSyntaxError\u001b[0m\u001b[1;31m:\u001b[0m invalid syntax\n"
          ]
        }
      ]
    },
    {
      "cell_type": "code",
      "metadata": {
        "id": "QZVRgSNLG9Kv",
        "colab_type": "code",
        "colab": {}
      },
      "source": [
        "Multidim = np.array([[[1,2,3],[4,5,6],[7,8,9,]],[[1,3,5],[6,7,8],[2,4,6]]])\n"
      ],
      "execution_count": 0,
      "outputs": []
    },
    {
      "cell_type": "code",
      "metadata": {
        "id": "2rYDtjF8G9K2",
        "colab_type": "code",
        "colab": {}
      },
      "source": [
        "full = np.full([1,2],20)"
      ],
      "execution_count": 0,
      "outputs": []
    },
    {
      "cell_type": "code",
      "metadata": {
        "id": "vowqwKqKG9K9",
        "colab_type": "code",
        "colab": {},
        "outputId": "525a42f1-e4ea-4a71-e2f1-2f79ac1ba9c0"
      },
      "source": [
        "np.full((3,5),100)\n"
      ],
      "execution_count": 0,
      "outputs": [
        {
          "output_type": "execute_result",
          "data": {
            "text/plain": [
              "array([[100, 100, 100, 100, 100],\n",
              "       [100, 100, 100, 100, 100],\n",
              "       [100, 100, 100, 100, 100]])"
            ]
          },
          "metadata": {
            "tags": []
          },
          "execution_count": 36
        }
      ]
    },
    {
      "cell_type": "code",
      "metadata": {
        "id": "WOpCn0nkG9LC",
        "colab_type": "code",
        "colab": {},
        "outputId": "cd15d140-f34a-4a32-a159-1babd93704fd"
      },
      "source": [
        "np.full_like(e,7)"
      ],
      "execution_count": 0,
      "outputs": [
        {
          "output_type": "execute_result",
          "data": {
            "text/plain": [
              "array([[7, 7, 7, 7, 7, 7, 7],\n",
              "       [7, 7, 7, 7, 7, 7, 7]])"
            ]
          },
          "metadata": {
            "tags": []
          },
          "execution_count": 39
        }
      ]
    },
    {
      "cell_type": "code",
      "metadata": {
        "id": "Lg2bJMtQG9LK",
        "colab_type": "code",
        "colab": {},
        "outputId": "13de04ae-a460-4ad7-89c9-202f5cd41198"
      },
      "source": [
        "# random number\n",
        "np.random.rand(4,2,3,2)"
      ],
      "execution_count": 0,
      "outputs": [
        {
          "output_type": "execute_result",
          "data": {
            "text/plain": [
              "array([[[[0.06053986, 0.48515597],\n",
              "         [0.08905037, 0.37034115],\n",
              "         [0.45518605, 0.23916147]],\n",
              "\n",
              "        [[0.30788854, 0.87682278],\n",
              "         [0.09619509, 0.89274827],\n",
              "         [0.76830345, 0.00376878]]],\n",
              "\n",
              "\n",
              "       [[[0.49299795, 0.57685393],\n",
              "         [0.80723343, 0.54091566],\n",
              "         [0.8737106 , 0.83890295]],\n",
              "\n",
              "        [[0.43000987, 0.39963835],\n",
              "         [0.38371855, 0.89289262],\n",
              "         [0.28027405, 0.74175602]]],\n",
              "\n",
              "\n",
              "       [[[0.65077208, 0.02785401],\n",
              "         [0.58157195, 0.48405426],\n",
              "         [0.08603969, 0.10696285]],\n",
              "\n",
              "        [[0.20543618, 0.07570112],\n",
              "         [0.75135036, 0.40738244],\n",
              "         [0.65301223, 0.05384019]]],\n",
              "\n",
              "\n",
              "       [[[0.49226898, 0.93455841],\n",
              "         [0.64694103, 0.04183805],\n",
              "         [0.05093427, 0.96444463]],\n",
              "\n",
              "        [[0.4102148 , 0.27474389],\n",
              "         [0.71581466, 0.85928918],\n",
              "         [0.90261173, 0.45208681]]]])"
            ]
          },
          "metadata": {
            "tags": []
          },
          "execution_count": 40
        }
      ]
    },
    {
      "cell_type": "code",
      "metadata": {
        "id": "AW2SMoOaG9LQ",
        "colab_type": "code",
        "colab": {},
        "outputId": "0b464864-b1e9-4b49-d3b7-424978a86085"
      },
      "source": [
        "a = np.ones((2,3))\n",
        "print (a)\n",
        "b = np.full((3,2),2)\n",
        "print(b)"
      ],
      "execution_count": 0,
      "outputs": [
        {
          "output_type": "stream",
          "text": [
            "[[1. 1. 1.]\n",
            " [1. 1. 1.]]\n",
            "[[2 2]\n",
            " [2 2]\n",
            " [2 2]]\n"
          ],
          "name": "stdout"
        }
      ]
    },
    {
      "cell_type": "code",
      "metadata": {
        "id": "OHbuvsI_G9LV",
        "colab_type": "code",
        "colab": {},
        "outputId": "ccf1b001-d50e-42d9-9fba-5a13d33dd366"
      },
      "source": [
        "np.matmul(a,b)"
      ],
      "execution_count": 0,
      "outputs": [
        {
          "output_type": "execute_result",
          "data": {
            "text/plain": [
              "array([[6., 6.],\n",
              "       [6., 6.]])"
            ]
          },
          "metadata": {
            "tags": []
          },
          "execution_count": 43
        }
      ]
    },
    {
      "cell_type": "code",
      "metadata": {
        "id": "FvFJDzyuG9Lc",
        "colab_type": "code",
        "colab": {}
      },
      "source": [
        "import numpy as np\n",
        "import cv2\n",
        "%pylab inline\n",
        "import matplot\n"
      ],
      "execution_count": 0,
      "outputs": []
    },
    {
      "cell_type": "code",
      "metadata": {
        "id": "3QW0myjiG9Lh",
        "colab_type": "code",
        "colab": {}
      },
      "source": [
        "import numpy as np\n",
        "from PIL import Image\n",
        "img = image.open(\"Kayode.jpg\")\n",
        "img.load()\n",
        "data = np.asarray(img,dtypes= \"int32\")\n",
        "\n",
        "print(data)"
      ],
      "execution_count": 0,
      "outputs": []
    },
    {
      "cell_type": "code",
      "metadata": {
        "id": "ic3Ktc5RG9Ln",
        "colab_type": "code",
        "colab": {}
      },
      "source": [
        ""
      ],
      "execution_count": 0,
      "outputs": []
    }
  ]
}