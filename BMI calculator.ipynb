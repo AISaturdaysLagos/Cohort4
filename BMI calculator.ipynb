{
 "cells": [
  {
   "cell_type": "code",
   "execution_count": 8,
   "metadata": {
    "scrolled": true
   },
   "outputs": [
    {
     "name": "stdout",
     "output_type": "stream",
     "text": [
      "enter weight: 60\n",
      "enter height: 1.6\n",
      "your body mass index is  60.0\n"
     ]
    }
   ],
   "source": [
    "weight = float(input(\"enter weight: \"))\n",
    "height = float(input(\"enter height: \"))\n",
    "BMI = round(weight / height * height, 1)\n",
    "print(\"your body mass index is \", BMI)"
   ]
  },
  {
   "cell_type": "code",
   "execution_count": 1,
   "metadata": {},
   "outputs": [
    {
     "name": "stdout",
     "output_type": "stream",
     "text": [
      "enter weight: 76\n",
      "enter height: 1.75\n",
      "your body mass index is  76.0\n"
     ]
    }
   ],
   "source": [
    "weight = float(input(\"enter weight: \"))\n",
    "height = float(input(\"enter height: \"))\n",
    "BMI = round(weight / height * height, 1)\n",
    "print(\"your body mass index is \", BMI)"
   ]
  },
  {
   "cell_type": "markdown",
   "metadata": {},
   "source": [
    " weight = float(input(\"enter weight: \"))\n",
    "height = float(input(\"enter height: \"))\n",
    "BMI = round(weight / height * height, 1)\n",
    "print(\"your body mass index is \", BMI)\n",
    " If BMI > 25:\n",
    "   Print ("
   ]
  }
 ],
 "metadata": {
  "kernelspec": {
   "display_name": "Python 3",
   "language": "python",
   "name": "python3"
  },
  "language_info": {
   "codemirror_mode": {
    "name": "ipython",
    "version": 3
   },
   "file_extension": ".py",
   "mimetype": "text/x-python",
   "name": "python",
   "nbconvert_exporter": "python",
   "pygments_lexer": "ipython3",
   "version": "3.7.0"
  }
 },
 "nbformat": 4,
 "nbformat_minor": 2
}
