{
  "nbformat": 4,
  "nbformat_minor": 0,
  "metadata": {
    "colab": {
      "name": "Introduction to Python",
      "provenance": []
    },
    "kernelspec": {
      "name": "python3",
      "display_name": "Python 3"
    }
  },
  "cells": [
    {
      "cell_type": "code",
      "metadata": {
        "id": "2qi-pUHM9LEY",
        "colab_type": "code",
        "colab": {}
      },
      "source": [
        "1 + 1\n",
        "# 2"
      ],
      "execution_count": 0,
      "outputs": []
    },
    {
      "cell_type": "code",
      "metadata": {
        "id": "f_iAWfcqCVW5",
        "colab_type": "code",
        "colab": {}
      },
      "source": [
        "2 * 5\n",
        "# 10"
      ],
      "execution_count": 0,
      "outputs": []
    },
    {
      "cell_type": "code",
      "metadata": {
        "id": "MQQgeeV0Dyjw",
        "colab_type": "code",
        "colab": {}
      },
      "source": [
        ""
      ],
      "execution_count": 0,
      "outputs": []
    },
    {
      "cell_type": "code",
      "metadata": {
        "colab_type": "code",
        "id": "qDUD7gcGDrF5",
        "colab": {}
      },
      "source": [
        "type(10)\n",
        "# int"
      ],
      "execution_count": 0,
      "outputs": []
    },
    {
      "cell_type": "code",
      "metadata": {
        "colab_type": "code",
        "id": "_v8xcTwBDrFs",
        "colab": {}
      },
      "source": [
        "type(10.2)\n",
        "# float"
      ],
      "execution_count": 0,
      "outputs": []
    },
    {
      "cell_type": "code",
      "metadata": {
        "colab_type": "code",
        "id": "n3kMesrbDrFa",
        "colab": {}
      },
      "source": [
        "10 + 0.75\n",
        "# 10.75"
      ],
      "execution_count": 0,
      "outputs": []
    },
    {
      "cell_type": "code",
      "metadata": {
        "id": "e8wztslwssY8",
        "colab_type": "code",
        "colab": {}
      },
      "source": [
        "#Variable\n",
        "\n",
        "#int and Float\n",
        "\n",
        "a = 15\n",
        "b = 5.5"
      ],
      "execution_count": 0,
      "outputs": []
    },
    {
      "cell_type": "code",
      "metadata": {
        "id": "RWCyow5Eyhqf",
        "colab_type": "code",
        "colab": {}
      },
      "source": [
        ""
      ],
      "execution_count": 0,
      "outputs": []
    },
    {
      "cell_type": "code",
      "metadata": {
        "id": "nr6cL1gJupxg",
        "colab_type": "code",
        "colab": {}
      },
      "source": [
        "print (a+b) #Addition"
      ],
      "execution_count": 0,
      "outputs": []
    },
    {
      "cell_type": "code",
      "metadata": {
        "colab_type": "code",
        "id": "TxdPHNt6vSR2",
        "colab": {}
      },
      "source": [
        "\n",
        "print (a-b) #Subtraction"
      ],
      "execution_count": 0,
      "outputs": []
    },
    {
      "cell_type": "code",
      "metadata": {
        "colab_type": "code",
        "id": "OWuJ6148vNb5",
        "colab": {}
      },
      "source": [
        "\n",
        "print (a*b) #Multiplication"
      ],
      "execution_count": 0,
      "outputs": []
    },
    {
      "cell_type": "code",
      "metadata": {
        "id": "wqZqtm3pxBzp",
        "colab_type": "code",
        "colab": {}
      },
      "source": [
        "print (a/b) #True Division"
      ],
      "execution_count": 0,
      "outputs": []
    },
    {
      "cell_type": "code",
      "metadata": {
        "id": "tsy2UhczumTu",
        "colab_type": "code",
        "colab": {}
      },
      "source": [
        "print (a//b) # Floor division"
      ],
      "execution_count": 0,
      "outputs": []
    },
    {
      "cell_type": "code",
      "metadata": {
        "id": "XTqeZqilyL9Y",
        "colab_type": "code",
        "colab": {}
      },
      "source": [
        "print (a % b) # Modolus"
      ],
      "execution_count": 0,
      "outputs": []
    },
    {
      "cell_type": "code",
      "metadata": {
        "id": "B17Kcjxex1wr",
        "colab_type": "code",
        "colab": {}
      },
      "source": [
        "print (a**b) #Exponentiation"
      ],
      "execution_count": 0,
      "outputs": []
    },
    {
      "cell_type": "code",
      "metadata": {
        "id": "a3fbG4QCyeF2",
        "colab_type": "code",
        "colab": {}
      },
      "source": [
        ""
      ],
      "execution_count": 0,
      "outputs": []
    },
    {
      "cell_type": "code",
      "metadata": {
        "id": "mV6G-wKqyRfp",
        "colab_type": "code",
        "colab": {}
      },
      "source": [
        "#String"
      ],
      "execution_count": 0,
      "outputs": []
    },
    {
      "cell_type": "code",
      "metadata": {
        "id": "7Av5eyUms9-D",
        "colab_type": "code",
        "colab": {}
      },
      "source": [
        "first_name = \"Ibrahim \""
      ],
      "execution_count": 0,
      "outputs": []
    },
    {
      "cell_type": "code",
      "metadata": {
        "id": "vZk7OGWeshpy",
        "colab_type": "code",
        "colab": {}
      },
      "source": [
        "second_name = \"Gana\""
      ],
      "execution_count": 0,
      "outputs": []
    },
    {
      "cell_type": "code",
      "metadata": {
        "id": "Ar0iWNU9tRbm",
        "colab_type": "code",
        "colab": {}
      },
      "source": [
        "print(first_name + second_name) //Concatenate"
      ],
      "execution_count": 0,
      "outputs": []
    },
    {
      "cell_type": "code",
      "metadata": {
        "id": "49eQTHCitoBy",
        "colab_type": "code",
        "colab": {}
      },
      "source": [
        "first_name += second_name"
      ],
      "execution_count": 0,
      "outputs": []
    },
    {
      "cell_type": "code",
      "metadata": {
        "id": "yGtzHYactzIO",
        "colab_type": "code",
        "colab": {}
      },
      "source": [
        "print(first_name)"
      ],
      "execution_count": 0,
      "outputs": []
    }
  ]
}