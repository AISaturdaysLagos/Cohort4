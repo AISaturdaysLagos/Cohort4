{
  "nbformat": 4,
  "nbformat_minor": 0,
  "metadata": {
    "colab": {
      "name": "Untitled32.ipynb",
      "provenance": []
    },
    "kernelspec": {
      "name": "python3",
      "display_name": "Python 3"
    }
  },
  "cells": [
    {
      "cell_type": "code",
      "metadata": {
        "id": "S3Up7CWOYkKk",
        "colab_type": "code",
        "outputId": "d71e0241-0def-438c-85e7-97d8e722aae1",
        "colab": {
          "base_uri": "https://localhost:8080/",
          "height": 269
        }
      },
      "source": [
        "def say_greeting(name):\n",
        "  print(\"Hello \" + name)\n",
        "  print(\"Good morning \" + name)\n",
        "  print(\"Ekaaro \" + name)\n",
        "  print(\"Otutu oma \" + name)\n",
        "  print(\"Ina kwana  \" + name)\n",
        "\n",
        "say_greeting(\"Mark\")\n",
        "say_greeting(\"Gabriel\")\n",
        "say_greeting(\"Lucky\")"
      ],
      "execution_count": 0,
      "outputs": [
        {
          "output_type": "stream",
          "text": [
            "Hello Mark\n",
            "Good morning Mark\n",
            "Ekaaro Mark\n",
            "Otutu oma Mark\n",
            "Ina kwana  Mark\n",
            "Hello Gabriel\n",
            "Good morning Gabriel\n",
            "Ekaaro Gabriel\n",
            "Otutu oma Gabriel\n",
            "Ina kwana  Gabriel\n",
            "Hello Lucky\n",
            "Good morning Lucky\n",
            "Ekaaro Lucky\n",
            "Otutu oma Lucky\n",
            "Ina kwana  Lucky\n"
          ],
          "name": "stdout"
        }
      ]
    },
    {
      "cell_type": "code",
      "metadata": {
        "id": "7qYgt3qTanvW",
        "colab_type": "code",
        "outputId": "b8f346d4-d2ab-4c86-ba97-d8ea62a404da",
        "colab": {
          "base_uri": "https://localhost:8080/",
          "height": 34
        }
      },
      "source": [
        "name = \"Mark\"\n",
        "prin"
      ],
      "execution_count": 0,
      "outputs": [
        {
          "output_type": "stream",
          "text": [
            "Mark\n"
          ],
          "name": "stdout"
        }
      ]
    },
    {
      "cell_type": "code",
      "metadata": {
        "id": "pCTvwkUoeSIV",
        "colab_type": "code",
        "colab": {}
      },
      "source": [
        "def my_dog(dog_name, specie):\n",
        "      print(\"My dog's name is \" + dog_name)\n",
        "      print(\"My dog's specie is \" + specie)"
      ],
      "execution_count": 0,
      "outputs": []
    },
    {
      "cell_type": "code",
      "metadata": {
        "id": "a0rKOOl2avMk",
        "colab_type": "code",
        "outputId": "f0bdc6cd-23f7-40bf-b9cc-07e739ddea4f",
        "colab": {
          "base_uri": "https://localhost:8080/",
          "height": 50
        }
      },
      "source": [
        "my_dog(\"Jack\", \"chiwawa\")"
      ],
      "execution_count": 0,
      "outputs": [
        {
          "output_type": "stream",
          "text": [
            "My dog's name is Jack\n",
            "My dog's specie is chiwawa\n"
          ],
          "name": "stdout"
        }
      ]
    },
    {
      "cell_type": "code",
      "metadata": {
        "id": "DNjOdODHfAHE",
        "colab_type": "code",
        "colab": {}
      },
      "source": [
        "def multiply_by_two(value):\n",
        "  multiplied_value = value * 2\n",
        "  return multiplied_value"
      ],
      "execution_count": 0,
      "outputs": []
    },
    {
      "cell_type": "code",
      "metadata": {
        "id": "CirzPt7Vhb5j",
        "colab_type": "code",
        "outputId": "052335ae-ff6e-4fcc-e701-d995dcb49c46",
        "colab": {
          "base_uri": "https://localhost:8080/",
          "height": 34
        }
      },
      "source": [
        "print(multiply_by_two(7))"
      ],
      "execution_count": 0,
      "outputs": [
        {
          "output_type": "stream",
          "text": [
            "14\n"
          ],
          "name": "stdout"
        }
      ]
    },
    {
      "cell_type": "code",
      "metadata": {
        "id": "9y1mfPKakf8b",
        "colab_type": "code",
        "colab": {}
      },
      "source": [
        "class Shirt:\n",
        "  def __init__(shirt_color, shirt_size, shirt_style, shirt_price):\n",
        "    color = shirt_color\n",
        "    size = shirt_size\n",
        "    style = shirt_style\n",
        "    price = shirt_price\n",
        "    \n",
        "  def change_color(new_color):\n",
        "    color = new_color\n",
        "\n",
        "johns_shirt = Shirt(\"red\", \"37\", \"short_sleeve\", )\n",
        "abigails_shirt = Shirt(\"red\", \"42\", \"long_sleeve\")\n",
        "davids_shirt = Shirt(\"blue\", \"33\", \"sleeveless\")\n"
      ],
      "execution_count": 0,
      "outputs": []
    },
    {
      "cell_type": "code",
      "metadata": {
        "id": "PDswMo6FrNd9",
        "colab_type": "code",
        "colab": {}
      },
      "source": [
        "class Dog:\n",
        "  def __init__(self, name, colour, size, breed):\n",
        "    self.name = name\n",
        "    self.colour = colour\n",
        "    self.size = size\n",
        "    self.breed = breed\n",
        "    \n",
        "  def sit(self):\n",
        "      print(\"my dog, \" + self.name + \" is sitting.\")\n",
        "\n",
        "  def bark(self):\n",
        "      print(\"my dog is barking.\")\n",
        "      \n",
        "    \n",
        "\n",
        "  def run(self):\n",
        "      print(\"my dog is running.\")\n"
      ],
      "execution_count": 0,
      "outputs": []
    },
    {
      "cell_type": "code",
      "metadata": {
        "id": "qq6a5f0-v9Az",
        "colab_type": "code",
        "colab": {}
      },
      "source": [
        "my_dog = Dog(\"Jack\", \"blue\", \"big\", \"bulldog\")\n"
      ],
      "execution_count": 0,
      "outputs": []
    },
    {
      "cell_type": "code",
      "metadata": {
        "id": "BGmOpftjxYJJ",
        "colab_type": "code",
        "outputId": "ab1f6f48-e0bb-42f5-def9-120633df7ee6",
        "colab": {
          "base_uri": "https://localhost:8080/",
          "height": 34
        }
      },
      "source": [
        "my_dog.sit()"
      ],
      "execution_count": 0,
      "outputs": [
        {
          "output_type": "stream",
          "text": [
            "my dog is sitting.\n"
          ],
          "name": "stdout"
        }
      ]
    },
    {
      "cell_type": "code",
      "metadata": {
        "id": "GKrUvzGnlVtx",
        "colab_type": "code",
        "outputId": "eb49ed56-3392-4fb7-b3c6-a59b64a2aa07",
        "colab": {
          "base_uri": "https://localhost:8080/",
          "height": 34
        }
      },
      "source": [
        "my_dog.bark()"
      ],
      "execution_count": 0,
      "outputs": [
        {
          "output_type": "stream",
          "text": [
            "my dog is barking.\n"
          ],
          "name": "stdout"
        }
      ]
    },
    {
      "cell_type": "code",
      "metadata": {
        "id": "qOc4h-VIySlA",
        "colab_type": "code",
        "outputId": "64e421f0-8efc-4ad7-e221-06c795463cf0",
        "colab": {
          "base_uri": "https://localhost:8080/",
          "height": 34
        }
      },
      "source": [
        "my_dog.run()"
      ],
      "execution_count": 0,
      "outputs": [
        {
          "output_type": "stream",
          "text": [
            "my dog is running.\n"
          ],
          "name": "stdout"
        }
      ]
    },
    {
      "cell_type": "code",
      "metadata": {
        "id": "2-GauthQyY-X",
        "colab_type": "code",
        "outputId": "8492e083-ac7c-44d6-867a-187f32864904",
        "colab": {
          "base_uri": "https://localhost:8080/",
          "height": 34
        }
      },
      "source": [
        "my_dog.sit()"
      ],
      "execution_count": 0,
      "outputs": [
        {
          "output_type": "stream",
          "text": [
            "my dog, Jack is sitting.\n"
          ],
          "name": "stdout"
        }
      ]
    },
    {
      "cell_type": "code",
      "metadata": {
        "id": "as3W4_3yzBqj",
        "colab_type": "code",
        "colab": {}
      },
      "source": [
        "ebenezers_dog = Dog(\"Simba\", \"red\", \"big\", \"chiwawa\")"
      ],
      "execution_count": 0,
      "outputs": []
    },
    {
      "cell_type": "code",
      "metadata": {
        "id": "OwbIoyupzw3q",
        "colab_type": "code",
        "outputId": "e621dbc3-532e-4590-b2d3-68d7591167b7",
        "colab": {
          "base_uri": "https://localhost:8080/",
          "height": 34
        }
      },
      "source": [
        "ebenezers_dog.sit()"
      ],
      "execution_count": 0,
      "outputs": [
        {
          "output_type": "stream",
          "text": [
            "my dog, Simba is sitting.\n"
          ],
          "name": "stdout"
        }
      ]
    },
    {
      "cell_type": "code",
      "metadata": {
        "id": "M1X5iezuz1u_",
        "colab_type": "code",
        "colab": {}
      },
      "source": [
        ""
      ],
      "execution_count": 0,
      "outputs": []
    }
  ]
}