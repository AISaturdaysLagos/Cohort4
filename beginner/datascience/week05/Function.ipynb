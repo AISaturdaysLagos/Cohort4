{
  "nbformat": 4,
  "nbformat_minor": 0,
  "metadata": {
    "colab": {
      "name": "Untitled33.ipynb",
      "provenance": []
    },
    "kernelspec": {
      "name": "python3",
      "display_name": "Python 3"
    }
  },
  "cells": [
    {
      "cell_type": "code",
      "metadata": {
        "id": "j7gRdhbj1Nls",
        "colab_type": "code",
        "colab": {}
      },
      "source": [
        "#List"
      ],
      "execution_count": 0,
      "outputs": []
    },
    {
      "cell_type": "code",
      "metadata": {
        "id": "m7Lr_m439Z44",
        "colab_type": "code",
        "colab": {}
      },
      "source": [
        "#Tuple "
      ],
      "execution_count": 0,
      "outputs": []
    },
    {
      "cell_type": "code",
      "metadata": {
        "id": "YN-jidZE9d_m",
        "colab_type": "code",
        "colab": {}
      },
      "source": [
        "#Dictionary"
      ],
      "execution_count": 0,
      "outputs": []
    },
    {
      "cell_type": "code",
      "metadata": {
        "id": "hPBgO29P9MBW",
        "colab_type": "code",
        "colab": {}
      },
      "source": [
        "#Function"
      ],
      "execution_count": 0,
      "outputs": []
    },
    {
      "cell_type": "code",
      "metadata": {
        "id": "lsj7O6p-1Z0z",
        "colab_type": "code",
        "colab": {}
      },
      "source": [
        "\n",
        "def add(a,b):\n",
        "  return a + b"
      ],
      "execution_count": 0,
      "outputs": []
    },
    {
      "cell_type": "code",
      "metadata": {
        "id": "sfudcYMw1ntf",
        "colab_type": "code",
        "colab": {}
      },
      "source": [
        "add(4,5)"
      ],
      "execution_count": 0,
      "outputs": []
    },
    {
      "cell_type": "code",
      "metadata": {
        "id": "4FPC786h2qPG",
        "colab_type": "code",
        "colab": {}
      },
      "source": [
        "def sub(a,b):\n",
        "  return a-b"
      ],
      "execution_count": 0,
      "outputs": []
    },
    {
      "cell_type": "code",
      "metadata": {
        "id": "W-jW8t892wxG",
        "colab_type": "code",
        "colab": {}
      },
      "source": [
        "sub(5,4)"
      ],
      "execution_count": 0,
      "outputs": []
    },
    {
      "cell_type": "code",
      "metadata": {
        "id": "yc5N4Yly3NwD",
        "colab_type": "code",
        "colab": {}
      },
      "source": [
        "# BMI Calculator\n",
        "#Formula\n",
        "# BMI = weight / (height * height)\n",
        "\n",
        "def BMI(weight,height):\n",
        "  return weight/(height * height)"
      ],
      "execution_count": 0,
      "outputs": []
    },
    {
      "cell_type": "code",
      "metadata": {
        "id": "g_-u1hLH4jdc",
        "colab_type": "code",
        "colab": {
          "base_uri": "https://localhost:8080/",
          "height": 34
        },
        "outputId": "4b06aa4f-92fe-4c1d-ca6f-740933ee52cf"
      },
      "source": [
        "BMI(56,1.7)"
      ],
      "execution_count": 9,
      "outputs": [
        {
          "output_type": "execute_result",
          "data": {
            "text/plain": [
              "19.377162629757787"
            ]
          },
          "metadata": {
            "tags": []
          },
          "execution_count": 9
        }
      ]
    },
    {
      "cell_type": "code",
      "metadata": {
        "id": "aUCRZV-39I7i",
        "colab_type": "code",
        "colab": {}
      },
      "source": [
        ""
      ],
      "execution_count": 0,
      "outputs": []
    }
  ]
}