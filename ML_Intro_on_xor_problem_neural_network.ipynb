{
  "nbformat": 4,
  "nbformat_minor": 0,
  "metadata": {
    "kernelspec": {
      "display_name": "Python 3",
      "language": "python",
      "name": "python3"
    },
    "language_info": {
      "codemirror_mode": {
        "name": "ipython",
        "version": 3
      },
      "file_extension": ".py",
      "mimetype": "text/x-python",
      "name": "python",
      "nbconvert_exporter": "python",
      "pygments_lexer": "ipython3",
      "version": "3.7.3"
    },
    "colab": {
      "name": "Copy of xor_problem_neural_network.ipynb",
      "provenance": [],
      "include_colab_link": true
    }
  },
  "cells": [
    {
      "cell_type": "markdown",
      "metadata": {
        "id": "view-in-github",
        "colab_type": "text"
      },
      "source": [
        "<a href=\"https://colab.research.google.com/github/kayodeakanni/Cohort4/blob/master/ML_Intro_on_xor_problem_neural_network.ipynb\" target=\"_parent\"><img src=\"https://colab.research.google.com/assets/colab-badge.svg\" alt=\"Open In Colab\"/></a>"
      ]
    },
    {
      "cell_type": "code",
      "metadata": {
        "id": "bMvAP_asHhRt",
        "colab_type": "code",
        "colab": {}
      },
      "source": [
        "import numpy as np"
      ],
      "execution_count": 0,
      "outputs": []
    },
    {
      "cell_type": "markdown",
      "metadata": {
        "id": "1__sleYrHhR5",
        "colab_type": "text"
      },
      "source": [
        "## Prepare Input Data"
      ]
    },
    {
      "cell_type": "code",
      "metadata": {
        "id": "DnXWzxQFHhR-",
        "colab_type": "code",
        "outputId": "e446d6f0-9283-4cc8-af88-44e4168694c1",
        "colab": {}
      },
      "source": [
        "#Creating and arranging input data\n",
        "x1 = [[0, 0, 1, 1]]\n",
        "x2 = [[0, 1, 0, 1]]\n",
        "\n",
        "inputx = np.vstack([x1, x2])\n",
        "inputx = np.transpose(inputx)\n",
        "\n",
        "print(\"x1\", \"x2\")\n",
        "for x in inputx:\n",
        "    print(x)"
      ],
      "execution_count": 0,
      "outputs": [
        {
          "output_type": "stream",
          "text": [
            "x1 x2\n",
            "[0 0]\n",
            "[0 1]\n",
            "[1 0]\n",
            "[1 1]\n"
          ],
          "name": "stdout"
        }
      ]
    },
    {
      "cell_type": "markdown",
      "metadata": {
        "id": "a2Z7mPK1HhSH",
        "colab_type": "text"
      },
      "source": [
        "## Create Neural Network Functions"
      ]
    },
    {
      "cell_type": "code",
      "metadata": {
        "id": "Ty3yVpPTHhSL",
        "colab_type": "code",
        "colab": {}
      },
      "source": [
        "#This is the template all network layers will use to compute their outputs\n",
        "def perceptronlayer(theta, x):\n",
        "    hidden_layer = theta.dot(x)\n",
        "    for i, h in enumerate(hidden_layer):\n",
        "        h = sigmoid(h)\n",
        "        hidden_layer[i] = h\n",
        "    return hidden_layer"
      ],
      "execution_count": 0,
      "outputs": []
    },
    {
      "cell_type": "code",
      "metadata": {
        "id": "_Thfz2WjHhSV",
        "colab_type": "code",
        "colab": {}
      },
      "source": [
        "#This is the first layer of the neural network\n",
        "def layerone(inputx):\n",
        "    \n",
        "    #Creating wheights: NAND wheights     OR weights\n",
        "    theta =   np.array([[30, -20, -20], [-10, 20, 20]])\n",
        "    \n",
        "    #Attach 1 to the input for biasing purposes\n",
        "    inputx = np.hstack(([1], inputx))\n",
        "    \n",
        "    #Shape input as a column vector\n",
        "    inputx.reshape([-1, 1])\n",
        "    \n",
        "    #Apply template to finalize network layer\n",
        "    out = perceptronlayer(theta, inputx)\n",
        "    \n",
        "    return out"
      ],
      "execution_count": 0,
      "outputs": []
    },
    {
      "cell_type": "code",
      "metadata": {
        "id": "OoxYzY5nHhSg",
        "colab_type": "code",
        "colab": {}
      },
      "source": [
        "#This is the output layer of the neural network\n",
        "def outputlayer(inputx):\n",
        "    \n",
        "    #Creating wheights: AND wheights\n",
        "    theta = np.array([[-30, 20, 20]])\n",
        "    \n",
        "    #Attach 1 to the input for biasing purposes\n",
        "    inputx = np.hstack(([1], inputx))\n",
        "    \n",
        "    #Shape input as a column vector\n",
        "    inputx = inputx.reshape([-1, 1])\n",
        "    \n",
        "    #Apply template to finalize network layer\n",
        "    out = perceptronlayer(theta, inputx)\n",
        "    \n",
        "    return out"
      ],
      "execution_count": 0,
      "outputs": []
    },
    {
      "cell_type": "markdown",
      "metadata": {
        "id": "KbcHs8XTHhSq",
        "colab_type": "text"
      },
      "source": [
        "## Create Sigmoid Function"
      ]
    },
    {
      "cell_type": "code",
      "metadata": {
        "id": "iTzR7zdSHhSs",
        "colab_type": "code",
        "colab": {}
      },
      "source": [
        "#Build the sigmoid function\n",
        "def sigmoid(z):\n",
        "    h = 1/(1 + np.exp(-z))\n",
        "    \n",
        "    #Approximate sigmoid output to 1 or 0\n",
        "    if(h > 0.6):\n",
        "        return 1\n",
        "    elif(h < 0.4):\n",
        "        return 0\n",
        "    else:\n",
        "        return \"unsure\""
      ],
      "execution_count": 0,
      "outputs": []
    },
    {
      "cell_type": "markdown",
      "metadata": {
        "id": "HITGhLh_HhS0",
        "colab_type": "text"
      },
      "source": [
        "## Driver Code"
      ]
    },
    {
      "cell_type": "code",
      "metadata": {
        "id": "Ep0z9mKKHhS3",
        "colab_type": "code",
        "outputId": "ebf3a85b-59e4-4bfb-b143-5ec8a7ace26d",
        "colab": {}
      },
      "source": [
        "#Pass in each row of input to the neural network to get each output\n",
        "print(\"Result Truth Table\\n\")\n",
        "for x in inputx:\n",
        "    h = layerone(x)\n",
        "    y = outputlayer(h)\n",
        "    print(\"Input\", x, \"\\t\",\"Output\", y.ravel())"
      ],
      "execution_count": 0,
      "outputs": [
        {
          "output_type": "stream",
          "text": [
            "Result Truth Table\n",
            "\n",
            "Input [0 0] \t Output [0]\n",
            "Input [0 1] \t Output [1]\n",
            "Input [1 0] \t Output [1]\n",
            "Input [1 1] \t Output [0]\n"
          ],
          "name": "stdout"
        }
      ]
    },
    {
      "cell_type": "code",
      "metadata": {
        "id": "TvmTPgjGHhTC",
        "colab_type": "code",
        "colab": {}
      },
      "source": [
        ""
      ],
      "execution_count": 0,
      "outputs": []
    }
  ]
}