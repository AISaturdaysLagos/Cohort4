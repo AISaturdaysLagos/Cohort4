{
  "nbformat": 4,
  "nbformat_minor": 0,
  "metadata": {
    "kernelspec": {
      "display_name": "Python 3",
      "language": "python",
      "name": "python3"
    },
    "language_info": {
      "codemirror_mode": {
        "name": "ipython",
        "version": 3
      },
      "file_extension": ".py",
      "mimetype": "text/x-python",
      "name": "python",
      "nbconvert_exporter": "python",
      "pygments_lexer": "ipython3",
      "version": "3.7.0"
    },
    "colab": {
      "name": "Kayode Akanni - DS Week 4 Assignment.ipynb",
      "provenance": [],
      "collapsed_sections": [],
      "include_colab_link": true
    }
  },
  "cells": [
    {
      "cell_type": "markdown",
      "metadata": {
        "id": "view-in-github",
        "colab_type": "text"
      },
      "source": [
        "<a href=\"https://colab.research.google.com/github/kayodeakanni/Cohort4/blob/master/Kayode_Akanni_DS_Week_4_Assignment.ipynb\" target=\"_parent\"><img src=\"https://colab.research.google.com/assets/colab-badge.svg\" alt=\"Open In Colab\"/></a>"
      ]
    },
    {
      "cell_type": "code",
      "metadata": {
        "id": "NfTz53cTWn0k",
        "colab_type": "code",
        "colab": {}
      },
      "source": [
        "#Name: kayode Akanni\n",
        "#Email: kayodeakanni@gmail.com\n",
        "\n",
        "#Data Types in Python\n",
        "    # i - int\n",
        "    # ii - float\n",
        "    # iii - string\n",
        "    # iv - boolean\n",
        "\n",
        "# 6 keywords in Python\n",
        "    # i - function\n",
        "    # ii - print\n",
        "    # iii - break\n",
        "    # iv - class\n",
        "    # v - return\n",
        "    # vi - if\n",
        "    # vii - else\n",
        "\n",
        "    "
      ],
      "execution_count": 0,
      "outputs": []
    }
  ]
}